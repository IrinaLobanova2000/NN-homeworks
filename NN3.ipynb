{
  "cells": [
    {
      "cell_type": "code",
      "execution_count": null,
      "metadata": {
        "colab": {
          "base_uri": "https://localhost:8080/"
        },
        "id": "DYsRhqbDPEkN",
        "outputId": "5ecc9682-d264-4c63-efb1-e881bb4c81a6"
      },
      "outputs": [
        {
          "output_type": "stream",
          "name": "stdout",
          "text": [
            "Collecting torchmetrics\n",
            "  Downloading torchmetrics-0.6.2-py3-none-any.whl (332 kB)\n",
            "\u001b[?25l\r\u001b[K     |█                               | 10 kB 23.9 MB/s eta 0:00:01\r\u001b[K     |██                              | 20 kB 12.8 MB/s eta 0:00:01\r\u001b[K     |███                             | 30 kB 9.8 MB/s eta 0:00:01\r\u001b[K     |████                            | 40 kB 8.8 MB/s eta 0:00:01\r\u001b[K     |█████                           | 51 kB 5.2 MB/s eta 0:00:01\r\u001b[K     |██████                          | 61 kB 5.7 MB/s eta 0:00:01\r\u001b[K     |███████                         | 71 kB 5.6 MB/s eta 0:00:01\r\u001b[K     |███████▉                        | 81 kB 6.3 MB/s eta 0:00:01\r\u001b[K     |████████▉                       | 92 kB 4.9 MB/s eta 0:00:01\r\u001b[K     |█████████▉                      | 102 kB 5.2 MB/s eta 0:00:01\r\u001b[K     |██████████▉                     | 112 kB 5.2 MB/s eta 0:00:01\r\u001b[K     |███████████▉                    | 122 kB 5.2 MB/s eta 0:00:01\r\u001b[K     |████████████▉                   | 133 kB 5.2 MB/s eta 0:00:01\r\u001b[K     |█████████████▉                  | 143 kB 5.2 MB/s eta 0:00:01\r\u001b[K     |██████████████▉                 | 153 kB 5.2 MB/s eta 0:00:01\r\u001b[K     |███████████████▊                | 163 kB 5.2 MB/s eta 0:00:01\r\u001b[K     |████████████████▊               | 174 kB 5.2 MB/s eta 0:00:01\r\u001b[K     |█████████████████▊              | 184 kB 5.2 MB/s eta 0:00:01\r\u001b[K     |██████████████████▊             | 194 kB 5.2 MB/s eta 0:00:01\r\u001b[K     |███████████████████▊            | 204 kB 5.2 MB/s eta 0:00:01\r\u001b[K     |████████████████████▊           | 215 kB 5.2 MB/s eta 0:00:01\r\u001b[K     |█████████████████████▊          | 225 kB 5.2 MB/s eta 0:00:01\r\u001b[K     |██████████████████████▋         | 235 kB 5.2 MB/s eta 0:00:01\r\u001b[K     |███████████████████████▋        | 245 kB 5.2 MB/s eta 0:00:01\r\u001b[K     |████████████████████████▋       | 256 kB 5.2 MB/s eta 0:00:01\r\u001b[K     |█████████████████████████▋      | 266 kB 5.2 MB/s eta 0:00:01\r\u001b[K     |██████████████████████████▋     | 276 kB 5.2 MB/s eta 0:00:01\r\u001b[K     |███████████████████████████▋    | 286 kB 5.2 MB/s eta 0:00:01\r\u001b[K     |████████████████████████████▋   | 296 kB 5.2 MB/s eta 0:00:01\r\u001b[K     |█████████████████████████████▋  | 307 kB 5.2 MB/s eta 0:00:01\r\u001b[K     |██████████████████████████████▌ | 317 kB 5.2 MB/s eta 0:00:01\r\u001b[K     |███████████████████████████████▌| 327 kB 5.2 MB/s eta 0:00:01\r\u001b[K     |████████████████████████████████| 332 kB 5.2 MB/s \n",
            "\u001b[?25hRequirement already satisfied: torch>=1.3.1 in /usr/local/lib/python3.7/dist-packages (from torchmetrics) (1.10.0+cu111)\n",
            "Requirement already satisfied: packaging in /usr/local/lib/python3.7/dist-packages (from torchmetrics) (21.3)\n",
            "Requirement already satisfied: numpy>=1.17.2 in /usr/local/lib/python3.7/dist-packages (from torchmetrics) (1.19.5)\n",
            "Requirement already satisfied: typing-extensions in /usr/local/lib/python3.7/dist-packages (from torch>=1.3.1->torchmetrics) (3.10.0.2)\n",
            "Requirement already satisfied: pyparsing!=3.0.5,>=2.0.2 in /usr/local/lib/python3.7/dist-packages (from packaging->torchmetrics) (3.0.6)\n",
            "Installing collected packages: torchmetrics\n",
            "Successfully installed torchmetrics-0.6.2\n"
          ]
        }
      ],
      "source": [
        "!pip install torchmetrics"
      ]
    },
    {
      "cell_type": "code",
      "execution_count": null,
      "metadata": {
        "colab": {
          "base_uri": "https://localhost:8080/",
          "height": 898
        },
        "id": "A4u83kTdHkB7",
        "outputId": "a690f5f3-a49e-4e0a-9c05-794957c6652d"
      },
      "outputs": [
        {
          "output_type": "stream",
          "name": "stdout",
          "text": [
            "Collecting ipdb\n",
            "  Downloading ipdb-0.13.9.tar.gz (16 kB)\n",
            "Requirement already satisfied: setuptools in /usr/local/lib/python3.7/dist-packages (from ipdb) (57.4.0)\n",
            "Collecting ipython>=7.17.0\n",
            "  Downloading ipython-7.30.1-py3-none-any.whl (791 kB)\n",
            "\u001b[K     |████████████████████████████████| 791 kB 3.3 MB/s \n",
            "\u001b[?25hRequirement already satisfied: toml>=0.10.2 in /usr/local/lib/python3.7/dist-packages (from ipdb) (0.10.2)\n",
            "Requirement already satisfied: decorator in /usr/local/lib/python3.7/dist-packages (from ipdb) (4.4.2)\n",
            "Requirement already satisfied: pickleshare in /usr/local/lib/python3.7/dist-packages (from ipython>=7.17.0->ipdb) (0.7.5)\n",
            "Requirement already satisfied: matplotlib-inline in /usr/local/lib/python3.7/dist-packages (from ipython>=7.17.0->ipdb) (0.1.3)\n",
            "Requirement already satisfied: pygments in /usr/local/lib/python3.7/dist-packages (from ipython>=7.17.0->ipdb) (2.6.1)\n",
            "Collecting prompt-toolkit!=3.0.0,!=3.0.1,<3.1.0,>=2.0.0\n",
            "  Downloading prompt_toolkit-3.0.24-py3-none-any.whl (374 kB)\n",
            "\u001b[K     |████████████████████████████████| 374 kB 38.7 MB/s \n",
            "\u001b[?25hRequirement already satisfied: backcall in /usr/local/lib/python3.7/dist-packages (from ipython>=7.17.0->ipdb) (0.2.0)\n",
            "Requirement already satisfied: jedi>=0.16 in /usr/local/lib/python3.7/dist-packages (from ipython>=7.17.0->ipdb) (0.18.1)\n",
            "Requirement already satisfied: pexpect>4.3 in /usr/local/lib/python3.7/dist-packages (from ipython>=7.17.0->ipdb) (4.8.0)\n",
            "Requirement already satisfied: traitlets>=4.2 in /usr/local/lib/python3.7/dist-packages (from ipython>=7.17.0->ipdb) (5.1.1)\n",
            "Requirement already satisfied: parso<0.9.0,>=0.8.0 in /usr/local/lib/python3.7/dist-packages (from jedi>=0.16->ipython>=7.17.0->ipdb) (0.8.3)\n",
            "Requirement already satisfied: ptyprocess>=0.5 in /usr/local/lib/python3.7/dist-packages (from pexpect>4.3->ipython>=7.17.0->ipdb) (0.7.0)\n",
            "Requirement already satisfied: wcwidth in /usr/local/lib/python3.7/dist-packages (from prompt-toolkit!=3.0.0,!=3.0.1,<3.1.0,>=2.0.0->ipython>=7.17.0->ipdb) (0.2.5)\n",
            "Building wheels for collected packages: ipdb\n",
            "  Building wheel for ipdb (setup.py) ... \u001b[?25l\u001b[?25hdone\n",
            "  Created wheel for ipdb: filename=ipdb-0.13.9-py3-none-any.whl size=11648 sha256=07f471342536476c060330532fd882ceba8b78807783d4887dce1923e99d7c7c\n",
            "  Stored in directory: /root/.cache/pip/wheels/65/cd/cc/aaf92acae337a28fdd2aa4d632196a59745c8c39f76eaeed01\n",
            "Successfully built ipdb\n",
            "Installing collected packages: prompt-toolkit, ipython, ipdb\n",
            "  Attempting uninstall: prompt-toolkit\n",
            "    Found existing installation: prompt-toolkit 1.0.18\n",
            "    Uninstalling prompt-toolkit-1.0.18:\n",
            "      Successfully uninstalled prompt-toolkit-1.0.18\n",
            "  Attempting uninstall: ipython\n",
            "    Found existing installation: ipython 5.5.0\n",
            "    Uninstalling ipython-5.5.0:\n",
            "      Successfully uninstalled ipython-5.5.0\n",
            "\u001b[31mERROR: pip's dependency resolver does not currently take into account all the packages that are installed. This behaviour is the source of the following dependency conflicts.\n",
            "jupyter-console 5.2.0 requires prompt-toolkit<2.0.0,>=1.0.0, but you have prompt-toolkit 3.0.24 which is incompatible.\n",
            "google-colab 1.0.0 requires ipython~=5.5.0, but you have ipython 7.30.1 which is incompatible.\u001b[0m\n",
            "Successfully installed ipdb-0.13.9 ipython-7.30.1 prompt-toolkit-3.0.24\n"
          ]
        },
        {
          "output_type": "display_data",
          "data": {
            "application/vnd.colab-display-data+json": {
              "pip_warning": {
                "packages": [
                  "IPython",
                  "prompt_toolkit"
                ]
              }
            }
          },
          "metadata": {}
        }
      ],
      "source": [
        "!pip install ipdb"
      ]
    },
    {
      "cell_type": "code",
      "execution_count": null,
      "metadata": {
        "colab": {
          "base_uri": "https://localhost:8080/"
        },
        "id": "niDYTMZ1EH7w",
        "outputId": "06b2cb17-3cb1-4718-8d29-bbff12d5a1e0"
      },
      "outputs": [
        {
          "output_type": "stream",
          "name": "stdout",
          "text": [
            "Requirement already satisfied: ipdb in /usr/local/lib/python3.7/dist-packages (0.13.9)\n",
            "Requirement already satisfied: ipython>=7.17.0 in /usr/local/lib/python3.7/dist-packages (from ipdb) (7.30.1)\n",
            "Requirement already satisfied: toml>=0.10.2 in /usr/local/lib/python3.7/dist-packages (from ipdb) (0.10.2)\n",
            "Requirement already satisfied: setuptools in /usr/local/lib/python3.7/dist-packages (from ipdb) (57.4.0)\n",
            "Requirement already satisfied: decorator in /usr/local/lib/python3.7/dist-packages (from ipdb) (4.4.2)\n",
            "Requirement already satisfied: backcall in /usr/local/lib/python3.7/dist-packages (from ipython>=7.17.0->ipdb) (0.2.0)\n",
            "Requirement already satisfied: matplotlib-inline in /usr/local/lib/python3.7/dist-packages (from ipython>=7.17.0->ipdb) (0.1.3)\n",
            "Requirement already satisfied: pexpect>4.3 in /usr/local/lib/python3.7/dist-packages (from ipython>=7.17.0->ipdb) (4.8.0)\n",
            "Requirement already satisfied: pygments in /usr/local/lib/python3.7/dist-packages (from ipython>=7.17.0->ipdb) (2.6.1)\n",
            "Requirement already satisfied: traitlets>=4.2 in /usr/local/lib/python3.7/dist-packages (from ipython>=7.17.0->ipdb) (5.1.1)\n",
            "Requirement already satisfied: pickleshare in /usr/local/lib/python3.7/dist-packages (from ipython>=7.17.0->ipdb) (0.7.5)\n",
            "Requirement already satisfied: jedi>=0.16 in /usr/local/lib/python3.7/dist-packages (from ipython>=7.17.0->ipdb) (0.18.1)\n",
            "Requirement already satisfied: prompt-toolkit!=3.0.0,!=3.0.1,<3.1.0,>=2.0.0 in /usr/local/lib/python3.7/dist-packages (from ipython>=7.17.0->ipdb) (3.0.24)\n",
            "Requirement already satisfied: parso<0.9.0,>=0.8.0 in /usr/local/lib/python3.7/dist-packages (from jedi>=0.16->ipython>=7.17.0->ipdb) (0.8.3)\n",
            "Requirement already satisfied: ptyprocess>=0.5 in /usr/local/lib/python3.7/dist-packages (from pexpect>4.3->ipython>=7.17.0->ipdb) (0.7.0)\n",
            "Requirement already satisfied: wcwidth in /usr/local/lib/python3.7/dist-packages (from prompt-toolkit!=3.0.0,!=3.0.1,<3.1.0,>=2.0.0->ipython>=7.17.0->ipdb) (0.2.5)\n"
          ]
        }
      ],
      "source": [
        "! pip install ipdb"
      ]
    },
    {
      "cell_type": "code",
      "execution_count": null,
      "metadata": {
        "colab": {
          "base_uri": "https://localhost:8080/",
          "height": 593
        },
        "id": "HFvt8HpZEw3H",
        "outputId": "e50d9126-e1f9-4b0e-a8d0-cd6225071adf"
      },
      "outputs": [
        {
          "output_type": "stream",
          "name": "stdout",
          "text": [
            "Found existing installation: numpy 1.19.5\n",
            "Uninstalling numpy-1.19.5:\n",
            "  Would remove:\n",
            "    /usr/bin/f2py\n",
            "    /usr/local/bin/f2py\n",
            "    /usr/local/bin/f2py3\n",
            "    /usr/local/bin/f2py3.7\n",
            "    /usr/local/lib/python3.7/dist-packages/numpy-1.19.5.dist-info/*\n",
            "    /usr/local/lib/python3.7/dist-packages/numpy.libs/libgfortran-2e0d59d6.so.5.0.0\n",
            "    /usr/local/lib/python3.7/dist-packages/numpy.libs/libopenblasp-r0-09e95953.3.13.so\n",
            "    /usr/local/lib/python3.7/dist-packages/numpy.libs/libquadmath-2d0c479f.so.0.0.0\n",
            "    /usr/local/lib/python3.7/dist-packages/numpy.libs/libz-eb09ad1d.so.1.2.3\n",
            "    /usr/local/lib/python3.7/dist-packages/numpy/*\n",
            "Proceed (y/n)? y\n",
            "  Successfully uninstalled numpy-1.19.5\n",
            "Collecting numpy\n",
            "  Downloading numpy-1.21.5-cp37-cp37m-manylinux_2_12_x86_64.manylinux2010_x86_64.whl (15.7 MB)\n",
            "\u001b[K     |████████████████████████████████| 15.7 MB 5.2 MB/s \n",
            "\u001b[?25hInstalling collected packages: numpy\n",
            "\u001b[31mERROR: pip's dependency resolver does not currently take into account all the packages that are installed. This behaviour is the source of the following dependency conflicts.\n",
            "yellowbrick 1.3.post1 requires numpy<1.20,>=1.16.0, but you have numpy 1.21.5 which is incompatible.\n",
            "google-colab 1.0.0 requires ipython~=5.5.0, but you have ipython 7.30.1 which is incompatible.\n",
            "datascience 0.10.6 requires folium==0.2.1, but you have folium 0.8.3 which is incompatible.\n",
            "albumentations 0.1.12 requires imgaug<0.2.7,>=0.2.5, but you have imgaug 0.2.9 which is incompatible.\u001b[0m\n",
            "Successfully installed numpy-1.21.5\n"
          ]
        },
        {
          "output_type": "display_data",
          "data": {
            "application/vnd.colab-display-data+json": {
              "pip_warning": {
                "packages": [
                  "numpy"
                ]
              }
            }
          },
          "metadata": {}
        },
        {
          "output_type": "stream",
          "name": "stdout",
          "text": [
            "Requirement already satisfied: numpy in /usr/local/lib/python3.7/dist-packages (1.21.5)\n"
          ]
        }
      ],
      "source": [
        "! pip uninstall numpy\n",
        "! pip install numpy -I\n",
        "! pip install numpy -U"
      ]
    },
    {
      "cell_type": "code",
      "execution_count": null,
      "metadata": {
        "id": "hVX9NfWsO-fz"
      },
      "outputs": [],
      "source": [
        "import pandas as pd\n",
        "import numpy as np\n",
        "from string import punctuation\n",
        "from collections import Counter\n",
        "import re\n",
        "from sklearn.model_selection import train_test_split\n",
        "from sklearn.utils import shuffle\n",
        "import torch\n",
        "import torch.nn as nn\n",
        "import torch.nn.functional as F\n",
        "from torch.utils.data import Dataset, DataLoader, RandomSampler, SequentialSampler\n",
        "from torch.nn.utils.rnn import pad_sequence\n",
        "import torch.optim as optim\n",
        "import ipdb\n",
        "import torchmetrics\n",
        "from torchmetrics import F1\n",
        "from torchmetrics.functional import f1, recall\n",
        "import matplotlib.pyplot as plt"
      ]
    },
    {
      "cell_type": "code",
      "execution_count": null,
      "metadata": {
        "colab": {
          "base_uri": "https://localhost:8080/"
        },
        "id": "ZggPe5MxZIUa",
        "outputId": "729f7f4e-a7c7-4f91-b2a4-d1d80b30aeb6"
      },
      "outputs": [
        {
          "output_type": "stream",
          "name": "stdout",
          "text": [
            "--2021-12-29 16:02:59--  https://www.dropbox.com/s/tn6x5f4ybaj34zf/Fake.csv?dl=0\n",
            "Resolving www.dropbox.com (www.dropbox.com)... 162.125.3.18, 2620:100:6018:18::a27d:312\n",
            "Connecting to www.dropbox.com (www.dropbox.com)|162.125.3.18|:443... connected.\n",
            "HTTP request sent, awaiting response... 301 Moved Permanently\n",
            "Location: /s/raw/tn6x5f4ybaj34zf/Fake.csv [following]\n",
            "--2021-12-29 16:02:59--  https://www.dropbox.com/s/raw/tn6x5f4ybaj34zf/Fake.csv\n",
            "Reusing existing connection to www.dropbox.com:443.\n",
            "HTTP request sent, awaiting response... 302 Found\n",
            "Location: https://uce4fa12b46d8fcd6065825560d0.dl.dropboxusercontent.com/cd/0/inline/Bcyzrnw6aUl6gEIlV03UDh5vdZ2u6LdrHIQP6HZYIC1Ypc0l6imQr08Vp3F-qQdHT9GwqNba5u_irI_P8VaovBq4b1KsoI60Dw6nmKkOVh88DkNl0wBB6leeLMs-GdJpKg8JtujqC1bN2eFVLyAsjWHR/file# [following]\n",
            "--2021-12-29 16:03:00--  https://uce4fa12b46d8fcd6065825560d0.dl.dropboxusercontent.com/cd/0/inline/Bcyzrnw6aUl6gEIlV03UDh5vdZ2u6LdrHIQP6HZYIC1Ypc0l6imQr08Vp3F-qQdHT9GwqNba5u_irI_P8VaovBq4b1KsoI60Dw6nmKkOVh88DkNl0wBB6leeLMs-GdJpKg8JtujqC1bN2eFVLyAsjWHR/file\n",
            "Resolving uce4fa12b46d8fcd6065825560d0.dl.dropboxusercontent.com (uce4fa12b46d8fcd6065825560d0.dl.dropboxusercontent.com)... 162.125.3.15, 2620:100:6018:15::a27d:30f\n",
            "Connecting to uce4fa12b46d8fcd6065825560d0.dl.dropboxusercontent.com (uce4fa12b46d8fcd6065825560d0.dl.dropboxusercontent.com)|162.125.3.15|:443... connected.\n",
            "HTTP request sent, awaiting response... 200 OK\n",
            "Length: 62789876 (60M) [text/plain]\n",
            "Saving to: ‘data.csv’\n",
            "\n",
            "data.csv            100%[===================>]  59.88M  83.3MB/s    in 0.7s    \n",
            "\n",
            "2021-12-29 16:03:01 (83.3 MB/s) - ‘data.csv’ saved [62789876/62789876]\n",
            "\n"
          ]
        }
      ],
      "source": [
        "!wget https://www.dropbox.com/s/tn6x5f4ybaj34zf/Fake.csv?dl=0 -O data.csv"
      ]
    },
    {
      "cell_type": "code",
      "execution_count": null,
      "metadata": {
        "colab": {
          "base_uri": "https://localhost:8080/",
          "height": 423
        },
        "id": "xt2Gzm6pN_Aq",
        "outputId": "3003cea1-2495-4dd3-ee07-45b947a1c726"
      },
      "outputs": [
        {
          "output_type": "execute_result",
          "data": {
            "text/html": [
              "\n",
              "  <div id=\"df-643c421e-2765-4d14-b399-56208a42c70c\">\n",
              "    <div class=\"colab-df-container\">\n",
              "      <div>\n",
              "<style scoped>\n",
              "    .dataframe tbody tr th:only-of-type {\n",
              "        vertical-align: middle;\n",
              "    }\n",
              "\n",
              "    .dataframe tbody tr th {\n",
              "        vertical-align: top;\n",
              "    }\n",
              "\n",
              "    .dataframe thead th {\n",
              "        text-align: right;\n",
              "    }\n",
              "</style>\n",
              "<table border=\"1\" class=\"dataframe\">\n",
              "  <thead>\n",
              "    <tr style=\"text-align: right;\">\n",
              "      <th></th>\n",
              "      <th>title</th>\n",
              "      <th>text</th>\n",
              "      <th>subject</th>\n",
              "      <th>date</th>\n",
              "    </tr>\n",
              "  </thead>\n",
              "  <tbody>\n",
              "    <tr>\n",
              "      <th>0</th>\n",
              "      <td>Donald Trump Sends Out Embarrassing New Year’...</td>\n",
              "      <td>Donald Trump just couldn t wish all Americans ...</td>\n",
              "      <td>News</td>\n",
              "      <td>December 31, 2017</td>\n",
              "    </tr>\n",
              "    <tr>\n",
              "      <th>1</th>\n",
              "      <td>Drunk Bragging Trump Staffer Started Russian ...</td>\n",
              "      <td>House Intelligence Committee Chairman Devin Nu...</td>\n",
              "      <td>News</td>\n",
              "      <td>December 31, 2017</td>\n",
              "    </tr>\n",
              "    <tr>\n",
              "      <th>2</th>\n",
              "      <td>Sheriff David Clarke Becomes An Internet Joke...</td>\n",
              "      <td>On Friday, it was revealed that former Milwauk...</td>\n",
              "      <td>News</td>\n",
              "      <td>December 30, 2017</td>\n",
              "    </tr>\n",
              "    <tr>\n",
              "      <th>3</th>\n",
              "      <td>Trump Is So Obsessed He Even Has Obama’s Name...</td>\n",
              "      <td>On Christmas day, Donald Trump announced that ...</td>\n",
              "      <td>News</td>\n",
              "      <td>December 29, 2017</td>\n",
              "    </tr>\n",
              "    <tr>\n",
              "      <th>4</th>\n",
              "      <td>Pope Francis Just Called Out Donald Trump Dur...</td>\n",
              "      <td>Pope Francis used his annual Christmas Day mes...</td>\n",
              "      <td>News</td>\n",
              "      <td>December 25, 2017</td>\n",
              "    </tr>\n",
              "    <tr>\n",
              "      <th>...</th>\n",
              "      <td>...</td>\n",
              "      <td>...</td>\n",
              "      <td>...</td>\n",
              "      <td>...</td>\n",
              "    </tr>\n",
              "    <tr>\n",
              "      <th>23476</th>\n",
              "      <td>McPain: John McCain Furious That Iran Treated ...</td>\n",
              "      <td>21st Century Wire says As 21WIRE reported earl...</td>\n",
              "      <td>Middle-east</td>\n",
              "      <td>January 16, 2016</td>\n",
              "    </tr>\n",
              "    <tr>\n",
              "      <th>23477</th>\n",
              "      <td>JUSTICE? Yahoo Settles E-mail Privacy Class-ac...</td>\n",
              "      <td>21st Century Wire says It s a familiar theme. ...</td>\n",
              "      <td>Middle-east</td>\n",
              "      <td>January 16, 2016</td>\n",
              "    </tr>\n",
              "    <tr>\n",
              "      <th>23478</th>\n",
              "      <td>Sunnistan: US and Allied ‘Safe Zone’ Plan to T...</td>\n",
              "      <td>Patrick Henningsen  21st Century WireRemember ...</td>\n",
              "      <td>Middle-east</td>\n",
              "      <td>January 15, 2016</td>\n",
              "    </tr>\n",
              "    <tr>\n",
              "      <th>23479</th>\n",
              "      <td>How to Blow $700 Million: Al Jazeera America F...</td>\n",
              "      <td>21st Century Wire says Al Jazeera America will...</td>\n",
              "      <td>Middle-east</td>\n",
              "      <td>January 14, 2016</td>\n",
              "    </tr>\n",
              "    <tr>\n",
              "      <th>23480</th>\n",
              "      <td>10 U.S. Navy Sailors Held by Iranian Military ...</td>\n",
              "      <td>21st Century Wire says As 21WIRE predicted in ...</td>\n",
              "      <td>Middle-east</td>\n",
              "      <td>January 12, 2016</td>\n",
              "    </tr>\n",
              "  </tbody>\n",
              "</table>\n",
              "<p>23481 rows × 4 columns</p>\n",
              "</div>\n",
              "      <button class=\"colab-df-convert\" onclick=\"convertToInteractive('df-643c421e-2765-4d14-b399-56208a42c70c')\"\n",
              "              title=\"Convert this dataframe to an interactive table.\"\n",
              "              style=\"display:none;\">\n",
              "        \n",
              "  <svg xmlns=\"http://www.w3.org/2000/svg\" height=\"24px\"viewBox=\"0 0 24 24\"\n",
              "       width=\"24px\">\n",
              "    <path d=\"M0 0h24v24H0V0z\" fill=\"none\"/>\n",
              "    <path d=\"M18.56 5.44l.94 2.06.94-2.06 2.06-.94-2.06-.94-.94-2.06-.94 2.06-2.06.94zm-11 1L8.5 8.5l.94-2.06 2.06-.94-2.06-.94L8.5 2.5l-.94 2.06-2.06.94zm10 10l.94 2.06.94-2.06 2.06-.94-2.06-.94-.94-2.06-.94 2.06-2.06.94z\"/><path d=\"M17.41 7.96l-1.37-1.37c-.4-.4-.92-.59-1.43-.59-.52 0-1.04.2-1.43.59L10.3 9.45l-7.72 7.72c-.78.78-.78 2.05 0 2.83L4 21.41c.39.39.9.59 1.41.59.51 0 1.02-.2 1.41-.59l7.78-7.78 2.81-2.81c.8-.78.8-2.07 0-2.86zM5.41 20L4 18.59l7.72-7.72 1.47 1.35L5.41 20z\"/>\n",
              "  </svg>\n",
              "      </button>\n",
              "      \n",
              "  <style>\n",
              "    .colab-df-container {\n",
              "      display:flex;\n",
              "      flex-wrap:wrap;\n",
              "      gap: 12px;\n",
              "    }\n",
              "\n",
              "    .colab-df-convert {\n",
              "      background-color: #E8F0FE;\n",
              "      border: none;\n",
              "      border-radius: 50%;\n",
              "      cursor: pointer;\n",
              "      display: none;\n",
              "      fill: #1967D2;\n",
              "      height: 32px;\n",
              "      padding: 0 0 0 0;\n",
              "      width: 32px;\n",
              "    }\n",
              "\n",
              "    .colab-df-convert:hover {\n",
              "      background-color: #E2EBFA;\n",
              "      box-shadow: 0px 1px 2px rgba(60, 64, 67, 0.3), 0px 1px 3px 1px rgba(60, 64, 67, 0.15);\n",
              "      fill: #174EA6;\n",
              "    }\n",
              "\n",
              "    [theme=dark] .colab-df-convert {\n",
              "      background-color: #3B4455;\n",
              "      fill: #D2E3FC;\n",
              "    }\n",
              "\n",
              "    [theme=dark] .colab-df-convert:hover {\n",
              "      background-color: #434B5C;\n",
              "      box-shadow: 0px 1px 3px 1px rgba(0, 0, 0, 0.15);\n",
              "      filter: drop-shadow(0px 1px 2px rgba(0, 0, 0, 0.3));\n",
              "      fill: #FFFFFF;\n",
              "    }\n",
              "  </style>\n",
              "\n",
              "      <script>\n",
              "        const buttonEl =\n",
              "          document.querySelector('#df-643c421e-2765-4d14-b399-56208a42c70c button.colab-df-convert');\n",
              "        buttonEl.style.display =\n",
              "          google.colab.kernel.accessAllowed ? 'block' : 'none';\n",
              "\n",
              "        async function convertToInteractive(key) {\n",
              "          const element = document.querySelector('#df-643c421e-2765-4d14-b399-56208a42c70c');\n",
              "          const dataTable =\n",
              "            await google.colab.kernel.invokeFunction('convertToInteractive',\n",
              "                                                     [key], {});\n",
              "          if (!dataTable) return;\n",
              "\n",
              "          const docLinkHtml = 'Like what you see? Visit the ' +\n",
              "            '<a target=\"_blank\" href=https://colab.research.google.com/notebooks/data_table.ipynb>data table notebook</a>'\n",
              "            + ' to learn more about interactive tables.';\n",
              "          element.innerHTML = '';\n",
              "          dataTable['output_type'] = 'display_data';\n",
              "          await google.colab.output.renderOutput(dataTable, element);\n",
              "          const docLink = document.createElement('div');\n",
              "          docLink.innerHTML = docLinkHtml;\n",
              "          element.appendChild(docLink);\n",
              "        }\n",
              "      </script>\n",
              "    </div>\n",
              "  </div>\n",
              "  "
            ],
            "text/plain": [
              "                                                   title  ...               date\n",
              "0       Donald Trump Sends Out Embarrassing New Year’...  ...  December 31, 2017\n",
              "1       Drunk Bragging Trump Staffer Started Russian ...  ...  December 31, 2017\n",
              "2       Sheriff David Clarke Becomes An Internet Joke...  ...  December 30, 2017\n",
              "3       Trump Is So Obsessed He Even Has Obama’s Name...  ...  December 29, 2017\n",
              "4       Pope Francis Just Called Out Donald Trump Dur...  ...  December 25, 2017\n",
              "...                                                  ...  ...                ...\n",
              "23476  McPain: John McCain Furious That Iran Treated ...  ...   January 16, 2016\n",
              "23477  JUSTICE? Yahoo Settles E-mail Privacy Class-ac...  ...   January 16, 2016\n",
              "23478  Sunnistan: US and Allied ‘Safe Zone’ Plan to T...  ...   January 15, 2016\n",
              "23479  How to Blow $700 Million: Al Jazeera America F...  ...   January 14, 2016\n",
              "23480  10 U.S. Navy Sailors Held by Iranian Military ...  ...   January 12, 2016\n",
              "\n",
              "[23481 rows x 4 columns]"
            ]
          },
          "metadata": {},
          "execution_count": 7
        }
      ],
      "source": [
        "all_news_data = pd.read_csv('data.csv', encoding='utf-8', header=0, names=['title','text','subject','date'])\n",
        "all_news_data\n"
      ]
    },
    {
      "cell_type": "code",
      "execution_count": null,
      "metadata": {
        "id": "qu3s1YwUPL9n"
      },
      "outputs": [],
      "source": [
        "def cleaning(data):\n",
        "  data = data.lower()\n",
        "  data = re.sub(r'[^A-za-z]+', ' ', data)\n",
        "  return data"
      ]
    },
    {
      "cell_type": "code",
      "execution_count": null,
      "metadata": {
        "colab": {
          "base_uri": "https://localhost:8080/",
          "height": 641
        },
        "id": "YwzKnbN2PMUG",
        "outputId": "1c6a8e40-97ae-4407-ab03-217b66ab4180"
      },
      "outputs": [
        {
          "output_type": "execute_result",
          "data": {
            "text/html": [
              "\n",
              "  <div id=\"df-13b5f0ea-6ef8-4e7d-89ec-419d538565c0\">\n",
              "    <div class=\"colab-df-container\">\n",
              "      <div>\n",
              "<style scoped>\n",
              "    .dataframe tbody tr th:only-of-type {\n",
              "        vertical-align: middle;\n",
              "    }\n",
              "\n",
              "    .dataframe tbody tr th {\n",
              "        vertical-align: top;\n",
              "    }\n",
              "\n",
              "    .dataframe thead th {\n",
              "        text-align: right;\n",
              "    }\n",
              "</style>\n",
              "<table border=\"1\" class=\"dataframe\">\n",
              "  <thead>\n",
              "    <tr style=\"text-align: right;\">\n",
              "      <th></th>\n",
              "      <th>title</th>\n",
              "      <th>text</th>\n",
              "      <th>subject</th>\n",
              "      <th>date</th>\n",
              "      <th>cleaned</th>\n",
              "    </tr>\n",
              "  </thead>\n",
              "  <tbody>\n",
              "    <tr>\n",
              "      <th>0</th>\n",
              "      <td>Donald Trump Sends Out Embarrassing New Year’...</td>\n",
              "      <td>Donald Trump just couldn t wish all Americans ...</td>\n",
              "      <td>News</td>\n",
              "      <td>December 31, 2017</td>\n",
              "      <td>donald trump just couldn t wish all americans ...</td>\n",
              "    </tr>\n",
              "    <tr>\n",
              "      <th>1</th>\n",
              "      <td>Drunk Bragging Trump Staffer Started Russian ...</td>\n",
              "      <td>House Intelligence Committee Chairman Devin Nu...</td>\n",
              "      <td>News</td>\n",
              "      <td>December 31, 2017</td>\n",
              "      <td>house intelligence committee chairman devin nu...</td>\n",
              "    </tr>\n",
              "    <tr>\n",
              "      <th>2</th>\n",
              "      <td>Sheriff David Clarke Becomes An Internet Joke...</td>\n",
              "      <td>On Friday, it was revealed that former Milwauk...</td>\n",
              "      <td>News</td>\n",
              "      <td>December 30, 2017</td>\n",
              "      <td>on friday it was revealed that former milwauke...</td>\n",
              "    </tr>\n",
              "    <tr>\n",
              "      <th>3</th>\n",
              "      <td>Trump Is So Obsessed He Even Has Obama’s Name...</td>\n",
              "      <td>On Christmas day, Donald Trump announced that ...</td>\n",
              "      <td>News</td>\n",
              "      <td>December 29, 2017</td>\n",
              "      <td>on christmas day donald trump announced that h...</td>\n",
              "    </tr>\n",
              "    <tr>\n",
              "      <th>4</th>\n",
              "      <td>Pope Francis Just Called Out Donald Trump Dur...</td>\n",
              "      <td>Pope Francis used his annual Christmas Day mes...</td>\n",
              "      <td>News</td>\n",
              "      <td>December 25, 2017</td>\n",
              "      <td>pope francis used his annual christmas day mes...</td>\n",
              "    </tr>\n",
              "    <tr>\n",
              "      <th>...</th>\n",
              "      <td>...</td>\n",
              "      <td>...</td>\n",
              "      <td>...</td>\n",
              "      <td>...</td>\n",
              "      <td>...</td>\n",
              "    </tr>\n",
              "    <tr>\n",
              "      <th>23476</th>\n",
              "      <td>McPain: John McCain Furious That Iran Treated ...</td>\n",
              "      <td>21st Century Wire says As 21WIRE reported earl...</td>\n",
              "      <td>Middle-east</td>\n",
              "      <td>January 16, 2016</td>\n",
              "      <td>st century wire says as wire reported earlier...</td>\n",
              "    </tr>\n",
              "    <tr>\n",
              "      <th>23477</th>\n",
              "      <td>JUSTICE? Yahoo Settles E-mail Privacy Class-ac...</td>\n",
              "      <td>21st Century Wire says It s a familiar theme. ...</td>\n",
              "      <td>Middle-east</td>\n",
              "      <td>January 16, 2016</td>\n",
              "      <td>st century wire says it s a familiar theme wh...</td>\n",
              "    </tr>\n",
              "    <tr>\n",
              "      <th>23478</th>\n",
              "      <td>Sunnistan: US and Allied ‘Safe Zone’ Plan to T...</td>\n",
              "      <td>Patrick Henningsen  21st Century WireRemember ...</td>\n",
              "      <td>Middle-east</td>\n",
              "      <td>January 15, 2016</td>\n",
              "      <td>patrick henningsen st century wireremember whe...</td>\n",
              "    </tr>\n",
              "    <tr>\n",
              "      <th>23479</th>\n",
              "      <td>How to Blow $700 Million: Al Jazeera America F...</td>\n",
              "      <td>21st Century Wire says Al Jazeera America will...</td>\n",
              "      <td>Middle-east</td>\n",
              "      <td>January 14, 2016</td>\n",
              "      <td>st century wire says al jazeera america will ...</td>\n",
              "    </tr>\n",
              "    <tr>\n",
              "      <th>23480</th>\n",
              "      <td>10 U.S. Navy Sailors Held by Iranian Military ...</td>\n",
              "      <td>21st Century Wire says As 21WIRE predicted in ...</td>\n",
              "      <td>Middle-east</td>\n",
              "      <td>January 12, 2016</td>\n",
              "      <td>st century wire says as wire predicted in its...</td>\n",
              "    </tr>\n",
              "  </tbody>\n",
              "</table>\n",
              "<p>23481 rows × 5 columns</p>\n",
              "</div>\n",
              "      <button class=\"colab-df-convert\" onclick=\"convertToInteractive('df-13b5f0ea-6ef8-4e7d-89ec-419d538565c0')\"\n",
              "              title=\"Convert this dataframe to an interactive table.\"\n",
              "              style=\"display:none;\">\n",
              "        \n",
              "  <svg xmlns=\"http://www.w3.org/2000/svg\" height=\"24px\"viewBox=\"0 0 24 24\"\n",
              "       width=\"24px\">\n",
              "    <path d=\"M0 0h24v24H0V0z\" fill=\"none\"/>\n",
              "    <path d=\"M18.56 5.44l.94 2.06.94-2.06 2.06-.94-2.06-.94-.94-2.06-.94 2.06-2.06.94zm-11 1L8.5 8.5l.94-2.06 2.06-.94-2.06-.94L8.5 2.5l-.94 2.06-2.06.94zm10 10l.94 2.06.94-2.06 2.06-.94-2.06-.94-.94-2.06-.94 2.06-2.06.94z\"/><path d=\"M17.41 7.96l-1.37-1.37c-.4-.4-.92-.59-1.43-.59-.52 0-1.04.2-1.43.59L10.3 9.45l-7.72 7.72c-.78.78-.78 2.05 0 2.83L4 21.41c.39.39.9.59 1.41.59.51 0 1.02-.2 1.41-.59l7.78-7.78 2.81-2.81c.8-.78.8-2.07 0-2.86zM5.41 20L4 18.59l7.72-7.72 1.47 1.35L5.41 20z\"/>\n",
              "  </svg>\n",
              "      </button>\n",
              "      \n",
              "  <style>\n",
              "    .colab-df-container {\n",
              "      display:flex;\n",
              "      flex-wrap:wrap;\n",
              "      gap: 12px;\n",
              "    }\n",
              "\n",
              "    .colab-df-convert {\n",
              "      background-color: #E8F0FE;\n",
              "      border: none;\n",
              "      border-radius: 50%;\n",
              "      cursor: pointer;\n",
              "      display: none;\n",
              "      fill: #1967D2;\n",
              "      height: 32px;\n",
              "      padding: 0 0 0 0;\n",
              "      width: 32px;\n",
              "    }\n",
              "\n",
              "    .colab-df-convert:hover {\n",
              "      background-color: #E2EBFA;\n",
              "      box-shadow: 0px 1px 2px rgba(60, 64, 67, 0.3), 0px 1px 3px 1px rgba(60, 64, 67, 0.15);\n",
              "      fill: #174EA6;\n",
              "    }\n",
              "\n",
              "    [theme=dark] .colab-df-convert {\n",
              "      background-color: #3B4455;\n",
              "      fill: #D2E3FC;\n",
              "    }\n",
              "\n",
              "    [theme=dark] .colab-df-convert:hover {\n",
              "      background-color: #434B5C;\n",
              "      box-shadow: 0px 1px 3px 1px rgba(0, 0, 0, 0.15);\n",
              "      filter: drop-shadow(0px 1px 2px rgba(0, 0, 0, 0.3));\n",
              "      fill: #FFFFFF;\n",
              "    }\n",
              "  </style>\n",
              "\n",
              "      <script>\n",
              "        const buttonEl =\n",
              "          document.querySelector('#df-13b5f0ea-6ef8-4e7d-89ec-419d538565c0 button.colab-df-convert');\n",
              "        buttonEl.style.display =\n",
              "          google.colab.kernel.accessAllowed ? 'block' : 'none';\n",
              "\n",
              "        async function convertToInteractive(key) {\n",
              "          const element = document.querySelector('#df-13b5f0ea-6ef8-4e7d-89ec-419d538565c0');\n",
              "          const dataTable =\n",
              "            await google.colab.kernel.invokeFunction('convertToInteractive',\n",
              "                                                     [key], {});\n",
              "          if (!dataTable) return;\n",
              "\n",
              "          const docLinkHtml = 'Like what you see? Visit the ' +\n",
              "            '<a target=\"_blank\" href=https://colab.research.google.com/notebooks/data_table.ipynb>data table notebook</a>'\n",
              "            + ' to learn more about interactive tables.';\n",
              "          element.innerHTML = '';\n",
              "          dataTable['output_type'] = 'display_data';\n",
              "          await google.colab.output.renderOutput(dataTable, element);\n",
              "          const docLink = document.createElement('div');\n",
              "          docLink.innerHTML = docLinkHtml;\n",
              "          element.appendChild(docLink);\n",
              "        }\n",
              "      </script>\n",
              "    </div>\n",
              "  </div>\n",
              "  "
            ],
            "text/plain": [
              "                                                   title  ...                                            cleaned\n",
              "0       Donald Trump Sends Out Embarrassing New Year’...  ...  donald trump just couldn t wish all americans ...\n",
              "1       Drunk Bragging Trump Staffer Started Russian ...  ...  house intelligence committee chairman devin nu...\n",
              "2       Sheriff David Clarke Becomes An Internet Joke...  ...  on friday it was revealed that former milwauke...\n",
              "3       Trump Is So Obsessed He Even Has Obama’s Name...  ...  on christmas day donald trump announced that h...\n",
              "4       Pope Francis Just Called Out Donald Trump Dur...  ...  pope francis used his annual christmas day mes...\n",
              "...                                                  ...  ...                                                ...\n",
              "23476  McPain: John McCain Furious That Iran Treated ...  ...   st century wire says as wire reported earlier...\n",
              "23477  JUSTICE? Yahoo Settles E-mail Privacy Class-ac...  ...   st century wire says it s a familiar theme wh...\n",
              "23478  Sunnistan: US and Allied ‘Safe Zone’ Plan to T...  ...  patrick henningsen st century wireremember whe...\n",
              "23479  How to Blow $700 Million: Al Jazeera America F...  ...   st century wire says al jazeera america will ...\n",
              "23480  10 U.S. Navy Sailors Held by Iranian Military ...  ...   st century wire says as wire predicted in its...\n",
              "\n",
              "[23481 rows x 5 columns]"
            ]
          },
          "metadata": {},
          "execution_count": 9
        }
      ],
      "source": [
        "all_news_data['cleaned'] = all_news_data.text.apply(cleaning)\n",
        "all_news_data"
      ]
    },
    {
      "cell_type": "code",
      "execution_count": null,
      "metadata": {
        "colab": {
          "base_uri": "https://localhost:8080/"
        },
        "id": "QTtylOMwL1k6",
        "outputId": "b1358d3d-4d5f-4919-ab46-50b8d7a7b404"
      },
      "outputs": [
        {
          "output_type": "execute_result",
          "data": {
            "text/plain": [
              "News               9050\n",
              "politics           6841\n",
              "left-news          4459\n",
              "Government News    1570\n",
              "US_News             783\n",
              "Middle-east         778\n",
              "Name: subject, dtype: int64"
            ]
          },
          "metadata": {},
          "execution_count": 10
        }
      ],
      "source": [
        "all_news_data[\"subject\"].value_counts()"
      ]
    },
    {
      "cell_type": "code",
      "execution_count": null,
      "metadata": {
        "id": "ilPkBrTuL5rv"
      },
      "outputs": [],
      "source": [
        "numbers = {\"subject\":     {\"News\": 0, \n",
        "                                \"politics\": 1,\n",
        "                                \"left-news\": 2,\n",
        "                                \"Government News\": 3,\n",
        "                                \"US_News\": 4,\n",
        "                                \"Middle-east\": 5}}"
      ]
    },
    {
      "cell_type": "code",
      "execution_count": null,
      "metadata": {
        "id": "eoeSFdQtMHMW"
      },
      "outputs": [],
      "source": [
        "all_news_data = all_news_data.replace(numbers)"
      ]
    },
    {
      "cell_type": "code",
      "execution_count": null,
      "metadata": {
        "id": "c-EN9NFAGCYf"
      },
      "outputs": [],
      "source": [
        "train_sentences, val_sentences = train_test_split(all_news_data, test_size=0.2)"
      ]
    },
    {
      "cell_type": "code",
      "execution_count": null,
      "metadata": {
        "colab": {
          "base_uri": "https://localhost:8080/"
        },
        "id": "f3CxVAx5Ejjs",
        "outputId": "22b2f422-aab0-4342-ad6a-d603951f1711"
      },
      "outputs": [
        {
          "output_type": "stream",
          "name": "stdout",
          "text": [
            "всего уникальных токенов: 293553\n",
            "уникальных токенов, втретившихся больше 5 раз: 56380\n"
          ]
        }
      ],
      "source": [
        "vocab = Counter()\n",
        "\n",
        "for text in all_news_data['text']:\n",
        "    vocab.update(text.split())\n",
        "print('всего уникальных токенов:', len(vocab))\n",
        "filtered_vocab = set()\n",
        "\n",
        "for word in vocab:\n",
        "    if vocab[word] > 5:\n",
        "        filtered_vocab.add(word)\n",
        "print('уникальных токенов, втретившихся больше 5 раз:', len(filtered_vocab))"
      ]
    },
    {
      "cell_type": "code",
      "execution_count": null,
      "metadata": {
        "id": "ClRG58ZMFnyW"
      },
      "outputs": [],
      "source": [
        "word2id = {'PAD':0}\n",
        "\n",
        "for word in filtered_vocab:\n",
        "    word2id[word] = len(word2id)\n",
        "\n",
        "id2word = {i:word for word, i in word2id.items()}"
      ]
    },
    {
      "cell_type": "code",
      "execution_count": null,
      "metadata": {
        "colab": {
          "base_uri": "https://localhost:8080/"
        },
        "id": "dVBWx1KUFrXo",
        "outputId": "bae28e99-588c-4681-fd0e-c4b29ba0af7e"
      },
      "outputs": [
        {
          "output_type": "execute_result",
          "data": {
            "text/plain": [
              "device(type='cuda')"
            ]
          },
          "metadata": {},
          "execution_count": 16
        }
      ],
      "source": [
        "DEVICE = torch.device('cuda') if torch.cuda.is_available() else torch.device('cpu')\n",
        "DEVICE"
      ]
    },
    {
      "cell_type": "code",
      "execution_count": null,
      "metadata": {
        "id": "Z0zjNMA6FusK"
      },
      "outputs": [],
      "source": [
        "class NewsDataset(Dataset):\n",
        "    def __init__(self, dataset, col, target_col, word2id, max_len, DEVICE):\n",
        "        self.dataset = dataset[col].values\n",
        "        self.word2id = word2id\n",
        "        self.length = dataset.shape[0]\n",
        "        self.target = torch.Tensor(dataset[target_col].values)\n",
        "        self.max_len = max_len\n",
        "        self.device = DEVICE\n",
        "    \n",
        "    def __len__(self):\n",
        "        return self.length\n",
        "\n",
        "    def __getitem__(self, index): \n",
        "        tokens = self.dataset[index].split()\n",
        "        ids = torch.LongTensor([self.word2id[token] if token in self.word2id else self.word2id['PAD'] for token in tokens][:self.max_len])\n",
        "        y = [self.target[index]]\n",
        "        return ids, y\n",
        "\n",
        "    def collate_fn(self, batch):\n",
        "      ids, y = list(zip(*batch))\n",
        "      padded_ids = torch.vstack([F.pad(seq, pad=(0, self.max_len - seq.shape[0]), mode='constant', value=0) for seq in ids])\n",
        "      padded_ids = pad_sequence(ids, batch_first=True).to(self.device)\n",
        "      y = torch.LongTensor(y).to(self.device)\n",
        "      return padded_ids, y.T[0]"
      ]
    },
    {
      "cell_type": "code",
      "execution_count": null,
      "metadata": {
        "id": "Y74yP8TNFwrI"
      },
      "outputs": [],
      "source": [
        "train_dataset = NewsDataset(train_sentences, 'cleaned', 'subject', word2id, 400, DEVICE)\n",
        "train_sampler = RandomSampler(train_dataset)\n",
        "train_iterator = DataLoader(train_dataset, collate_fn = train_dataset.collate_fn, sampler=train_sampler, batch_size=64)"
      ]
    },
    {
      "cell_type": "code",
      "execution_count": null,
      "metadata": {
        "id": "1cVHulVDZ-CZ"
      },
      "outputs": [],
      "source": [
        "val_dataset = NewsDataset(val_sentences, 'text', 'subject', word2id, 400, DEVICE)\n",
        "val_sampler = SequentialSampler(val_dataset)\n",
        "val_iterator = DataLoader(val_dataset, collate_fn = val_dataset.collate_fn, sampler=val_sampler, batch_size=64)"
      ]
    },
    {
      "cell_type": "code",
      "execution_count": null,
      "metadata": {
        "colab": {
          "base_uri": "https://localhost:8080/"
        },
        "id": "zQsV2RdiaMzc",
        "outputId": "9930c459-89a5-43e2-a09c-cf85b64612b8"
      },
      "outputs": [
        {
          "output_type": "stream",
          "name": "stdout",
          "text": [
            "--2021-12-29 16:03:14--  https://s3.amazonaws.com/dl4j-distribution/GoogleNews-vectors-negative300.bin.gz\n",
            "Resolving s3.amazonaws.com (s3.amazonaws.com)... 52.217.206.16\n",
            "Connecting to s3.amazonaws.com (s3.amazonaws.com)|52.217.206.16|:443... connected.\n",
            "HTTP request sent, awaiting response... 200 OK\n",
            "Length: 1647046227 (1.5G) [application/x-gzip]\n",
            "Saving to: ‘GoogleNews-vectors-negative300.bin.gz’\n",
            "\n",
            "GoogleNews-vectors- 100%[===================>]   1.53G  70.7MB/s    in 24s     \n",
            "\n",
            "2021-12-29 16:03:38 (65.2 MB/s) - ‘GoogleNews-vectors-negative300.bin.gz’ saved [1647046227/1647046227]\n",
            "\n"
          ]
        }
      ],
      "source": [
        "! wget -c \"https://s3.amazonaws.com/dl4j-distribution/GoogleNews-vectors-negative300.bin.gz\""
      ]
    },
    {
      "cell_type": "code",
      "execution_count": null,
      "metadata": {
        "id": "3N74eYNyaaQw"
      },
      "outputs": [],
      "source": [
        "import gensim\n",
        "\n",
        "w2v = gensim.models.KeyedVectors.load_word2vec_format(\"GoogleNews-vectors-negative300.bin.gz\", binary=True)\n",
        "weights = np.zeros((len(word2id), 300))\n",
        "\n",
        "for word, i in word2id.items():\n",
        "    try:\n",
        "        weights[i] = w2v[word]\n",
        "    except KeyError:\n",
        "        weights[i] = np.random.uniform(-0.25, 0.25, 300)\n",
        "\n",
        "weights = torch.FloatTensor(weights).to(DEVICE)"
      ]
    },
    {
      "cell_type": "code",
      "execution_count": null,
      "metadata": {
        "id": "KZJ2o0Q1d_aU"
      },
      "outputs": [],
      "source": [
        "import tensorflow as tf"
      ]
    },
    {
      "cell_type": "code",
      "execution_count": null,
      "metadata": {
        "id": "rv6TuQDQakRT"
      },
      "outputs": [],
      "source": [
        "class clstm_clf(nn.Module):\n",
        "    def __init__(self, vocab_size, dropout_lstm = True, dropout_start = False, max_length = 512, embedding_dim=300, dropout=0.5, kernel_sizes=[2, 3, 4]):\n",
        "      super().__init__()\n",
        "      self.max_length = max_length\n",
        "      self.vocab_size = vocab_size\n",
        "      self.dropout = nn.Dropout(p=dropout)\n",
        "      self.embedding = nn.Embedding(vocab_size, embedding_dim)\n",
        "      self.embedding.from_pretrained(torch.tensor(weights))\n",
        "      self.m_length = max_length - max(kernel_sizes) + 1\n",
        "      self.kernel_sizes = kernel_sizes\n",
        "      convs = []\n",
        "      for size in kernel_sizes:\n",
        "        conv = nn.Conv1d(in_channels=embedding_dim, out_channels=150, kernel_size=size, padding='valid')\n",
        "        convs.append(conv)\n",
        "      self.conv_layers = nn.ModuleList(convs)\n",
        "      self.lstm = nn.LSTM(input_size=len(kernel_sizes) * 150, hidden_size=150, num_layers=1, batch_first=True)\n",
        "      self.out = nn.Softmax(dim=1)           \n",
        "      self.relu = nn.ReLU()\n",
        "      self.linear = nn.Linear(150, 6)\n",
        "      self.dropout_start = dropout_start\n",
        "      self.dropout_lstm = dropout_lstm\n",
        "\n",
        "    def forward(self, text):\n",
        "\n",
        "      embedded = self.embedding(text)\n",
        "      embedded = embedded.transpose(1, 2)\n",
        "      if self.dropout_start:\n",
        "        embedded = self.dropout(embedded)\n",
        "\n",
        "      output = []\n",
        "      for conv in self.conv_layers:\n",
        "        layer = conv(embedded)\n",
        "        hidden = self.relu(layer)[:, :, :self.m_length]\n",
        "        output.append(hidden)\n",
        "\n",
        "\n",
        "      if len(self.kernel_sizes) > 1:\n",
        "        rnn_inputs = torch.cat(output, 1).transpose(1, 2)\n",
        "      else:\n",
        "        rnn_inputs = hidden.transpose(1, 2)\n",
        "\n",
        "        # LSTM\n",
        "      _, (hidden_state, _) = self.lstm(rnn_inputs)\n",
        "      if self.dropout_lstm:\n",
        "        embedded = self.dropout(hidden_state)\n",
        "      logits = self.out(self.linear(torch.squeeze(hidden_state, 0)))\n",
        "\n",
        "      return logits\n"
      ]
    },
    {
      "cell_type": "code",
      "execution_count": null,
      "metadata": {
        "id": "QpRMUSHGarpa"
      },
      "outputs": [],
      "source": [
        "def train(model, iterator, optimizer, criterion):\n",
        "    epoch_loss = 0 # для подсчета среднего лосса на всех батчах\n",
        "\n",
        "    model.train()  # ставим модель в обучение, явно указываем, что сейчас надо будет хранить градиенты у всех весов\n",
        "\n",
        "    for i, (texts, ys) in enumerate(iterator): #итерируемся по батчам\n",
        "        optimizer.zero_grad()  #обнуляем градиенты\n",
        "        preds = model(texts)  #прогоняем данные через модель\n",
        "        loss = criterion(preds, ys) #считаем значение функции потерь  \n",
        "        loss.backward() #считаем градиенты  \n",
        "        optimizer.step() #обновляем веса \n",
        "        epoch_loss += loss.item() #сохраняем значение функции потерь\n",
        "        if not (i + 1) % int(len(iterator)/5):\n",
        "            print(f'Train loss: {epoch_loss/i}')      \n",
        "    return  epoch_loss / len(iterator) # возвращаем среднее значение лосса по всей выборке"
      ]
    },
    {
      "cell_type": "code",
      "execution_count": null,
      "metadata": {
        "id": "QOhmBLqZasdB"
      },
      "outputs": [],
      "source": [
        "def evaluate(model, iterator, criterion):\n",
        "    epoch_loss = 0\n",
        "    epoch_metric = 0\n",
        "    model.eval() \n",
        "    with torch.no_grad():\n",
        "        for i, (texts, ys) in enumerate(iterator):   \n",
        "            preds = model(texts)  # делаем предсказания на тесте\n",
        "            loss = criterion(preds, ys)   # считаем значения функции ошибки для статистики  \n",
        "            epoch_loss += loss.item()\n",
        "            batch_metric = f1(preds.argmax(1).long(), ys.long(), ignore_index=0)\n",
        "            epoch_metric += batch_metric\n",
        "            if i != 0:\n",
        "                if not (i + 1) % int(len(iterator)/5):\n",
        "                  #print(f'длина итератора: ', len(iterator))\n",
        "                  print(f'Val loss: {epoch_loss/i}, Val f1: {epoch_metric/i}')\n",
        "        \n",
        "    return epoch_metric / len(iterator), epoch_loss / len(iterator) # возвращаем среднее значение по всей выборке"
      ]
    },
    {
      "cell_type": "code",
      "execution_count": null,
      "metadata": {
        "id": "OqMj9HHXayoZ"
      },
      "outputs": [],
      "source": [
        "def learning(n_epochs, model, optimizer, criterion):\n",
        "    for i in range(n_epochs):\n",
        "        print(f'\\nstarting Epoch {i}')\n",
        "        print('Training...')\n",
        "        epoch_loss = train(model, train_iterator, optimizer, criterion)\n",
        "        losses.append(epoch_loss)\n",
        "        print('\\nEvaluating on train...')\n",
        "        f1_on_train,_ = evaluate(model, train_iterator, criterion)\n",
        "        f1s.append(f1_on_train.cpu())\n",
        "        print('\\nEvaluating on test...')\n",
        "        f1_on_test, epoch_loss_on_test = evaluate(model, val_iterator, criterion)\n",
        "        losses_eval.append(epoch_loss_on_test)\n",
        "        f1s_eval.append(f1_on_test.cpu())"
      ]
    },
    {
      "cell_type": "markdown",
      "source": [
        "Для начала построим обычную модель с параметрами по умолчанию"
      ],
      "metadata": {
        "id": "Xk2HO00Pnvst"
      }
    },
    {
      "cell_type": "code",
      "execution_count": null,
      "metadata": {
        "colab": {
          "base_uri": "https://localhost:8080/"
        },
        "id": "odhG1ZqzqOnV",
        "outputId": "47046112-ecb5-4ec5-dbed-8bbaeca09593"
      },
      "outputs": [
        {
          "output_type": "stream",
          "name": "stderr",
          "text": [
            "/usr/local/lib/python3.7/dist-packages/ipykernel_launcher.py:8: UserWarning: To copy construct from a tensor, it is recommended to use sourceTensor.clone().detach() or sourceTensor.clone().detach().requires_grad_(True), rather than torch.tensor(sourceTensor).\n",
            "  \n"
          ]
        },
        {
          "output_type": "stream",
          "name": "stdout",
          "text": [
            "\n",
            "starting Epoch 0\n",
            "Training...\n",
            "Train loss: 1.63560408249236\n",
            "Train loss: 1.581218783751778\n",
            "Train loss: 1.5534189946389612\n",
            "Train loss: 1.5388481720185383\n",
            "Train loss: 1.525228424055766\n",
            "\n",
            "Evaluating on train...\n",
            "Val loss: 1.5020884066297298, Val f1: 0.3943246304988861\n",
            "Val loss: 1.4892971453459367, Val f1: 0.39152970910072327\n",
            "Val loss: 1.4783148083383637, Val f1: 0.39379334449768066\n",
            "Val loss: 1.4733556168419975, Val f1: 0.39427217841148376\n",
            "Val loss: 1.4718144018344814, Val f1: 0.3962651491165161\n",
            "\n",
            "Evaluating on test...\n",
            "Val loss: 1.6155405411353478, Val f1: 0.38962361216545105\n",
            "Val loss: 1.5497886604732938, Val f1: 0.388521671295166\n",
            "Val loss: 1.535812819876322, Val f1: 0.38588660955429077\n",
            "Val loss: 1.5243358633734962, Val f1: 0.38401103019714355\n",
            "Val loss: 1.519530579663705, Val f1: 0.3812240958213806\n",
            "\n",
            "starting Epoch 1\n",
            "Training...\n",
            "Train loss: 1.4998539142441332\n",
            "Train loss: 1.4875315365584\n",
            "Train loss: 1.479545014442047\n",
            "Train loss: 1.4727812019777504\n",
            "Train loss: 1.4714953111529763\n",
            "\n",
            "Evaluating on train...\n",
            "Val loss: 1.4973232787952089, Val f1: 0.38539308309555054\n",
            "Val loss: 1.4821292110111401, Val f1: 0.38579216599464417\n",
            "Val loss: 1.4768267745916555, Val f1: 0.38959744572639465\n",
            "Val loss: 1.476026360090677, Val f1: 0.3892940580844879\n",
            "Val loss: 1.4757952793246734, Val f1: 0.3900650441646576\n",
            "\n",
            "Evaluating on test...\n",
            "Val loss: 1.605726801432096, Val f1: 0.39270278811454773\n",
            "Val loss: 1.5419224014988653, Val f1: 0.3881426155567169\n",
            "Val loss: 1.527460836782688, Val f1: 0.38697350025177\n",
            "Val loss: 1.517450586232272, Val f1: 0.38496071100234985\n",
            "Val loss: 1.5122506169305332, Val f1: 0.3829297423362732\n",
            "\n",
            "starting Epoch 2\n",
            "Training...\n",
            "Train loss: 1.4786944284773709\n",
            "Train loss: 1.4663012566773788\n",
            "Train loss: 1.4625890944045403\n",
            "Train loss: 1.4611772309134017\n",
            "Train loss: 1.4615317900700553\n",
            "\n",
            "Evaluating on train...\n",
            "Val loss: 1.4671033788145633, Val f1: 0.4463455379009247\n",
            "Val loss: 1.4583529233932495, Val f1: 0.42925742268562317\n",
            "Val loss: 1.4564084655287637, Val f1: 0.4237125813961029\n",
            "Val loss: 1.4500426244942142, Val f1: 0.4288926124572754\n",
            "Val loss: 1.449678222613351, Val f1: 0.4280482530593872\n",
            "\n",
            "Evaluating on test...\n",
            "Val loss: 1.6300753263326793, Val f1: 0.4018905758857727\n",
            "Val loss: 1.5700546944582905, Val f1: 0.3923576772212982\n",
            "Val loss: 1.5476787759036552, Val f1: 0.3911833167076111\n",
            "Val loss: 1.5366262435913085, Val f1: 0.3908727765083313\n",
            "Val loss: 1.5306394393893257, Val f1: 0.3909880220890045\n",
            "\n",
            "starting Epoch 3\n",
            "Training...\n",
            "Train loss: 1.4573498587859304\n",
            "Train loss: 1.4472455833269202\n",
            "Train loss: 1.4466846871238224\n",
            "Train loss: 1.4483508041926794\n",
            "Train loss: 1.4463233692010793\n",
            "\n",
            "Evaluating on train...\n",
            "Val loss: 1.4563598549156858, Val f1: 0.42600077390670776\n",
            "Val loss: 1.4552795721137006, Val f1: 0.4067462384700775\n",
            "Val loss: 1.4554189546948912, Val f1: 0.40015462040901184\n",
            "Val loss: 1.4565987163807923, Val f1: 0.3982686400413513\n",
            "Val loss: 1.4576692601801202, Val f1: 0.3973044157028198\n",
            "\n",
            "Evaluating on test...\n",
            "Val loss: 1.5834161134866567, Val f1: 0.38561496138572693\n",
            "Val loss: 1.5250286084634286, Val f1: 0.37557509541511536\n",
            "Val loss: 1.5081484521307595, Val f1: 0.37568050622940063\n",
            "Val loss: 1.4996533068743618, Val f1: 0.37437546253204346\n",
            "Val loss: 1.4939019420872564, Val f1: 0.3769519329071045\n",
            "\n",
            "starting Epoch 4\n",
            "Training...\n",
            "Train loss: 1.4402500516489933\n",
            "Train loss: 1.436263858753702\n",
            "Train loss: 1.436948117493205\n",
            "Train loss: 1.4381005789810446\n",
            "Train loss: 1.436672977510208\n",
            "\n",
            "Evaluating on train...\n",
            "Val loss: 1.4535985055722689, Val f1: 0.4337635934352875\n",
            "Val loss: 1.4522382414859274, Val f1: 0.417693555355072\n",
            "Val loss: 1.4450237082608173, Val f1: 0.418025404214859\n",
            "Val loss: 1.439810475229701, Val f1: 0.4196637272834778\n",
            "Val loss: 1.4376557285810425, Val f1: 0.4214622676372528\n",
            "\n",
            "Evaluating on test...\n",
            "Val loss: 1.5851002748195941, Val f1: 0.40452587604522705\n",
            "Val loss: 1.5277524303506922, Val f1: 0.39575037360191345\n",
            "Val loss: 1.511131094723213, Val f1: 0.3936050534248352\n",
            "Val loss: 1.5004515171051025, Val f1: 0.39357510209083557\n",
            "Val loss: 1.4957709329715674, Val f1: 0.39261046051979065\n",
            "\n",
            "starting Epoch 5\n",
            "Training...\n",
            "Train loss: 1.4396646545644392\n",
            "Train loss: 1.4309902108233907\n",
            "Train loss: 1.4305720997683575\n",
            "Train loss: 1.4271347507253869\n",
            "Train loss: 1.4304621232009676\n",
            "\n",
            "Evaluating on train...\n",
            "Val loss: 1.4414882388031274, Val f1: 0.453993558883667\n",
            "Val loss: 1.4346617180368175, Val f1: 0.4447900950908661\n",
            "Val loss: 1.4240314319643672, Val f1: 0.44986793398857117\n",
            "Val loss: 1.4243076343040961, Val f1: 0.44686010479927063\n",
            "Val loss: 1.425221036049734, Val f1: 0.44582507014274597\n",
            "\n",
            "Evaluating on test...\n",
            "Val loss: 1.617498544546274, Val f1: 0.43040230870246887\n",
            "Val loss: 1.5577943899013378, Val f1: 0.4148946702480316\n",
            "Val loss: 1.5395899836610003, Val f1: 0.41344153881073\n",
            "Val loss: 1.5273956255479293, Val f1: 0.41417041420936584\n",
            "Val loss: 1.52466605020606, Val f1: 0.4085215926170349\n",
            "\n",
            "starting Epoch 6\n",
            "Training...\n",
            "Train loss: 1.442157138857925\n",
            "Train loss: 1.4265983073607735\n",
            "Train loss: 1.4254514543996382\n",
            "Train loss: 1.4265300561855365\n",
            "Train loss: 1.4269690480611728\n",
            "\n",
            "Evaluating on train...\n",
            "Val loss: 1.427030506886934, Val f1: 0.457602858543396\n",
            "Val loss: 1.4185202919918558, Val f1: 0.4482828974723816\n",
            "Val loss: 1.4145058469276208, Val f1: 0.4509420692920685\n",
            "Val loss: 1.4129292789475743, Val f1: 0.4500930607318878\n",
            "Val loss: 1.4114080894364618, Val f1: 0.44862663745880127\n",
            "\n",
            "Evaluating on test...\n",
            "Val loss: 1.5939262830294096, Val f1: 0.4261753559112549\n",
            "Val loss: 1.535321178259673, Val f1: 0.41751500964164734\n",
            "Val loss: 1.5126027159574555, Val f1: 0.41946232318878174\n",
            "Val loss: 1.4971651163968174, Val f1: 0.4230801463127136\n",
            "Val loss: 1.4934673689413762, Val f1: 0.4169631600379944\n",
            "\n",
            "starting Epoch 7\n",
            "Training...\n",
            "Train loss: 1.4350550174713135\n",
            "Train loss: 1.4254446071127187\n",
            "Train loss: 1.4189212873491939\n",
            "Train loss: 1.4259509488101645\n",
            "Train loss: 1.4234994938629308\n",
            "\n",
            "Evaluating on train...\n",
            "Val loss: 1.533346322544834, Val f1: 0.41615942120552063\n",
            "Val loss: 1.5200066545735236, Val f1: 0.42333704233169556\n",
            "Val loss: 1.5141376160472804, Val f1: 0.42330262064933777\n",
            "Val loss: 1.5123299499610803, Val f1: 0.42303264141082764\n",
            "Val loss: 1.5109107271610247, Val f1: 0.42258745431900024\n",
            "\n",
            "Evaluating on test...\n",
            "Val loss: 1.7150779687441313, Val f1: 0.39756762981414795\n",
            "Val loss: 1.6522993953139693, Val f1: 0.39159631729125977\n",
            "Val loss: 1.6241319179534912, Val f1: 0.3979952037334442\n",
            "Val loss: 1.611416313864968, Val f1: 0.398712158203125\n",
            "Val loss: 1.6088331246721572, Val f1: 0.3955743610858917\n",
            "\n",
            "starting Epoch 8\n",
            "Training...\n",
            "Train loss: 1.4303763351942365\n",
            "Train loss: 1.423925635089045\n",
            "Train loss: 1.4201478441326605\n",
            "Train loss: 1.416915843497107\n",
            "Train loss: 1.4187302176927612\n",
            "\n",
            "Evaluating on train...\n",
            "Val loss: 1.4223243688282214, Val f1: 0.46233582496643066\n",
            "Val loss: 1.4090045369189719, Val f1: 0.4601745009422302\n",
            "Val loss: 1.4123936684834475, Val f1: 0.45266008377075195\n",
            "Val loss: 1.4080585525149392, Val f1: 0.45234936475753784\n",
            "Val loss: 1.403558937323547, Val f1: 0.4544861614704132\n",
            "\n",
            "Evaluating on test...\n",
            "Val loss: 1.601727815774771, Val f1: 0.4247938096523285\n",
            "Val loss: 1.535707778400845, Val f1: 0.4171874523162842\n",
            "Val loss: 1.5133001077465895, Val f1: 0.41681987047195435\n",
            "Val loss: 1.4996742942116477, Val f1: 0.421365886926651\n",
            "Val loss: 1.495893298715785, Val f1: 0.4181663990020752\n",
            "\n",
            "starting Epoch 9\n",
            "Training...\n",
            "Train loss: 1.4269909942359256\n",
            "Train loss: 1.417297745787579\n",
            "Train loss: 1.4170826349644303\n",
            "Train loss: 1.4144515222285217\n",
            "Train loss: 1.4136582947107335\n",
            "\n",
            "Evaluating on train...\n",
            "Val loss: 1.4599072744971828, Val f1: 0.45951712131500244\n",
            "Val loss: 1.4490934299386067, Val f1: 0.45068418979644775\n",
            "Val loss: 1.4468706556827347, Val f1: 0.4474501311779022\n",
            "Val loss: 1.445678744997297, Val f1: 0.44686564803123474\n",
            "Val loss: 1.4439860095614794, Val f1: 0.447043776512146\n",
            "\n",
            "Evaluating on test...\n",
            "Val loss: 1.7076761630865245, Val f1: 0.4019450843334198\n",
            "Val loss: 1.645276493496365, Val f1: 0.39475196599960327\n",
            "Val loss: 1.6151984174077103, Val f1: 0.4010482132434845\n",
            "Val loss: 1.6004739501259544, Val f1: 0.4032709300518036\n",
            "Val loss: 1.5966481471407241, Val f1: 0.40094098448753357\n"
          ]
        }
      ],
      "source": [
        "#from warnings import filters\n",
        "model = clstm_clf(vocab_size=len(word2id), dropout_lstm=0, max_length=400).to(DEVICE)\n",
        "optimizer = torch.optim.RMSprop(model.parameters(), lr=0.001, weight_decay=0.0001)\n",
        "criterion = nn.CrossEntropyLoss()\n",
        "criterion = criterion.to(DEVICE)\n",
        "\n",
        "losses = []\n",
        "losses_eval = []\n",
        "f1s = []\n",
        "f1s_eval = []\n",
        "\n",
        "for i in range(10):\n",
        "    print(f'\\nstarting Epoch {i}')\n",
        "    print('Training...')\n",
        "    epoch_loss = train(model, train_iterator, optimizer, criterion)\n",
        "    losses.append(epoch_loss)\n",
        "    print('\\nEvaluating on train...')\n",
        "    f1_on_train,_ = evaluate(model, train_iterator, criterion)\n",
        "    f1s.append(f1_on_train)\n",
        "    print('\\nEvaluating on test...')\n",
        "    f1_on_test, epoch_loss_on_test = evaluate(model, val_iterator, criterion)\n",
        "    losses_eval.append(epoch_loss_on_test)\n",
        "    f1s_eval.append(f1_on_test)"
      ]
    },
    {
      "cell_type": "code",
      "execution_count": null,
      "metadata": {
        "colab": {
          "base_uri": "https://localhost:8080/",
          "height": 295
        },
        "id": "C8puh95_8R7q",
        "outputId": "a7cef325-15a3-45b3-f4f1-74ed81084473"
      },
      "outputs": [
        {
          "output_type": "display_data",
          "data": {
            "image/png": "[encoded data removed]",
            "text/plain": [
              "<Figure size 432x288 with 1 Axes>"
            ]
          },
          "metadata": {
            "needs_background": "light"
          }
        }
      ],
      "source": [
        "plt.plot(losses)\n",
        "plt.plot(losses_eval)\n",
        "plt.title('BCE loss value')\n",
        "plt.ylabel('BCE loss')\n",
        "plt.xlabel('epoch')\n",
        "plt.legend(['train', 'val'], loc='upper right')\n",
        "plt.show()"
      ]
    },
    {
      "cell_type": "code",
      "source": [
        "plt.plot(f1s)\n",
        "plt.plot(f1s_eval)\n",
        "plt.title('f1 value')\n",
        "plt.ylabel('f1 value')\n",
        "plt.xlabel('epoch')\n",
        "plt.legend(['train', 'val'], loc='upper right')\n",
        "plt.show()"
      ],
      "metadata": {
        "id": "WqWYfYtcwSpN"
      },
      "execution_count": null,
      "outputs": []
    },
    {
      "cell_type": "markdown",
      "source": [
        "Получилось так себе, вероятно, произошло переобучение."
      ],
      "metadata": {
        "id": "CV25KMlWoky9"
      }
    },
    {
      "cell_type": "markdown",
      "source": [
        "Попробуем поэксперементировать с гиперпараметрами\n",
        "1. Разные фильтры"
      ],
      "metadata": {
        "id": "Cw_Ljz2JoqWw"
      }
    },
    {
      "cell_type": "code",
      "execution_count": null,
      "metadata": {
        "colab": {
          "base_uri": "https://localhost:8080/"
        },
        "id": "fEgemvCL8YOA",
        "outputId": "0e58927c-1167-4574-e7f6-017a55d631f2"
      },
      "outputs": [
        {
          "output_type": "stream",
          "name": "stderr",
          "text": [
            "/usr/local/lib/python3.7/dist-packages/ipykernel_launcher.py:8: UserWarning: To copy construct from a tensor, it is recommended to use sourceTensor.clone().detach() or sourceTensor.clone().detach().requires_grad_(True), rather than torch.tensor(sourceTensor).\n",
            "  \n"
          ]
        },
        {
          "output_type": "stream",
          "name": "stdout",
          "text": [
            "\n",
            "starting Epoch 0\n",
            "Training...\n",
            "Train loss: 1.6327577390168841\n",
            "Train loss: 1.563863375912542\n",
            "Train loss: 1.5344809259293397\n",
            "Train loss: 1.5175888197762626\n",
            "Train loss: 1.5088469503660102\n",
            "\n",
            "Evaluating on train...\n",
            "Val loss: 1.4866908495886284, Val f1: 0.40846019983291626\n",
            "Val loss: 1.4710051173749177, Val f1: 0.4045203924179077\n",
            "Val loss: 1.4732745472406377, Val f1: 0.3976902961730957\n",
            "Val loss: 1.4715660511157214, Val f1: 0.39591485261917114\n",
            "Val loss: 1.4692685538097237, Val f1: 0.3969951570034027\n",
            "\n",
            "Evaluating on test...\n",
            "Val loss: 1.620012723482572, Val f1: 0.4299171268939972\n",
            "Val loss: 1.58143651926959, Val f1: 0.3846825063228607\n",
            "Val loss: 1.55940771684414, Val f1: 0.38558700680732727\n",
            "Val loss: 1.5540656393224543, Val f1: 0.3759479522705078\n",
            "Val loss: 1.5469692306242127, Val f1: 0.37395381927490234\n",
            "\n",
            "starting Epoch 1\n",
            "Training...\n",
            "Train loss: 1.4939122911085163\n",
            "Train loss: 1.4796699192212976\n",
            "Train loss: 1.4732692861832635\n",
            "Train loss: 1.4713410722228872\n",
            "Train loss: 1.4706501758634838\n",
            "\n",
            "Evaluating on train...\n",
            "Val loss: 1.5050017080808942, Val f1: 0.38698309659957886\n",
            "Val loss: 1.488263864102571, Val f1: 0.3916102647781372\n",
            "Val loss: 1.47732847687826, Val f1: 0.39284858107566833\n",
            "Val loss: 1.468776570254074, Val f1: 0.3948352634906769\n",
            "Val loss: 1.4657020296604988, Val f1: 0.39592018723487854\n",
            "\n",
            "Evaluating on test...\n",
            "Val loss: 1.6013918656569262, Val f1: 0.4382026493549347\n",
            "Val loss: 1.5595228142208524, Val f1: 0.3917773962020874\n",
            "Val loss: 1.534942411794895, Val f1: 0.39466139674186707\n",
            "Val loss: 1.5314350084824995, Val f1: 0.38366007804870605\n",
            "Val loss: 1.5233529028685198, Val f1: 0.3818970024585724\n",
            "\n",
            "starting Epoch 2\n",
            "Training...\n",
            "Train loss: 1.4840170291432164\n",
            "Train loss: 1.4728599631268045\n",
            "Train loss: 1.4705630471940674\n",
            "Train loss: 1.4680548674100404\n",
            "Train loss: 1.4623317669007192\n",
            "\n",
            "Evaluating on train...\n",
            "Val loss: 1.483489663977372, Val f1: 0.4565233886241913\n",
            "Val loss: 1.4754041847975359, Val f1: 0.44756537675857544\n",
            "Val loss: 1.4709672769370106, Val f1: 0.4429326355457306\n",
            "Val loss: 1.4692398309707642, Val f1: 0.4399552047252655\n",
            "Val loss: 1.465594271475056, Val f1: 0.44173699617385864\n",
            "\n",
            "Evaluating on test...\n",
            "Val loss: 1.6811642188292284, Val f1: 0.419624000787735\n",
            "Val loss: 1.6292791189970794, Val f1: 0.3842828571796417\n",
            "Val loss: 1.611376736222244, Val f1: 0.38638657331466675\n",
            "Val loss: 1.6049157034267079, Val f1: 0.3749646544456482\n",
            "Val loss: 1.5984020008557085, Val f1: 0.3718971908092499\n",
            "\n",
            "starting Epoch 3\n",
            "Training...\n",
            "Train loss: 1.4650672716006898\n",
            "Train loss: 1.454784049158511\n",
            "Train loss: 1.4444678022682322\n",
            "Train loss: 1.4418993713535788\n",
            "Train loss: 1.438412707157201\n",
            "\n",
            "Evaluating on train...\n",
            "Val loss: 1.451869207516051, Val f1: 0.4500289857387543\n",
            "Val loss: 1.4348041928332784, Val f1: 0.4490695297718048\n",
            "Val loss: 1.4280586339145727, Val f1: 0.45266392827033997\n",
            "Val loss: 1.4230274503881282, Val f1: 0.45684394240379333\n",
            "Val loss: 1.4187148153575646, Val f1: 0.46049875020980835\n",
            "\n",
            "Evaluating on test...\n",
            "Val loss: 1.6046642982042754, Val f1: 0.45445844531059265\n",
            "Val loss: 1.5581516822179158, Val f1: 0.4168785512447357\n",
            "Val loss: 1.5365449975176555, Val f1: 0.41936787962913513\n",
            "Val loss: 1.531275300546126, Val f1: 0.41211530566215515\n",
            "Val loss: 1.5254065385763196, Val f1: 0.40932103991508484\n",
            "\n",
            "starting Epoch 4\n",
            "Training...\n",
            "Train loss: 1.4453128429881312\n",
            "Train loss: 1.4346860574639362\n",
            "Train loss: 1.4271989929882778\n",
            "Train loss: 1.4261757708215095\n",
            "Train loss: 1.4254118336113266\n",
            "\n",
            "Evaluating on train...\n",
            "Val loss: 1.4316520460864954, Val f1: 0.4709649682044983\n",
            "Val loss: 1.420519236896349, Val f1: 0.45890185236930847\n",
            "Val loss: 1.417867279466177, Val f1: 0.4534672200679779\n",
            "Val loss: 1.4200122268685014, Val f1: 0.4499424993991852\n",
            "Val loss: 1.4171195059086625, Val f1: 0.4529319703578949\n",
            "\n",
            "Evaluating on test...\n",
            "Val loss: 1.5817674031624427, Val f1: 0.44372648000717163\n",
            "Val loss: 1.540676757141396, Val f1: 0.4041694104671478\n",
            "Val loss: 1.5201364406725255, Val f1: 0.40862467885017395\n",
            "Val loss: 1.5173538034612482, Val f1: 0.39858612418174744\n",
            "Val loss: 1.5093060127203015, Val f1: 0.3971605598926544\n",
            "\n",
            "starting Epoch 0\n",
            "Training...\n",
            "Train loss: 1.6304169056708353\n",
            "Train loss: 1.5916242962298186\n",
            "Train loss: 1.56879269594402\n",
            "Train loss: 1.5522686470122564\n",
            "Train loss: 1.5364365350828864\n",
            "\n",
            "Evaluating on train...\n",
            "Val loss: 1.482134929874487, Val f1: 0.4152698218822479\n",
            "Val loss: 1.4804023027420044, Val f1: 0.4000745117664337\n",
            "Val loss: 1.475082842600828, Val f1: 0.3991301357746124\n",
            "Val loss: 1.4734459666462687, Val f1: 0.39824920892715454\n",
            "Val loss: 1.4757653198440182, Val f1: 0.3930710256099701\n",
            "\n",
            "Evaluating on test...\n",
            "Val loss: 1.6127883012478168, Val f1: 0.43681600689888\n",
            "Val loss: 1.569294563046208, Val f1: 0.3902187943458557\n",
            "Val loss: 1.5467809525931753, Val f1: 0.39170002937316895\n",
            "Val loss: 1.5431852449070325, Val f1: 0.3809193968772888\n",
            "Val loss: 1.5359603788541711, Val f1: 0.37898069620132446\n",
            "\n",
            "starting Epoch 1\n",
            "Training...\n",
            "Train loss: 1.5027220541970772\n",
            "Train loss: 1.48134155066117\n",
            "Train loss: 1.471638524463411\n",
            "Train loss: 1.470863793319438\n",
            "Train loss: 1.469210375139045\n",
            "\n",
            "Evaluating on train...\n",
            "Val loss: 1.4765283956862332, Val f1: 0.43437543511390686\n",
            "Val loss: 1.4702692975168643, Val f1: 0.41955849528312683\n",
            "Val loss: 1.4643225711205101, Val f1: 0.4233890175819397\n",
            "Val loss: 1.4618480979622184, Val f1: 0.42512768507003784\n",
            "Val loss: 1.4601950232957885, Val f1: 0.4249705374240875\n",
            "\n",
            "Evaluating on test...\n",
            "Val loss: 1.639303940993089, Val f1: 0.4365791082382202\n",
            "Val loss: 1.583963946059898, Val f1: 0.4027443528175354\n",
            "Val loss: 1.560600426138901, Val f1: 0.4050436019897461\n",
            "Val loss: 1.5557594971223312, Val f1: 0.39508330821990967\n",
            "Val loss: 1.5504404582839082, Val f1: 0.3903449773788452\n",
            "\n",
            "starting Epoch 2\n",
            "Training...\n",
            "Train loss: 1.469065316936426\n",
            "Train loss: 1.4534071621687517\n",
            "Train loss: 1.4521900704830368\n",
            "Train loss: 1.4515208248452192\n",
            "Train loss: 1.4515483379364014\n",
            "\n",
            "Evaluating on train...\n",
            "Val loss: 1.4663217653307998, Val f1: 0.40954363346099854\n",
            "Val loss: 1.4515717952147773, Val f1: 0.4142511785030365\n",
            "Val loss: 1.4465018379894985, Val f1: 0.41740721464157104\n",
            "Val loss: 1.4435483924238197, Val f1: 0.4147275686264038\n",
            "Val loss: 1.4437472952278427, Val f1: 0.4145316779613495\n",
            "\n",
            "Evaluating on test...\n",
            "Val loss: 1.5981283554664025, Val f1: 0.4368153512477875\n",
            "Val loss: 1.5537659415492304, Val f1: 0.39489948749542236\n",
            "Val loss: 1.5327632776120814, Val f1: 0.395523339509964\n",
            "Val loss: 1.5299629016356036, Val f1: 0.3836974501609802\n",
            "Val loss: 1.5223749392274497, Val f1: 0.38215741515159607\n",
            "\n",
            "starting Epoch 3\n",
            "Training...\n",
            "Train loss: 1.4553649864698712\n",
            "Train loss: 1.4405871028485506\n",
            "Train loss: 1.4436940423325997\n",
            "Train loss: 1.444351754147253\n",
            "Train loss: 1.442262292320753\n",
            "\n",
            "Evaluating on train...\n",
            "Val loss: 1.443428254964059, Val f1: 0.4443686604499817\n",
            "Val loss: 1.4318542304246322, Val f1: 0.4472429156303406\n",
            "Val loss: 1.4299056137228288, Val f1: 0.44115450978279114\n",
            "Val loss: 1.4277221196657652, Val f1: 0.4390820860862732\n",
            "Val loss: 1.4278387223148017, Val f1: 0.43576905131340027\n",
            "\n",
            "Evaluating on test...\n",
            "Val loss: 1.5759474314176118, Val f1: 0.4517780840396881\n",
            "Val loss: 1.531096480510853, Val f1: 0.40847963094711304\n",
            "Val loss: 1.5091304924429916, Val f1: 0.41155287623405457\n",
            "Val loss: 1.5063156496394765, Val f1: 0.4034421145915985\n",
            "Val loss: 1.5001017045283662, Val f1: 0.39941486716270447\n",
            "\n",
            "starting Epoch 4\n",
            "Training...\n",
            "Train loss: 1.4517524305142855\n",
            "Train loss: 1.4469502117322839\n",
            "Train loss: 1.4431296194219865\n",
            "Train loss: 1.438218118824484\n",
            "Train loss: 1.4356598276580494\n",
            "\n",
            "Evaluating on train...\n",
            "Val loss: 1.5226401404330605, Val f1: 0.3653571307659149\n",
            "Val loss: 1.5035505211871603, Val f1: 0.3619958162307739\n",
            "Val loss: 1.5017252209558651, Val f1: 0.3578641414642334\n",
            "Val loss: 1.4984057434709557, Val f1: 0.3544161915779114\n",
            "Val loss: 1.4973408891255469, Val f1: 0.3521363139152527\n",
            "\n",
            "Evaluating on test...\n",
            "Val loss: 1.6129200917023878, Val f1: 0.4007454812526703\n",
            "Val loss: 1.558739220654523, Val f1: 0.37048888206481934\n",
            "Val loss: 1.5342774914532173, Val f1: 0.3685997426509857\n",
            "Val loss: 1.5297791502692484, Val f1: 0.36037829518318176\n",
            "Val loss: 1.523656005444734, Val f1: 0.35548293590545654\n",
            "\n",
            "starting Epoch 0\n",
            "Training...\n",
            "Train loss: 1.6148199407677901\n",
            "Train loss: 1.553568258492843\n",
            "Train loss: 1.5265272635255935\n",
            "Train loss: 1.5120956015277218\n",
            "Train loss: 1.500018595824192\n",
            "\n",
            "Evaluating on train...\n",
            "Val loss: 1.4950607575868304, Val f1: 0.3852594494819641\n",
            "Val loss: 1.4807622909545899, Val f1: 0.3867907226085663\n",
            "Val loss: 1.4755914576480844, Val f1: 0.3891444802284241\n",
            "Val loss: 1.4733106682310888, Val f1: 0.3917267918586731\n",
            "Val loss: 1.4705039184398716, Val f1: 0.39397990703582764\n",
            "\n",
            "Evaluating on test...\n",
            "Val loss: 1.5930364315326397, Val f1: 0.4413755238056183\n",
            "Val loss: 1.5520864857567682, Val f1: 0.39458101987838745\n",
            "Val loss: 1.5276783472154198, Val f1: 0.3968139588832855\n",
            "Val loss: 1.5255248503251508, Val f1: 0.38544875383377075\n",
            "Val loss: 1.5178986874179563, Val f1: 0.3835410177707672\n",
            "\n",
            "starting Epoch 1\n",
            "Training...\n",
            "Train loss: 1.4927596502136766\n",
            "Train loss: 1.4758302730062733\n",
            "Train loss: 1.467382984354317\n",
            "Train loss: 1.4670708458144943\n",
            "Train loss: 1.4674393639845007\n",
            "\n",
            "Evaluating on train...\n",
            "Val loss: 1.4685593822546172, Val f1: 0.4150182902812958\n",
            "Val loss: 1.4642887581949648, Val f1: 0.4046509563922882\n",
            "Val loss: 1.4639574041256327, Val f1: 0.40259185433387756\n",
            "Val loss: 1.462020265591609, Val f1: 0.40211451053619385\n",
            "Val loss: 1.4609476270147674, Val f1: 0.4023779034614563\n",
            "\n",
            "Evaluating on test...\n",
            "Val loss: 1.5919527915807872, Val f1: 0.44256821274757385\n",
            "Val loss: 1.554166798238401, Val f1: 0.39642229676246643\n",
            "Val loss: 1.5302082823544014, Val f1: 0.3977181911468506\n",
            "Val loss: 1.5281233072280884, Val f1: 0.3863086998462677\n",
            "Val loss: 1.5210221504819565, Val f1: 0.38379430770874023\n",
            "\n",
            "starting Epoch 2\n",
            "Training...\n",
            "Train loss: 1.4884501089129532\n",
            "Train loss: 1.4688395116640174\n",
            "Train loss: 1.4665862060006642\n",
            "Train loss: 1.46202983639457\n",
            "Train loss: 1.4627117830164291\n",
            "\n",
            "Evaluating on train...\n",
            "Val loss: 1.4748750757752804, Val f1: 0.4096905589103699\n",
            "Val loss: 1.4605721069418867, Val f1: 0.40933579206466675\n",
            "Val loss: 1.457854641655277, Val f1: 0.4058840572834015\n",
            "Val loss: 1.4575602786365525, Val f1: 0.40371865034103394\n",
            "Val loss: 1.4586129782521602, Val f1: 0.40045130252838135\n",
            "\n",
            "Evaluating on test...\n",
            "Val loss: 1.5890897787534273, Val f1: 0.4391402006149292\n",
            "Val loss: 1.5456149798852425, Val f1: 0.39485907554626465\n",
            "Val loss: 1.5214445794500955, Val f1: 0.39595896005630493\n",
            "Val loss: 1.5171082886782559, Val f1: 0.386368066072464\n",
            "Val loss: 1.50934970897177, Val f1: 0.38345229625701904\n",
            "\n",
            "starting Epoch 3\n",
            "Training...\n",
            "Train loss: 1.4738967544154118\n",
            "Train loss: 1.460035316840462\n",
            "Train loss: 1.4530742795481157\n",
            "Train loss: 1.4519240820046626\n",
            "Train loss: 1.450229643537924\n",
            "\n",
            "Evaluating on train...\n",
            "Val loss: 1.4565246669869674, Val f1: 0.456088662147522\n",
            "Val loss: 1.4481512702029684, Val f1: 0.4358310401439667\n",
            "Val loss: 1.444567738240854, Val f1: 0.43609389662742615\n",
            "Val loss: 1.4438560241228575, Val f1: 0.436463326215744\n",
            "Val loss: 1.4420831471578472, Val f1: 0.43397095799446106\n",
            "\n",
            "Evaluating on test...\n",
            "Val loss: 1.6102960201410146, Val f1: 0.4458620250225067\n",
            "Val loss: 1.5658885328857988, Val f1: 0.4058210253715515\n",
            "Val loss: 1.5434225855804071, Val f1: 0.4061504304409027\n",
            "Val loss: 1.538563771681352, Val f1: 0.3956856429576874\n",
            "Val loss: 1.5316022098928257, Val f1: 0.3937424123287201\n",
            "\n",
            "starting Epoch 4\n",
            "Training...\n",
            "Train loss: 1.4610601161655628\n",
            "Train loss: 1.448451865237692\n",
            "Train loss: 1.4429755376253515\n",
            "Train loss: 1.4405288990441856\n",
            "Train loss: 1.4413413036240839\n",
            "\n",
            "Evaluating on train...\n",
            "Val loss: 1.459530654706453, Val f1: 0.4438042938709259\n",
            "Val loss: 1.4492095553356668, Val f1: 0.41791898012161255\n",
            "Val loss: 1.444840653094253, Val f1: 0.41771265864372253\n",
            "Val loss: 1.4450228214263916, Val f1: 0.4146137237548828\n",
            "Val loss: 1.4417321492231427, Val f1: 0.4187223017215729\n",
            "\n",
            "Evaluating on test...\n",
            "Val loss: 1.584312888292166, Val f1: 0.4462757408618927\n",
            "Val loss: 1.5412823977293792, Val f1: 0.4038120210170746\n",
            "Val loss: 1.5185922297035777, Val f1: 0.40506383776664734\n",
            "Val loss: 1.5162035335193982, Val f1: 0.3932800590991974\n",
            "Val loss: 1.5092122675716013, Val f1: 0.3897077441215515\n",
            "\n",
            "starting Epoch 0\n",
            "Training...\n",
            "Train loss: 1.5914147883130794\n",
            "Train loss: 1.5347480483677076\n",
            "Train loss: 1.5164076227673216\n",
            "Train loss: 1.507310209336219\n",
            "Train loss: 1.498853845167325\n",
            "\n",
            "Evaluating on train...\n",
            "Val loss: 1.4917203146114684, Val f1: 0.4054757058620453\n",
            "Val loss: 1.4775161152300627, Val f1: 0.3987089991569519\n",
            "Val loss: 1.4713466780723174, Val f1: 0.3980183005332947\n",
            "Val loss: 1.4714322214002733, Val f1: 0.3954978585243225\n",
            "Val loss: 1.4672689644110657, Val f1: 0.397727906703949\n",
            "\n",
            "Evaluating on test...\n",
            "Val loss: 1.6139411742870624, Val f1: 0.4313305914402008\n",
            "Val loss: 1.5738788622396964, Val f1: 0.3858393132686615\n",
            "Val loss: 1.5506716326969425, Val f1: 0.38850727677345276\n",
            "Val loss: 1.545458808812228, Val f1: 0.3794717490673065\n",
            "Val loss: 1.5382284755292146, Val f1: 0.37730851769447327\n",
            "\n",
            "starting Epoch 1\n",
            "Training...\n",
            "Train loss: 1.4919496105428327\n",
            "Train loss: 1.4762284983759342\n",
            "Train loss: 1.4716910957601028\n",
            "Train loss: 1.471585589053827\n",
            "Train loss: 1.4664601000947524\n",
            "\n",
            "Evaluating on train...\n",
            "Val loss: 1.4561433541147333, Val f1: 0.43759891390800476\n",
            "Val loss: 1.4542448209679646, Val f1: 0.4228588938713074\n",
            "Val loss: 1.456279558942497, Val f1: 0.4180677831172943\n",
            "Val loss: 1.4576819066877489, Val f1: 0.4124353229999542\n",
            "Val loss: 1.4572151412600878, Val f1: 0.4108036458492279\n",
            "\n",
            "Evaluating on test...\n",
            "Val loss: 1.5978646920277522, Val f1: 0.4400646984577179\n",
            "Val loss: 1.5563446901462696, Val f1: 0.39168065786361694\n",
            "Val loss: 1.5321399409596512, Val f1: 0.3948688507080078\n",
            "Val loss: 1.528494464267384, Val f1: 0.38444164395332336\n",
            "Val loss: 1.5202743471532627, Val f1: 0.38261640071868896\n",
            "\n",
            "starting Epoch 2\n",
            "Training...\n",
            "Train loss: 1.4846460840158295\n",
            "Train loss: 1.4680026852566264\n",
            "Train loss: 1.4618317956869313\n",
            "Train loss: 1.4547074811283127\n",
            "Train loss: 1.4509740115037013\n",
            "\n",
            "Evaluating on train...\n",
            "Val loss: 1.4435388226258128, Val f1: 0.46176236867904663\n",
            "Val loss: 1.4386905245158983, Val f1: 0.45112332701683044\n",
            "Val loss: 1.435677207963315, Val f1: 0.45320188999176025\n",
            "Val loss: 1.4333147367873749, Val f1: 0.45372843742370605\n",
            "Val loss: 1.4300834748984208, Val f1: 0.45462143421173096\n",
            "\n",
            "Evaluating on test...\n",
            "Val loss: 1.6020529636969933, Val f1: 0.4513944387435913\n",
            "Val loss: 1.5570736858579848, Val f1: 0.411887526512146\n",
            "Val loss: 1.5346346977280407, Val f1: 0.4077979624271393\n",
            "Val loss: 1.532440686225891, Val f1: 0.39607205986976624\n",
            "Val loss: 1.524002788723379, Val f1: 0.39540207386016846\n",
            "\n",
            "starting Epoch 3\n",
            "Training...\n",
            "Train loss: 1.4466399289014047\n",
            "Train loss: 1.4380891157233198\n",
            "Train loss: 1.432139715707371\n",
            "Train loss: 1.4302749551219858\n",
            "Train loss: 1.4296237378796903\n",
            "\n",
            "Evaluating on train...\n",
            "Val loss: 1.4561837346930253, Val f1: 0.4485630989074707\n",
            "Val loss: 1.4348167201747064, Val f1: 0.4465087950229645\n",
            "Val loss: 1.428823252633817, Val f1: 0.44398796558380127\n",
            "Val loss: 1.4244626760482788, Val f1: 0.4483475685119629\n",
            "Val loss: 1.4264840848718134, Val f1: 0.44403204321861267\n",
            "\n",
            "Evaluating on test...\n",
            "Val loss: 1.5842455900632417, Val f1: 0.45652762055397034\n",
            "Val loss: 1.5399138044427942, Val f1: 0.4080565869808197\n",
            "Val loss: 1.5200551980879249, Val f1: 0.4035142958164215\n",
            "Val loss: 1.5179225293072787, Val f1: 0.3893476128578186\n",
            "Val loss: 1.5093708193820456, Val f1: 0.38807037472724915\n",
            "\n",
            "starting Epoch 4\n",
            "Training...\n",
            "Train loss: 1.4298552170134426\n",
            "Train loss: 1.4232684467149816\n",
            "Train loss: 1.4210215917212425\n",
            "Train loss: 1.4192125307017074\n",
            "Train loss: 1.4187557874666366\n",
            "\n",
            "Evaluating on train...\n",
            "Val loss: 1.4225420972757172, Val f1: 0.4875723123550415\n",
            "Val loss: 1.401547218405682, Val f1: 0.48383212089538574\n",
            "Val loss: 1.4000727427488118, Val f1: 0.47850993275642395\n",
            "Val loss: 1.4020370879730621, Val f1: 0.4736449122428894\n",
            "Val loss: 1.4012745565196634, Val f1: 0.471036821603775\n",
            "\n",
            "Evaluating on test...\n",
            "Val loss: 1.5779766486241267, Val f1: 0.45372575521469116\n",
            "Val loss: 1.5340122514300876, Val f1: 0.4185130298137665\n",
            "Val loss: 1.5136714068854726, Val f1: 0.42033660411834717\n",
            "Val loss: 1.5115899714556607, Val f1: 0.40944376587867737\n",
            "Val loss: 1.503249626228775, Val f1: 0.40907248854637146\n",
            "\n",
            "starting Epoch 0\n",
            "Training...\n",
            "Train loss: 1.6003576266138178\n",
            "Train loss: 1.5485096392424211\n",
            "Train loss: 1.5249598425936837\n",
            "Train loss: 1.5131378060295468\n",
            "Train loss: 1.5053012696929458\n",
            "\n",
            "Evaluating on train...\n",
            "Val loss: 1.4914336894687854, Val f1: 0.4181976616382599\n",
            "Val loss: 1.4764223368271538, Val f1: 0.4107652008533478\n",
            "Val loss: 1.4737642590021123, Val f1: 0.40510421991348267\n",
            "Val loss: 1.475585505559847, Val f1: 0.40123850107192993\n",
            "Val loss: 1.474136783177465, Val f1: 0.4024669826030731\n",
            "\n",
            "Evaluating on test...\n",
            "Val loss: 1.616593599319458, Val f1: 0.4361428916454315\n",
            "Val loss: 1.5734072614599157, Val f1: 0.3918458819389343\n",
            "Val loss: 1.550687914941369, Val f1: 0.3946734070777893\n",
            "Val loss: 1.5459996288472957, Val f1: 0.3852926790714264\n",
            "Val loss: 1.5404412832812986, Val f1: 0.3820599913597107\n",
            "\n",
            "starting Epoch 1\n",
            "Training...\n",
            "Train loss: 1.4839598379637067\n",
            "Train loss: 1.480689727741739\n",
            "Train loss: 1.4758522393386488\n",
            "Train loss: 1.4718847470882135\n",
            "Train loss: 1.4681338698806234\n",
            "\n",
            "Evaluating on train...\n",
            "Val loss: 1.506084877148009, Val f1: 0.3776223063468933\n",
            "Val loss: 1.4849892647370049, Val f1: 0.3832637071609497\n",
            "Val loss: 1.4787289992922303, Val f1: 0.3853139579296112\n",
            "Val loss: 1.4690701347408872, Val f1: 0.39363184571266174\n",
            "Val loss: 1.4667562324695522, Val f1: 0.3941543996334076\n",
            "\n",
            "Evaluating on test...\n",
            "Val loss: 1.5930085732386663, Val f1: 0.4400349259376526\n",
            "Val loss: 1.5538060002856784, Val f1: 0.3925803601741791\n",
            "Val loss: 1.5293672288336404, Val f1: 0.3944866359233856\n",
            "Val loss: 1.5264914230866866, Val f1: 0.3838382959365845\n",
            "Val loss: 1.5179048776626587, Val f1: 0.38287535309791565\n",
            "\n",
            "starting Epoch 2\n",
            "Training...\n",
            "Train loss: 1.4798690749887835\n",
            "Train loss: 1.4693984549978505\n",
            "Train loss: 1.4643899402177403\n",
            "Train loss: 1.4610131989309798\n",
            "Train loss: 1.4582960156008447\n",
            "\n",
            "Evaluating on train...\n",
            "Val loss: 1.4550899099885373, Val f1: 0.43183210492134094\n",
            "Val loss: 1.4402132552603018, Val f1: 0.4397127628326416\n",
            "Val loss: 1.4380809640608772, Val f1: 0.4313361942768097\n",
            "Val loss: 1.4388364940494687, Val f1: 0.4282251000404358\n",
            "Val loss: 1.4371981591914351, Val f1: 0.4277019202709198\n",
            "\n",
            "Evaluating on test...\n",
            "Val loss: 1.5936988225350013, Val f1: 0.4392109215259552\n",
            "Val loss: 1.5445472840909604, Val f1: 0.40984129905700684\n",
            "Val loss: 1.5212200182240183, Val f1: 0.41062936186790466\n",
            "Val loss: 1.5179216168143532, Val f1: 0.3988421559333801\n",
            "Val loss: 1.5100273308546648, Val f1: 0.3965096175670624\n",
            "\n",
            "starting Epoch 3\n",
            "Training...\n",
            "Train loss: 1.458790754017077\n",
            "Train loss: 1.4443965341733849\n",
            "Train loss: 1.4366945538217621\n",
            "Train loss: 1.4339930128741574\n",
            "Train loss: 1.4309321868790887\n",
            "\n",
            "Evaluating on train...\n",
            "Val loss: 1.4203973339315046, Val f1: 0.4708406329154968\n",
            "Val loss: 1.414782248372617, Val f1: 0.46751779317855835\n",
            "Val loss: 1.4095396499413286, Val f1: 0.4680402874946594\n",
            "Val loss: 1.41009754071504, Val f1: 0.4632786214351654\n",
            "Val loss: 1.4099690534664273, Val f1: 0.4616125524044037\n",
            "\n",
            "Evaluating on test...\n",
            "Val loss: 1.5834401112336378, Val f1: 0.45887628197669983\n",
            "Val loss: 1.5345960104907002, Val f1: 0.42471256852149963\n",
            "Val loss: 1.51086067862627, Val f1: 0.4288042485713959\n",
            "Val loss: 1.5101303013888272, Val f1: 0.41769593954086304\n",
            "Val loss: 1.504433462585228, Val f1: 0.41464921832084656\n",
            "\n",
            "starting Epoch 4\n",
            "Training...\n",
            "Train loss: 1.4420842434230603\n",
            "Train loss: 1.4228223489678424\n",
            "Train loss: 1.4208524289158728\n",
            "Train loss: 1.4189464669206957\n",
            "Train loss: 1.4178533611825592\n",
            "\n",
            "Evaluating on train...\n",
            "Val loss: 1.4393548505348073, Val f1: 0.46063387393951416\n",
            "Val loss: 1.4197463595348856, Val f1: 0.45376792550086975\n",
            "Val loss: 1.4158730410427027, Val f1: 0.45116135478019714\n",
            "Val loss: 1.4129781072789973, Val f1: 0.45169597864151\n",
            "Val loss: 1.4103858289421636, Val f1: 0.45500433444976807\n",
            "\n",
            "Evaluating on test...\n",
            "Val loss: 1.5645959560687726, Val f1: 0.45646563172340393\n",
            "Val loss: 1.5209171507093642, Val f1: 0.4229438304901123\n",
            "Val loss: 1.5007513180011656, Val f1: 0.42561104893684387\n",
            "Val loss: 1.4999326705932616, Val f1: 0.41266414523124695\n",
            "Val loss: 1.4935606959937275, Val f1: 0.4085899293422699\n",
            "\n",
            "starting Epoch 0\n",
            "Training...\n",
            "Train loss: 1.631325083866454\n",
            "Train loss: 1.562499675543412\n",
            "Train loss: 1.534636158474608\n",
            "Train loss: 1.5193307683581398\n",
            "Train loss: 1.508930259922384\n",
            "\n",
            "Evaluating on train...\n",
            "Val loss: 1.4991344673591747, Val f1: 0.39447689056396484\n",
            "Val loss: 1.4771180577900098, Val f1: 0.40118369460105896\n",
            "Val loss: 1.47263417423116, Val f1: 0.3949953019618988\n",
            "Val loss: 1.469676221603955, Val f1: 0.3945855498313904\n",
            "Val loss: 1.4675923363147723, Val f1: 0.395305871963501\n",
            "\n",
            "Evaluating on test...\n",
            "Val loss: 1.6022241574067335, Val f1: 0.43778616189956665\n",
            "Val loss: 1.563190358656424, Val f1: 0.391578733921051\n",
            "Val loss: 1.5411875858539488, Val f1: 0.39204418659210205\n",
            "Val loss: 1.5372959592125632, Val f1: 0.381721168756485\n",
            "Val loss: 1.5292842543643455, Val f1: 0.3796316981315613\n",
            "\n",
            "starting Epoch 1\n",
            "Training...\n",
            "Train loss: 1.4832950997770877\n",
            "Train loss: 1.4723847430685293\n",
            "Train loss: 1.4658712879081681\n",
            "Train loss: 1.4656347082806873\n",
            "Train loss: 1.4656356960844417\n",
            "\n",
            "Evaluating on train...\n",
            "Val loss: 1.473147616051791, Val f1: 0.4199572801589966\n",
            "Val loss: 1.463027697024138, Val f1: 0.4031742215156555\n",
            "Val loss: 1.456106968008714, Val f1: 0.40913107991218567\n",
            "Val loss: 1.4551743986286643, Val f1: 0.4086035192012787\n",
            "Val loss: 1.4520941671615653, Val f1: 0.4121645987033844\n",
            "\n",
            "Evaluating on test...\n",
            "Val loss: 1.5931720917041485, Val f1: 0.43797004222869873\n",
            "Val loss: 1.549584945042928, Val f1: 0.3945019841194153\n",
            "Val loss: 1.525620600072349, Val f1: 0.3969728648662567\n",
            "Val loss: 1.521486217325384, Val f1: 0.38859644532203674\n",
            "Val loss: 1.513451111489448, Val f1: 0.38697707653045654\n",
            "\n",
            "starting Epoch 2\n",
            "Training...\n",
            "Train loss: 1.470438708338821\n",
            "Train loss: 1.4560813644657964\n",
            "Train loss: 1.4522506480961177\n",
            "Train loss: 1.450179860705421\n",
            "Train loss: 1.4491575997593493\n",
            "\n",
            "Evaluating on train...\n",
            "Val loss: 1.4702437530484116, Val f1: 0.4295795261859894\n",
            "Val loss: 1.4564445464507394, Val f1: 0.4310740828514099\n",
            "Val loss: 1.4526255716478205, Val f1: 0.43079322576522827\n",
            "Val loss: 1.450731092201167, Val f1: 0.4282567501068115\n",
            "Val loss: 1.4500441617206719, Val f1: 0.4249713718891144\n",
            "\n",
            "Evaluating on test...\n",
            "Val loss: 1.6048475687320416, Val f1: 0.43598201870918274\n",
            "Val loss: 1.5578195695523862, Val f1: 0.39040425419807434\n",
            "Val loss: 1.5340727364144675, Val f1: 0.3957778513431549\n",
            "Val loss: 1.5296497930179942, Val f1: 0.38494673371315\n",
            "Val loss: 1.5216615355533103, Val f1: 0.38173216581344604\n",
            "\n",
            "starting Epoch 3\n",
            "Training...\n",
            "Train loss: 1.4434654294398792\n",
            "Train loss: 1.4315026096675707\n",
            "Train loss: 1.4316910774032505\n",
            "Train loss: 1.4305667701737705\n",
            "Train loss: 1.4259571447504433\n",
            "\n",
            "Evaluating on train...\n",
            "Val loss: 1.4223141586571408, Val f1: 0.4732593894004822\n",
            "Val loss: 1.4226944166681041, Val f1: 0.45505571365356445\n",
            "Val loss: 1.4190516554551318, Val f1: 0.4515560567378998\n",
            "Val loss: 1.412491537791826, Val f1: 0.46022218465805054\n",
            "Val loss: 1.4107957628771508, Val f1: 0.4594319760799408\n",
            "\n",
            "Evaluating on test...\n",
            "Val loss: 1.5798406600952148, Val f1: 0.4540415108203888\n",
            "Val loss: 1.5336076771771465, Val f1: 0.41390952467918396\n",
            "Val loss: 1.5106360098210776, Val f1: 0.41747087240219116\n",
            "Val loss: 1.5090404293753885, Val f1: 0.4067017138004303\n",
            "Val loss: 1.5026651759078538, Val f1: 0.40389135479927063\n",
            "\n",
            "starting Epoch 4\n",
            "Training...\n",
            "Train loss: 1.4223405143670869\n",
            "Train loss: 1.4191393769305685\n",
            "Train loss: 1.4162023935703874\n",
            "Train loss: 1.4158878424466947\n",
            "Train loss: 1.414364976866435\n",
            "\n",
            "Evaluating on train...\n",
            "Val loss: 1.4378420553709332, Val f1: 0.4588664174079895\n",
            "Val loss: 1.421400174887284, Val f1: 0.4654785990715027\n",
            "Val loss: 1.4150743546513465, Val f1: 0.4669146239757538\n",
            "Val loss: 1.4110203754334223, Val f1: 0.46892282366752625\n",
            "Val loss: 1.407235261478226, Val f1: 0.4716612696647644\n",
            "\n",
            "Evaluating on test...\n",
            "Val loss: 1.6044187729175274, Val f1: 0.4573083817958832\n",
            "Val loss: 1.5558132463031344, Val f1: 0.41979676485061646\n",
            "Val loss: 1.5328950155072096, Val f1: 0.4246368110179901\n",
            "Val loss: 1.5319951967759566, Val f1: 0.4119727611541748\n",
            "Val loss: 1.5272863153098286, Val f1: 0.40879571437835693\n"
          ]
        }
      ],
      "source": [
        "results = []\n",
        "kernels = [[2], [3], [4], [2, 3], [2, 4], [3, 4]]\n",
        "for k in kernels:\n",
        "  result = []\n",
        "  model = clstm_clf(vocab_size=len(word2id), kernel_sizes = k, max_length=400).to(DEVICE)\n",
        "  optimizer = torch.optim.RMSprop(model.parameters(), lr=0.001, weight_decay=0.0001)\n",
        "  criterion = nn.CrossEntropyLoss()\n",
        "  criterion = criterion.to(DEVICE)\n",
        "\n",
        "  losses = []\n",
        "  losses_eval = []\n",
        "  f1s = []\n",
        "  f1s_eval = []\n",
        "\n",
        "  for i in range(5):\n",
        "      print(f'\\nstarting Epoch {i}')\n",
        "      print('Training...')\n",
        "      epoch_loss = train(model, train_iterator, optimizer, criterion)\n",
        "      losses.append(epoch_loss)\n",
        "      print('\\nEvaluating on train...')\n",
        "      f1_on_train,_ = evaluate(model, train_iterator, criterion)\n",
        "      f1s.append(f1_on_train)\n",
        "      print('\\nEvaluating on test...')\n",
        "      f1_on_test, epoch_loss_on_test = evaluate(model, val_iterator, criterion)\n",
        "      losses_eval.append(epoch_loss_on_test)\n",
        "      f1s_eval.append(f1_on_test)\n",
        "  result.append([k, losses,losses_eval, f1s, f1s_eval])\n",
        "  results.append(result)"
      ]
    },
    {
      "cell_type": "code",
      "execution_count": null,
      "metadata": {
        "colab": {
          "base_uri": "https://localhost:8080/"
        },
        "id": "4jy89ewyL3qa",
        "outputId": "b3763897-00eb-4592-d82a-9b7ce82e25eb"
      },
      "outputs": [
        {
          "output_type": "stream",
          "name": "stdout",
          "text": [
            "[[[[2], [1.5025806471604068, 1.4651590735733915, 1.4582108470047412, 1.433232230394065, 1.4207129831216774], [1.5212251028499089, 1.4981490438048903, 1.5749194009883984, 1.5005123615264893, 1.4840987211949117], [tensor(0.3947, device='cuda:0'), tensor(0.3948, device='cuda:0'), tensor(0.4395, device='cuda:0'), tensor(0.4593, device='cuda:0'), tensor(0.4513, device='cuda:0')], [tensor(0.3712, device='cuda:0'), tensor(0.3789, device='cuda:0'), tensor(0.3683, device='cuda:0'), tensor(0.4060, device='cuda:0'), tensor(0.3943, device='cuda:0')]]], [[[3], [1.5300323038685077, 1.4644614162088252, 1.4469153860799309, 1.4374778651866784, 1.4309300901938458], [1.510381635781881, 1.5256404522302989, 1.4966942361883215, 1.4748306934897963, 1.4969312854715295], [tensor(0.3916, device='cuda:0'), tensor(0.4237, device='cuda:0'), tensor(0.4140, device='cuda:0'), tensor(0.4338, device='cuda:0'), tensor(0.3509, device='cuda:0')], [tensor(0.3764, device='cuda:0'), tensor(0.3873, device='cuda:0'), tensor(0.3798, device='cuda:0'), tensor(0.3968, device='cuda:0'), tensor(0.3550, device='cuda:0')]]], [[[4], [1.495002187028223, 1.4627490732945552, 1.456945461075322, 1.4445157614694972, 1.436151910801323], [1.4919013687082239, 1.4950548861477826, 1.4835172440554645, 1.5065831413140167, 1.4838301539421082], [tensor(0.3933, device='cuda:0'), tensor(0.4008, device='cuda:0'), tensor(0.3996, device='cuda:0'), tensor(0.4314, device='cuda:0'), tensor(0.4179, device='cuda:0')], [tensor(0.3814, device='cuda:0'), tensor(0.3815, device='cuda:0'), tensor(0.3815, device='cuda:0'), tensor(0.3919, device='cuda:0'), tensor(0.3869, device='cuda:0')]]], [[[2, 3], [1.4934428873516263, 1.462097665079597, 1.4461673112953601, 1.423532625850366, 1.4148018595312728], [1.5126191909248765, 1.4950098347019505, 1.4996743459959287, 1.4845684283488505, 1.4784402460665316], [tensor(0.3955, device='cuda:0'), tensor(0.4092, device='cuda:0'), tensor(0.4534, device='cuda:0'), tensor(0.4438, device='cuda:0'), tensor(0.4678, device='cuda:0')], [tensor(0.3746, device='cuda:0'), tensor(0.3798, device='cuda:0'), tensor(0.3922, device='cuda:0'), tensor(0.3843, device='cuda:0'), tensor(0.4060, device='cuda:0')]]], [[[2, 4], [1.4997011398782536, 1.4630830742063976, 1.4536014195202158, 1.424901015904485, 1.4125603542846887], [1.5140902867188324, 1.4923930135933128, 1.4853670452092145, 1.4791042369765204, 1.469047201646341], [tensor(0.4006, device='cuda:0'), tensor(0.3924, device='cuda:0'), tensor(0.4270, device='cuda:0'), tensor(0.4596, device='cuda:0'), tensor(0.4537, device='cuda:0')], [tensor(0.3803, device='cuda:0'), tensor(0.3806, device='cuda:0'), tensor(0.3936, device='cuda:0'), tensor(0.4109, device='cuda:0'), tensor(0.4048, device='cuda:0')]]], [[[3, 4], [1.502479456719898, 1.461442348502931, 1.4439755710614781, 1.4207886866971748, 1.4106271644027866], [1.503397598459914, 1.4878865867047697, 1.4959998485204336, 1.4776080975661408, 1.5020146112184267], [tensor(0.3932, device='cuda:0'), tensor(0.4101, device='cuda:0'), tensor(0.4234, device='cuda:0'), tensor(0.4576, device='cuda:0'), tensor(0.4701, device='cuda:0')], [tensor(0.3773, device='cuda:0'), tensor(0.3843, device='cuda:0'), tensor(0.3795, device='cuda:0'), tensor(0.4016, device='cuda:0'), tensor(0.4047, device='cuda:0')]]]]\n"
          ]
        }
      ],
      "source": [
        "print(results) "
      ]
    },
    {
      "cell_type": "code",
      "source": [
        "for res in results:\n",
        "  plt.plot(res[0][1])\n",
        "  plt.plot(res[0][2])\n",
        "  plt.title('Фильтры: {}'.format(res[0][0]))\n",
        "  plt.ylabel('BCE loss')\n",
        "  plt.xlabel('epoch')\n",
        "  plt.legend(['train', 'val'], loc='upper right')\n",
        "  plt.show()"
      ],
      "metadata": {
        "id": "BPIZFOaIpZvC",
        "colab": {
          "base_uri": "https://localhost:8080/",
          "height": 1000
        },
        "outputId": "ca25e812-0ed9-4bc2-a379-67fc2a65d674"
      },
      "execution_count": null,
      "outputs": [
        {
          "output_type": "display_data",
          "data": {
            "image/png": "[encoded data removed]",
            "text/plain": [
              "<Figure size 432x288 with 1 Axes>"
            ]
          },
          "metadata": {
            "needs_background": "light"
          }
        },
        {
          "output_type": "display_data",
          "data": {
            "image/png": "[encoded data removed]",
            "text/plain": [
              "<Figure size 432x288 with 1 Axes>"
            ]
          },
          "metadata": {
            "needs_background": "light"
          }
        },
        {
          "output_type": "display_data",
          "data": {
            "image/png": "[encoded data removed]",
            "text/plain": [
              "<Figure size 432x288 with 1 Axes>"
            ]
          },
          "metadata": {
            "needs_background": "light"
          }
        },
        {
          "output_type": "display_data",
          "data": {
            "image/png": "[encoded data removed]",
            "text/plain": [
              "<Figure size 432x288 with 1 Axes>"
            ]
          },
          "metadata": {
            "needs_background": "light"
          }
        },
        {
          "output_type": "display_data",
          "data": {
            "image/png": "[encoded data removed]",
            "text/plain": [
              "<Figure size 432x288 with 1 Axes>"
            ]
          },
          "metadata": {
            "needs_background": "light"
          }
        },
        {
          "output_type": "display_data",
          "data": {
            "image/png": "[encoded data removed]",
            "text/plain": [
              "<Figure size 432x288 with 1 Axes>"
            ]
          },
          "metadata": {
            "needs_background": "light"
          }
        }
      ]
    },
    {
      "cell_type": "code",
      "source": [
        "for res in results:\n",
        "  plt.plot(res[0][3])\n",
        "  plt.plot(res[0][4])\n",
        "  plt.title('f1 value')\n",
        "  plt.ylabel('f1 value')\n",
        "  plt.xlabel('epoch')\n",
        "  plt.legend(['train', 'val'], loc='upper right')\n",
        "  plt.title('Фильтры: {}'.format(res[0][0]))\n",
        "  plt.show()"
      ],
      "metadata": {
        "id": "Qd-VUlQmwNbm",
        "colab": {
          "base_uri": "https://localhost:8080/",
          "height": 1000
        },
        "outputId": "ca3599cd-6440-4dae-b639-20a746479a3d"
      },
      "execution_count": null,
      "outputs": [
        {
          "output_type": "display_data",
          "data": {
            "image/png": "[encoded data removed]",
            "text/plain": [
              "<Figure size 432x288 with 1 Axes>"
            ]
          },
          "metadata": {
            "needs_background": "light"
          }
        },
        {
          "output_type": "display_data",
          "data": {
            "image/png": "[encoded data removed]",
            "text/plain": [
              "<Figure size 432x288 with 1 Axes>"
            ]
          },
          "metadata": {
            "needs_background": "light"
          }
        },
        {
          "output_type": "display_data",
          "data": {
            "image/png": "[encoded data removed]",
            "text/plain": [
              "<Figure size 432x288 with 1 Axes>"
            ]
          },
          "metadata": {
            "needs_background": "light"
          }
        },
        {
          "output_type": "display_data",
          "data": {
            "image/png": "[encoded data removed]",
            "text/plain": [
              "<Figure size 432x288 with 1 Axes>"
            ]
          },
          "metadata": {
            "needs_background": "light"
          }
        },
        {
          "output_type": "display_data",
          "data": {
            "image/png": "[encoded data removed]",
            "text/plain": [
              "<Figure size 432x288 with 1 Axes>"
            ]
          },
          "metadata": {
            "needs_background": "light"
          }
        },
        {
          "output_type": "display_data",
          "data": {
            "image/png": "[encoded data removed]",
            "text/plain": [
              "<Figure size 432x288 with 1 Axes>"
            ]
          },
          "metadata": {
            "needs_background": "light"
          }
        }
      ]
    },
    {
      "cell_type": "markdown",
      "source": [
        "2. Поменяем коэффициент регуляризации"
      ],
      "metadata": {
        "id": "MiYKJM_VrGPy"
      }
    },
    {
      "cell_type": "code",
      "execution_count": null,
      "metadata": {
        "colab": {
          "base_uri": "https://localhost:8080/"
        },
        "id": "J7XeswZES0yb",
        "outputId": "9fe4276a-7f4c-4d04-8166-8b078836c554"
      },
      "outputs": [
        {
          "output_type": "stream",
          "name": "stderr",
          "text": [
            "/usr/local/lib/python3.7/dist-packages/ipykernel_launcher.py:8: UserWarning: To copy construct from a tensor, it is recommended to use sourceTensor.clone().detach() or sourceTensor.clone().detach().requires_grad_(True), rather than torch.tensor(sourceTensor).\n",
            "  \n"
          ]
        },
        {
          "output_type": "stream",
          "name": "stdout",
          "text": [
            "\n",
            "starting Epoch 0\n",
            "Training...\n",
            "Train loss: 1.6200228072049325\n",
            "Train loss: 1.5558227072591366\n",
            "Train loss: 1.5313680985070377\n",
            "Train loss: 1.5123645051733239\n",
            "Train loss: 1.5068469864274392\n",
            "\n",
            "Evaluating on train...\n",
            "Val loss: 1.4832979315205623, Val f1: 0.41007521748542786\n",
            "Val loss: 1.478351294476053, Val f1: 0.40130415558815\n",
            "Val loss: 1.4721303089505675, Val f1: 0.40350672602653503\n",
            "Val loss: 1.4711373605769433, Val f1: 0.3981732130050659\n",
            "Val loss: 1.4698949825392462, Val f1: 0.3979520797729492\n",
            "\n",
            "Evaluating on test...\n",
            "Val loss: 1.5938015626027033, Val f1: 0.4389457404613495\n",
            "Val loss: 1.5526887310875788, Val f1: 0.39722251892089844\n",
            "Val loss: 1.5283448347231237, Val f1: 0.39942604303359985\n",
            "Val loss: 1.5263785037127409, Val f1: 0.3872881531715393\n",
            "Val loss: 1.5184068576149319, Val f1: 0.38566848635673523\n",
            "\n",
            "starting Epoch 1\n",
            "Training...\n",
            "Train loss: 1.5026471029248154\n",
            "Train loss: 1.4850074664406154\n",
            "Train loss: 1.4786268465780799\n",
            "Train loss: 1.477574313357795\n",
            "Train loss: 1.4742723534263955\n",
            "\n",
            "Evaluating on train...\n",
            "Val loss: 1.4858397872824418, Val f1: 0.41017165780067444\n",
            "Val loss: 1.4718797279440838, Val f1: 0.40434572100639343\n",
            "Val loss: 1.473719580325088, Val f1: 0.39531680941581726\n",
            "Val loss: 1.4696923133098718, Val f1: 0.3949168920516968\n",
            "Val loss: 1.4696087135988123, Val f1: 0.3938334882259369\n",
            "\n",
            "Evaluating on test...\n",
            "Val loss: 1.5951791634926429, Val f1: 0.4404698610305786\n",
            "Val loss: 1.553460059342561, Val f1: 0.39515194296836853\n",
            "Val loss: 1.5296672408173724, Val f1: 0.39633944630622864\n",
            "Val loss: 1.527233245156028, Val f1: 0.3849005401134491\n",
            "Val loss: 1.5197411550991777, Val f1: 0.3828789293766022\n",
            "\n",
            "starting Epoch 2\n",
            "Training...\n",
            "Train loss: 1.483027223955121\n",
            "Train loss: 1.4773065815801205\n",
            "Train loss: 1.4746759523546076\n",
            "Train loss: 1.4739131721067222\n",
            "Train loss: 1.47259962311253\n",
            "\n",
            "Evaluating on train...\n",
            "Val loss: 1.4788726505480314, Val f1: 0.4222605228424072\n",
            "Val loss: 1.4734268820804097, Val f1: 0.409016489982605\n",
            "Val loss: 1.4714148499373068, Val f1: 0.39937207102775574\n",
            "Val loss: 1.468365706922688, Val f1: 0.39392566680908203\n",
            "Val loss: 1.4696306877070233, Val f1: 0.3911084830760956\n",
            "\n",
            "Evaluating on test...\n",
            "Val loss: 1.5947040961338923, Val f1: 0.44153955578804016\n",
            "Val loss: 1.5544032476566456, Val f1: 0.39438778162002563\n",
            "Val loss: 1.5316985671113177, Val f1: 0.3954498767852783\n",
            "Val loss: 1.5286978569897738, Val f1: 0.3843945860862732\n",
            "Val loss: 1.520906622859015, Val f1: 0.38257071375846863\n",
            "\n",
            "starting Epoch 3\n",
            "Training...\n",
            "Train loss: 1.490194651118496\n",
            "Train loss: 1.4831586537153825\n",
            "Train loss: 1.474313809003444\n",
            "Train loss: 1.4716992987182749\n",
            "Train loss: 1.4716317307165336\n",
            "\n",
            "Evaluating on train...\n",
            "Val loss: 1.492424684658385, Val f1: 0.4053342044353485\n",
            "Val loss: 1.4782495571219403, Val f1: 0.3944477140903473\n",
            "Val loss: 1.4744979770197344, Val f1: 0.39282724261283875\n",
            "Val loss: 1.4714117638476483, Val f1: 0.39209023118019104\n",
            "Val loss: 1.4700686774864329, Val f1: 0.39088472723960876\n",
            "\n",
            "Evaluating on test...\n",
            "Val loss: 1.5900907608178945, Val f1: 0.440952867269516\n",
            "Val loss: 1.5446117100892243, Val f1: 0.39649397134780884\n",
            "Val loss: 1.5195732000397473, Val f1: 0.3983696699142456\n",
            "Val loss: 1.5178968537937512, Val f1: 0.38676774501800537\n",
            "Val loss: 1.5104500297187031, Val f1: 0.3851741850376129\n",
            "\n",
            "starting Epoch 4\n",
            "Training...\n",
            "Train loss: 1.5012706810967964\n",
            "Train loss: 1.4818174092665963\n",
            "Train loss: 1.4732576980756198\n",
            "Train loss: 1.4717253627199116\n",
            "Train loss: 1.4706242472242732\n",
            "\n",
            "Evaluating on train...\n",
            "Val loss: 1.4836722424155788, Val f1: 0.406842440366745\n",
            "Val loss: 1.4717033614283022, Val f1: 0.4013989567756653\n",
            "Val loss: 1.4636718586001094, Val f1: 0.4057411551475525\n",
            "Val loss: 1.4609419489319706, Val f1: 0.4045836925506592\n",
            "Val loss: 1.4629096848741947, Val f1: 0.3983646333217621\n",
            "\n",
            "Evaluating on test...\n",
            "Val loss: 1.6136384927309477, Val f1: 0.4300534427165985\n",
            "Val loss: 1.5728329066877011, Val f1: 0.38687583804130554\n",
            "Val loss: 1.5491334054528214, Val f1: 0.38846608996391296\n",
            "Val loss: 1.5464790972796354, Val f1: 0.3775659203529358\n",
            "Val loss: 1.538285203602003, Val f1: 0.37647727131843567\n"
          ]
        }
      ],
      "source": [
        "#from warnings import filters\n",
        "model = clstm_clf(vocab_size=len(word2id), max_length=400).to(DEVICE)\n",
        "optimizer = torch.optim.RMSprop(model.parameters(), lr=0.001, weight_decay=0.001) \n",
        "criterion = nn.CrossEntropyLoss()\n",
        "criterion = criterion.to(DEVICE)\n",
        "\n",
        "losses = []\n",
        "losses_eval = []\n",
        "f1s = []\n",
        "f1s_eval = []\n",
        "\n",
        "for i in range(5):\n",
        "    print(f'\\nstarting Epoch {i}')\n",
        "    print('Training...')\n",
        "    epoch_loss = train(model, train_iterator, optimizer, criterion)\n",
        "    losses.append(epoch_loss)\n",
        "    print('\\nEvaluating on train...')\n",
        "    f1_on_train,_ = evaluate(model, train_iterator, criterion)\n",
        "    f1s.append(f1_on_train)\n",
        "    print('\\nEvaluating on test...')\n",
        "    f1_on_test, epoch_loss_on_test = evaluate(model, val_iterator, criterion)\n",
        "    losses_eval.append(epoch_loss_on_test)\n",
        "    f1s_eval.append(f1_on_test)"
      ]
    },
    {
      "cell_type": "code",
      "execution_count": null,
      "metadata": {
        "colab": {
          "base_uri": "https://localhost:8080/",
          "height": 295
        },
        "id": "zFyevRBJndGx",
        "outputId": "352a472f-e3ab-4c16-d784-15d6f0beb07c"
      },
      "outputs": [
        {
          "output_type": "display_data",
          "data": {
            "image/png": "[encoded data removed]",
            "text/plain": [
              "<Figure size 432x288 with 1 Axes>"
            ]
          },
          "metadata": {
            "needs_background": "light"
          }
        }
      ],
      "source": [
        "plt.plot(losses)\n",
        "plt.plot(losses_eval)\n",
        "plt.title('BCE loss value')\n",
        "plt.ylabel('BCE loss')\n",
        "plt.xlabel('epoch')\n",
        "plt.legend(['train', 'val'], loc='upper right')\n",
        "plt.show()"
      ]
    },
    {
      "cell_type": "code",
      "source": [
        "plt.plot(f1s)\n",
        "plt.plot(f1s_eval)\n",
        "plt.title('f1 value')\n",
        "plt.ylabel('f1 value')\n",
        "plt.xlabel('epoch')\n",
        "plt.legend(['train', 'val'], loc='upper right')\n",
        "plt.show()"
      ],
      "metadata": {
        "id": "JoahRkRlwzrQ",
        "colab": {
          "base_uri": "https://localhost:8080/",
          "height": 295
        },
        "outputId": "e5e3d5ec-df92-4335-f7de-aed03e969a44"
      },
      "execution_count": null,
      "outputs": [
        {
          "output_type": "display_data",
          "data": {
            "image/png": "[encoded data removed]",
            "text/plain": [
              "<Figure size 432x288 with 1 Axes>"
            ]
          },
          "metadata": {
            "needs_background": "light"
          }
        }
      ]
    },
    {
      "cell_type": "markdown",
      "source": [
        "3. Поменяем значение дропаута"
      ],
      "metadata": {
        "id": "lQBTFIf2m4zj"
      }
    },
    {
      "cell_type": "code",
      "source": [
        "model = clstm_clf(vocab_size=len(word2id), max_length=400, dropout = 0.3).to(DEVICE)\n",
        "optimizer = torch.optim.RMSprop(model.parameters(), lr=0.001, weight_decay=0.0001) \n",
        "criterion = nn.CrossEntropyLoss()\n",
        "criterion = criterion.to(DEVICE)\n",
        "\n",
        "losses = []\n",
        "losses_eval = []\n",
        "f1s = []\n",
        "f1s_eval = []\n",
        "\n",
        "for i in range(5):\n",
        "    print(f'\\nstarting Epoch {i}')\n",
        "    print('Training...')\n",
        "    epoch_loss = train(model, train_iterator, optimizer, criterion)\n",
        "    losses.append(epoch_loss)\n",
        "    print('\\nEvaluating on train...')\n",
        "    f1_on_train,_ = evaluate(model, train_iterator, criterion)\n",
        "    f1s.append(f1_on_train)\n",
        "    print('\\nEvaluating on test...')\n",
        "    f1_on_test, epoch_loss_on_test = evaluate(model, val_iterator, criterion)\n",
        "    losses_eval.append(epoch_loss_on_test)\n",
        "    f1s_eval.append(f1_on_test)"
      ],
      "metadata": {
        "id": "wyA-T2Xgqd7U",
        "colab": {
          "base_uri": "https://localhost:8080/"
        },
        "outputId": "18121b83-f59e-4582-d141-ed8a9b6819cd"
      },
      "execution_count": null,
      "outputs": [
        {
          "output_type": "stream",
          "name": "stderr",
          "text": [
            "/usr/local/lib/python3.7/dist-packages/ipykernel_launcher.py:8: UserWarning: To copy construct from a tensor, it is recommended to use sourceTensor.clone().detach() or sourceTensor.clone().detach().requires_grad_(True), rather than torch.tensor(sourceTensor).\n",
            "  \n"
          ]
        },
        {
          "output_type": "stream",
          "name": "stdout",
          "text": [
            "\n",
            "starting Epoch 0\n",
            "Training...\n",
            "Train loss: 1.6431483218544407\n",
            "Train loss: 1.6026814357094143\n",
            "Train loss: 1.5685666551479716\n",
            "Train loss: 1.544934400748381\n",
            "Train loss: 1.5304305611184723\n",
            "\n",
            "Evaluating on train...\n",
            "Val loss: 1.492187263672812, Val f1: 0.3943060636520386\n",
            "Val loss: 1.481695984757465, Val f1: 0.3899197578430176\n",
            "Val loss: 1.4769828691647922, Val f1: 0.39064374566078186\n",
            "Val loss: 1.4750283249528893, Val f1: 0.3917869031429291\n",
            "Val loss: 1.4709425500519961, Val f1: 0.39478644728660583\n",
            "\n",
            "Evaluating on test...\n",
            "Val loss: 1.5961135625839233, Val f1: 0.44125282764434814\n",
            "Val loss: 1.554599779623526, Val f1: 0.39433059096336365\n",
            "Val loss: 1.5307655886905949, Val f1: 0.3963545262813568\n",
            "Val loss: 1.528553930195895, Val f1: 0.3851069211959839\n",
            "Val loss: 1.5209611792495286, Val f1: 0.38308683037757874\n",
            "\n",
            "starting Epoch 1\n",
            "Training...\n",
            "Train loss: 1.494698773350632\n",
            "Train loss: 1.4801191558008608\n",
            "Train loss: 1.4750194453090602\n",
            "Train loss: 1.4697751379632331\n",
            "Train loss: 1.469423544035651\n",
            "\n",
            "Evaluating on train...\n",
            "Val loss: 1.4935964868779767, Val f1: 0.3849306106567383\n",
            "Val loss: 1.4807557023089866, Val f1: 0.38220295310020447\n",
            "Val loss: 1.4758539413441123, Val f1: 0.38244518637657166\n",
            "Val loss: 1.4717798909067592, Val f1: 0.3873540163040161\n",
            "Val loss: 1.4718382667917693, Val f1: 0.38977721333503723\n",
            "\n",
            "Evaluating on test...\n",
            "Val loss: 1.602359047302833, Val f1: 0.433989942073822\n",
            "Val loss: 1.558890046896758, Val f1: 0.3909623622894287\n",
            "Val loss: 1.5353188369332291, Val f1: 0.392333984375\n",
            "Val loss: 1.5317323749715632, Val f1: 0.3817705810070038\n",
            "Val loss: 1.523658009542935, Val f1: 0.38010379672050476\n",
            "\n",
            "starting Epoch 2\n",
            "Training...\n",
            "Train loss: 1.4864573729665655\n",
            "Train loss: 1.4697311836740246\n",
            "Train loss: 1.4661969787123574\n",
            "Train loss: 1.4616680238154027\n",
            "Train loss: 1.4606729877861313\n",
            "\n",
            "Evaluating on train...\n",
            "Val loss: 1.4662567565315647, Val f1: 0.42714574933052063\n",
            "Val loss: 1.450961829268414, Val f1: 0.4247340261936188\n",
            "Val loss: 1.4438199838461903, Val f1: 0.43177226185798645\n",
            "Val loss: 1.4410277408954901, Val f1: 0.432160884141922\n",
            "Val loss: 1.443135699186358, Val f1: 0.42483165860176086\n",
            "\n",
            "Evaluating on test...\n",
            "Val loss: 1.6033403048148522, Val f1: 0.4343409836292267\n",
            "Val loss: 1.557193809085422, Val f1: 0.40076279640197754\n",
            "Val loss: 1.5361440210807613, Val f1: 0.4015480875968933\n",
            "Val loss: 1.53359655900435, Val f1: 0.3905428946018219\n",
            "Val loss: 1.5268572396126345, Val f1: 0.3879917562007904\n",
            "\n",
            "starting Epoch 3\n",
            "Training...\n",
            "Train loss: 1.4632030098061812\n",
            "Train loss: 1.453473048624785\n",
            "Train loss: 1.4478838395521132\n",
            "Train loss: 1.446561935660127\n",
            "Train loss: 1.4434541166859927\n",
            "\n",
            "Evaluating on train...\n",
            "Val loss: 1.4620606711036281, Val f1: 0.4268755614757538\n",
            "Val loss: 1.4488625992899355, Val f1: 0.4264446496963501\n",
            "Val loss: 1.4477265515079387, Val f1: 0.41558244824409485\n",
            "Val loss: 1.4450283122785164, Val f1: 0.41495922207832336\n",
            "Val loss: 1.4434718264840465, Val f1: 0.4167647063732147\n",
            "\n",
            "Evaluating on test...\n",
            "Val loss: 1.57981381049523, Val f1: 0.44245344400405884\n",
            "Val loss: 1.5371743264021698, Val f1: 0.4032154381275177\n",
            "Val loss: 1.5146847847031384, Val f1: 0.4041774272918701\n",
            "Val loss: 1.513136707652699, Val f1: 0.3940661549568176\n",
            "Val loss: 1.50660929299783, Val f1: 0.3904584050178528\n",
            "\n",
            "starting Epoch 4\n",
            "Training...\n",
            "Train loss: 1.4357331886626126\n",
            "Train loss: 1.4307129891022392\n",
            "Train loss: 1.431339560216562\n",
            "Train loss: 1.433362713107815\n",
            "Train loss: 1.4329938995796916\n",
            "\n",
            "Evaluating on train...\n",
            "Val loss: 1.434264994504159, Val f1: 0.4541914165019989\n",
            "Val loss: 1.4274133982865707, Val f1: 0.45053547620773315\n",
            "Val loss: 1.423658246938893, Val f1: 0.4502599537372589\n",
            "Val loss: 1.4216483010874166, Val f1: 0.4504842162132263\n",
            "Val loss: 1.4209410756517034, Val f1: 0.44748249650001526\n",
            "\n",
            "Evaluating on test...\n",
            "Val loss: 1.6108133976276104, Val f1: 0.4467414915561676\n",
            "Val loss: 1.5607249383573178, Val f1: 0.41517603397369385\n",
            "Val loss: 1.5400001741037137, Val f1: 0.41787189245224\n",
            "Val loss: 1.539267017624595, Val f1: 0.40469667315483093\n",
            "Val loss: 1.5337747560031172, Val f1: 0.40312817692756653\n"
          ]
        }
      ]
    },
    {
      "cell_type": "code",
      "source": [
        "plt.plot(losses)\n",
        "plt.plot(losses_eval)\n",
        "plt.title('BCE loss value')\n",
        "plt.ylabel('BCE loss')\n",
        "plt.xlabel('epoch')\n",
        "plt.legend(['train', 'val'], loc='upper right')\n",
        "plt.show()"
      ],
      "metadata": {
        "id": "upTWors2qm5g",
        "colab": {
          "base_uri": "https://localhost:8080/",
          "height": 295
        },
        "outputId": "4021ca7f-5670-424b-c53d-bdb8dd19ab48"
      },
      "execution_count": null,
      "outputs": [
        {
          "output_type": "display_data",
          "data": {
            "image/png": "[encoded data removed]",
            "text/plain": [
              "<Figure size 432x288 with 1 Axes>"
            ]
          },
          "metadata": {
            "needs_background": "light"
          }
        }
      ]
    },
    {
      "cell_type": "markdown",
      "source": [
        "4. Поменяем место дропаута"
      ],
      "metadata": {
        "id": "V-0v6Pdvr1Oq"
      }
    },
    {
      "cell_type": "code",
      "execution_count": null,
      "metadata": {
        "colab": {
          "base_uri": "https://localhost:8080/"
        },
        "id": "ypZdayvQXur1",
        "outputId": "b69d21a1-6106-4436-f560-7b68cf2cbe86"
      },
      "outputs": [
        {
          "output_type": "stream",
          "name": "stderr",
          "text": [
            "/usr/local/lib/python3.7/dist-packages/ipykernel_launcher.py:8: UserWarning: To copy construct from a tensor, it is recommended to use sourceTensor.clone().detach() or sourceTensor.clone().detach().requires_grad_(True), rather than torch.tensor(sourceTensor).\n",
            "  \n"
          ]
        },
        {
          "output_type": "stream",
          "name": "stdout",
          "text": [
            "\n",
            "starting Epoch 0\n",
            "Training...\n",
            "Train loss: 1.6446925401687622\n",
            "Train loss: 1.6178111719048542\n",
            "Train loss: 1.5940808250724925\n",
            "Train loss: 1.5676723512220176\n",
            "Train loss: 1.5485963388297797\n",
            "\n",
            "Evaluating on train...\n",
            "Val loss: 1.4847266485816555, Val f1: 0.4013547897338867\n",
            "Val loss: 1.473071267293847, Val f1: 0.3993469774723053\n",
            "Val loss: 1.4694529213657268, Val f1: 0.39816513657569885\n",
            "Val loss: 1.4721103153187476, Val f1: 0.39190760254859924\n",
            "Val loss: 1.470483861992516, Val f1: 0.3912082314491272\n",
            "\n",
            "Evaluating on test...\n",
            "Val loss: 1.5952542561751146, Val f1: 0.44033282995224\n",
            "Val loss: 1.5552092746452049, Val f1: 0.39331841468811035\n",
            "Val loss: 1.531067330662797, Val f1: 0.3956364393234253\n",
            "Val loss: 1.5285483793778853, Val f1: 0.38449981808662415\n",
            "Val loss: 1.5206421976504119, Val f1: 0.3827139735221863\n",
            "\n",
            "starting Epoch 1\n",
            "Training...\n",
            "Train loss: 1.5069846437688459\n",
            "Train loss: 1.4853310564289923\n",
            "Train loss: 1.4765419904896289\n",
            "Train loss: 1.4742399722466737\n",
            "Train loss: 1.472527599252219\n",
            "\n",
            "Evaluating on train...\n",
            "Val loss: 1.4899210992612337, Val f1: 0.39985671639442444\n",
            "Val loss: 1.4759166707163272, Val f1: 0.3954881429672241\n",
            "Val loss: 1.4710592114167407, Val f1: 0.39418065547943115\n",
            "Val loss: 1.4700201094408571, Val f1: 0.392098069190979\n",
            "Val loss: 1.468906765165626, Val f1: 0.39123547077178955\n",
            "\n",
            "Evaluating on test...\n",
            "Val loss: 1.592848044175368, Val f1: 0.43082109093666077\n",
            "Val loss: 1.5471693321510598, Val f1: 0.3905666172504425\n",
            "Val loss: 1.522489797778246, Val f1: 0.39400559663772583\n",
            "Val loss: 1.5207019177350132, Val f1: 0.38297536969184875\n",
            "Val loss: 1.512749471526215, Val f1: 0.38223087787628174\n",
            "\n",
            "starting Epoch 2\n",
            "Training...\n",
            "Train loss: 1.4918158911822135\n",
            "Train loss: 1.4775024849435558\n",
            "Train loss: 1.4728984123020503\n",
            "Train loss: 1.4697846525159233\n",
            "Train loss: 1.4679820108578692\n",
            "\n",
            "Evaluating on train...\n",
            "Val loss: 1.4890035098059136, Val f1: 0.42046889662742615\n",
            "Val loss: 1.474391860547273, Val f1: 0.4117683172225952\n",
            "Val loss: 1.467023274802059, Val f1: 0.4160803258419037\n",
            "Val loss: 1.4630203804412445, Val f1: 0.4157083332538605\n",
            "Val loss: 1.4627264894828664, Val f1: 0.4143960773944855\n",
            "\n",
            "Evaluating on test...\n",
            "Val loss: 1.5957644811043372, Val f1: 0.45110365748405457\n",
            "Val loss: 1.5510618686676025, Val f1: 0.4073333144187927\n",
            "Val loss: 1.5240003277615803, Val f1: 0.41155651211738586\n",
            "Val loss: 1.5248941226439043, Val f1: 0.3981204926967621\n",
            "Val loss: 1.5185067118078037, Val f1: 0.39371275901794434\n",
            "\n",
            "starting Epoch 3\n",
            "Training...\n",
            "Train loss: 1.4823820737370275\n",
            "Train loss: 1.4728032806645268\n",
            "Train loss: 1.4653651907264842\n",
            "Train loss: 1.4618492761215607\n",
            "Train loss: 1.459775880546306\n",
            "\n",
            "Evaluating on train...\n",
            "Val loss: 1.4643032529897857, Val f1: 0.4209289252758026\n",
            "Val loss: 1.4575051556462828, Val f1: 0.41953277587890625\n",
            "Val loss: 1.4483156838168987, Val f1: 0.421061635017395\n",
            "Val loss: 1.442754043645157, Val f1: 0.4228127896785736\n",
            "Val loss: 1.440349105320175, Val f1: 0.4226418137550354\n",
            "\n",
            "Evaluating on test...\n",
            "Val loss: 1.5865577092537513, Val f1: 0.44794896245002747\n",
            "Val loss: 1.5397347741656833, Val f1: 0.4083572328090668\n",
            "Val loss: 1.5161570339668087, Val f1: 0.4088246822357178\n",
            "Val loss: 1.5144617340781472, Val f1: 0.39769643545150757\n",
            "Val loss: 1.5087639991787896, Val f1: 0.39541372656822205\n",
            "\n",
            "starting Epoch 4\n",
            "Training...\n",
            "Train loss: 1.4756864832158674\n",
            "Train loss: 1.4622816977293596\n",
            "Train loss: 1.4530739439705205\n",
            "Train loss: 1.4531633002417428\n",
            "Train loss: 1.451291189886707\n",
            "\n",
            "Evaluating on train...\n",
            "Val loss: 1.4799957400874089, Val f1: 0.42412427067756653\n",
            "Val loss: 1.4649748553400455, Val f1: 0.4069558084011078\n",
            "Val loss: 1.4626312827788337, Val f1: 0.4023478329181671\n",
            "Val loss: 1.4561796812784105, Val f1: 0.40481868386268616\n",
            "Val loss: 1.4530061487508068, Val f1: 0.40471646189689636\n",
            "\n",
            "Evaluating on test...\n",
            "Val loss: 1.581655896626986, Val f1: 0.44096115231513977\n",
            "Val loss: 1.5387790203094482, Val f1: 0.39822810888290405\n",
            "Val loss: 1.5159225667395242, Val f1: 0.40083596110343933\n",
            "Val loss: 1.513558526472612, Val f1: 0.38990747928619385\n",
            "Val loss: 1.5064521164133928, Val f1: 0.3870662748813629\n"
          ]
        }
      ],
      "source": [
        "model = clstm_clf(vocab_size=len(word2id), dropout_lstm = False, dropout_start = True, max_length=400, dropout = 0.5).to(DEVICE)\n",
        "optimizer = torch.optim.RMSprop(model.parameters(), lr=0.001, weight_decay=0.0001) \n",
        "criterion = nn.CrossEntropyLoss()\n",
        "criterion = criterion.to(DEVICE)\n",
        "\n",
        "losses = []\n",
        "losses_eval = []\n",
        "f1s = []\n",
        "f1s_eval = []\n",
        "\n",
        "for i in range(5):\n",
        "    print(f'\\nstarting Epoch {i}')\n",
        "    print('Training...')\n",
        "    epoch_loss = train(model, train_iterator, optimizer, criterion)\n",
        "    losses.append(epoch_loss)\n",
        "    print('\\nEvaluating on train...')\n",
        "    f1_on_train,_ = evaluate(model, train_iterator, criterion)\n",
        "    f1s.append(f1_on_train)\n",
        "    print('\\nEvaluating on test...')\n",
        "    f1_on_test, epoch_loss_on_test = evaluate(model, val_iterator, criterion)\n",
        "    losses_eval.append(epoch_loss_on_test)\n",
        "    f1s_eval.append(f1_on_test)"
      ]
    },
    {
      "cell_type": "code",
      "execution_count": null,
      "metadata": {
        "colab": {
          "base_uri": "https://localhost:8080/",
          "height": 295
        },
        "id": "IqG-RV_VsJAU",
        "outputId": "61e54ec4-5dc8-40de-cf4a-5c8a257b4c1b"
      },
      "outputs": [
        {
          "output_type": "display_data",
          "data": {
            "image/png": "[encoded data removed]",
            "text/plain": [
              "<Figure size 432x288 with 1 Axes>"
            ]
          },
          "metadata": {
            "needs_background": "light"
          }
        }
      ],
      "source": [
        "plt.plot(losses)\n",
        "plt.plot(losses_eval)\n",
        "plt.title('BCE loss value')\n",
        "plt.ylabel('BCE loss')\n",
        "plt.xlabel('epoch')\n",
        "plt.legend(['train', 'val'], loc='upper right')\n",
        "plt.show()"
      ]
    },
    {
      "cell_type": "code",
      "source": [
        "plt.plot(f1s)\n",
        "plt.plot(f1s_eval)\n",
        "plt.title('f1 value')\n",
        "plt.ylabel('f1 value')\n",
        "plt.xlabel('epoch')\n",
        "plt.legend(['train', 'val'], loc='upper right')\n",
        "plt.show()"
      ],
      "metadata": {
        "id": "lHa8mDbxw2UC",
        "colab": {
          "base_uri": "https://localhost:8080/",
          "height": 295
        },
        "outputId": "4a662f8b-5b73-4d70-f6ef-eadfc500d015"
      },
      "execution_count": null,
      "outputs": [
        {
          "output_type": "display_data",
          "data": {
            "image/png": "[encoded data removed]",
            "text/plain": [
              "<Figure size 432x288 with 1 Axes>"
            ]
          },
          "metadata": {
            "needs_background": "light"
          }
        }
      ]
    },
    {
      "cell_type": "markdown",
      "source": [
        "# Выводы\n",
        "Итак, в целом, гиперпараметры значительно не поменяли результат. В целом результаты везде получились не очень хорошими, возможно, из-за неравномерного распределения классов в датасете. Плюс, к сожалению, ограничение GPU не позволяет проводить достаточно много эпох, что тоже плохо сказывается на качестве моделей. Сказать, какая модель лучшая, сложно, но, пожалуй такая: фильтры – [2,3], коэффициент регуляризации - 0.0001, дропаут =0.5 , позиция дропаута - в LSTM."
      ],
      "metadata": {
        "id": "mwWdJUaT-mPR"
      }
    }
  ],
  "metadata": {
    "accelerator": "GPU",
    "colab": {
      "name": "Untitled13.ipynb",
      "provenance": [],
      "collapsed_sections": []
    },
    "kernelspec": {
      "display_name": "Python 3",
      "name": "python3"
    },
    "language_info": {
      "name": "python"
    }
  },
  "nbformat": 4,
  "nbformat_minor": 0
}