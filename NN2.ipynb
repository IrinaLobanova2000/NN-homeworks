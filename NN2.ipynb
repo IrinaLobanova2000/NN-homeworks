{
  "nbformat": 4,
  "nbformat_minor": 0,
  "metadata": {
    "colab": {
      "name": "NN2",
      "provenance": [],
      "collapsed_sections": []
    },
    "kernelspec": {
      "name": "python3",
      "display_name": "Python 3"
    },
    "language_info": {
      "name": "python"
    }
  },
  "cells": [
    {
      "cell_type": "code",
      "metadata": {
        "id": "BLSe4einelMc"
      },
      "source": [
        "!pip install torchmetrics"
      ],
      "execution_count": null,
      "outputs": []
    },
    {
      "cell_type": "code",
      "metadata": {
        "id": "V_HO0DupkwUx"
      },
      "source": [
        "import re\n",
        "import nltk\n",
        "import numpy as np\n",
        "import pandas as pd\n",
        "from sklearn.model_selection import train_test_split\n",
        "from sklearn.utils import shuffle\n",
        "from nltk.tokenize import word_tokenize\n",
        "from collections import Counter\n",
        "import torch\n",
        "import torch.nn as nn\n",
        "import torch.nn.functional as F\n",
        "from torch.utils.data import Dataset, DataLoader, RandomSampler, SequentialSampler\n",
        "from torch.nn.utils.rnn import pad_sequence\n",
        "import torch.optim as optim\n",
        "from torchmetrics import F1\n",
        "from torchmetrics.functional import f1, recall\n",
        "import matplotlib.pyplot as plt\n",
        "from gensim.models import FastText"
      ],
      "execution_count": null,
      "outputs": []
    },
    {
      "cell_type": "code",
      "metadata": {
        "id": "kwOB5jF19WNV"
      },
      "source": [
        "pos_tweets = pd.read_csv('positive.csv', encoding='utf-8', sep=';', header=None, names=[0,1,2,'text','tone',5,6,7,8,9,10,11] )\n",
        "neg_tweets = pd.read_csv('negative.csv', encoding='utf-8', sep=';', header=None,  names=[0,1,2,'text','tone',5,6,7,8,9,10,11])\n",
        "neg_tweets['tone'] = 0\n",
        "all_tweets_data = pos_tweets.append(neg_tweets)\n",
        "all_tweets_data['text']\n",
        "all_tweets_data = shuffle(all_tweets_data[['text','tone']])[:100000]"
      ],
      "execution_count": null,
      "outputs": []
    },
    {
      "cell_type": "code",
      "metadata": {
        "id": "p7YIvTF0Njb_"
      },
      "source": [
        "def cleaning(data):\n",
        "  data = data.lower()\n",
        "  data = re.sub(r'[^А-яа-я-]+', ' ', data)\n",
        "  return data"
      ],
      "execution_count": null,
      "outputs": []
    },
    {
      "cell_type": "code",
      "metadata": {
        "colab": {
          "base_uri": "https://localhost:8080/"
        },
        "id": "vigmYWNsC4JD",
        "outputId": "d2385454-4306-4e81-9d38-a97bae95a3af"
      },
      "source": [
        "all_tweets_data['cleaned'] = all_tweets_data.text.apply(lambda x: cleaning(x))\n",
        "all_tweets_data['cleaned']"
      ],
      "execution_count": null,
      "outputs": [
        {
          "output_type": "execute_result",
          "data": {
            "text/plain": [
              "14515     л н харитонова скучная хочу домой хочу есть у ...\n",
              "65537           день на берегу лет в море это очень жестко \n",
              "111251                            чем-то нравится домашняя \n",
              "31518     хочу смазливый фильм посмотреть что-то вроде д...\n",
              "33327      я тебе больше скажу что у некоторых при всех ...\n",
              "                                ...                        \n",
              "419        да какая это поддержка просто это реально мер...\n",
              "92342     киселев наверное на разрыв сейчас работает там...\n",
              "11442      доброе утро супер мега бизнес центр на профес...\n",
              "69344     збс может и мне подняться на крышу повертеть а...\n",
              "62130      ну вы даете не замерзающие или ветра у вас та...\n",
              "Name: cleaned, Length: 100000, dtype: object"
            ]
          },
          "metadata": {},
          "execution_count": 54
        }
      ]
    },
    {
      "cell_type": "code",
      "metadata": {
        "colab": {
          "base_uri": "https://localhost:8080/"
        },
        "id": "FRhYL-0cDC-p",
        "outputId": "e6f894ce-f8af-48dd-a020-132ab103b16f"
      },
      "source": [
        "train_sentences, val_sentences = train_test_split(all_tweets_data, test_size=0.2)\n",
        "#print(train_sentences['cleaned'])"
      ],
      "execution_count": null,
      "outputs": [
        {
          "output_type": "stream",
          "name": "stdout",
          "text": [
            "80225    в школе эти производные легко решала сейчас ни...\n",
            "88472     ага что бы кому-то мозги по-ебать что бы кто ...\n",
            "56895                                    сладких и пошлых \n",
            "13216                                           это плохо \n",
            "57172    может ты прекратишь рт и избранить мои тупые т...\n",
            "                               ...                        \n",
            "94741                                          я и забыла \n",
            "83293         я про сашу он месяцев знает что я беременна \n",
            "16394     зашли на территорию только в нас обыскали раз...\n",
            "39338            ты своих навестить что-ли пришла или как \n",
            "25654               наааааконец тепло еда только вот нету \n",
            "Name: cleaned, Length: 80000, dtype: object\n"
          ]
        }
      ]
    },
    {
      "cell_type": "code",
      "metadata": {
        "colab": {
          "base_uri": "https://localhost:8080/"
        },
        "id": "bfslNG-eEOD8",
        "outputId": "dfd45c5c-17f6-4ae3-f032-1fe1efa3dd50"
      },
      "source": [
        "vocab = Counter()\n",
        "\n",
        "for text in all_tweets_data['text']:\n",
        "    vocab.update(text.split())\n",
        "print('всего уникальных токенов:', len(vocab))\n",
        "filtered_vocab = set()\n",
        "\n",
        "for word in vocab:\n",
        "    if vocab[word] > 5:\n",
        "        filtered_vocab.add(word)\n",
        "print('уникальных токенов, втретившихся больше 5 раз:', len(filtered_vocab))"
      ],
      "execution_count": null,
      "outputs": [
        {
          "output_type": "stream",
          "name": "stdout",
          "text": [
            "всего уникальных токенов: 287654\n",
            "уникальных токенов, втретившихся больше 5 раз: 15105\n"
          ]
        }
      ]
    },
    {
      "cell_type": "code",
      "metadata": {
        "colab": {
          "base_uri": "https://localhost:8080/"
        },
        "id": "_cRxAHLkBFjE",
        "outputId": "806e5a49-2b46-4475-af0c-315b33ea37b4"
      },
      "source": [
        "#создаем словарь с индексами symbol2id, для спецсимвола паддинга дефолтный индекс - 0\n",
        "word2id = {'PAD':0}\n",
        "for word in filtered_vocab:\n",
        "    word2id[word] = len(word2id)\n",
        "#обратный словарь для того, чтобы раскодировать последовательность\n",
        "id2word = {i:word for word, i in word2id.items()}\n",
        "DEVICE = torch.device('cuda') if torch.cuda.is_available() else torch.device('cpu')\n",
        "DEVICE"
      ],
      "execution_count": null,
      "outputs": [
        {
          "output_type": "execute_result",
          "data": {
            "text/plain": [
              "device(type='cpu')"
            ]
          },
          "metadata": {},
          "execution_count": 42
        }
      ]
    },
    {
      "cell_type": "code",
      "metadata": {
        "id": "Nrm5745KKGMn"
      },
      "source": [
        "class TweetsDataset(Dataset):\n",
        "\n",
        "    def __init__(self, dataset, word2id, DEVICE):\n",
        "        self.dataset = dataset['text'].values\n",
        "        self.word2id = word2id\n",
        "        self.length = dataset.shape[0]\n",
        "        self.target = torch.Tensor(dataset['tone'].values)\n",
        "        self.device = DEVICE\n",
        "\n",
        "    def __len__(self): \n",
        "        return self.length\n",
        "\n",
        "    def __getitem__(self, index): \n",
        "        tokens = self.dataset[index].split()\n",
        "        ids = torch.LongTensor([self.word2id[token] for token in tokens if token in self.word2id])\n",
        "        y = [self.target[index]]\n",
        "        return ids, y\n",
        "\n",
        "    def collate_fn(self, batch): \n",
        "        ids, y = list(zip(*batch))\n",
        "        padded_ids = pad_sequence(ids, batch_first=True).to(self.device)\n",
        "        y = torch.Tensor(y).to(self.device) # tuple ([1], [0], [1])  -> Tensor [[1.], [0.], [1.]] \n",
        "        return padded_ids, y"
      ],
      "execution_count": null,
      "outputs": []
    },
    {
      "cell_type": "code",
      "metadata": {
        "id": "YaHI40UrUxCc"
      },
      "source": [
        "train_dataset = TweetsDataset(train_sentences, word2id, DEVICE)\n",
        "train_sampler = RandomSampler(train_dataset)\n",
        "train_iterator = DataLoader(train_dataset, collate_fn = train_dataset.collate_fn, sampler=train_sampler, batch_size=1024)\n",
        "batch = next(iter(train_iterator))\n",
        "#batch[1]"
      ],
      "execution_count": null,
      "outputs": []
    },
    {
      "cell_type": "code",
      "metadata": {
        "colab": {
          "base_uri": "https://localhost:8080/"
        },
        "id": "RqG2QjCfXIQe",
        "outputId": "cf5e5339-e6a8-4f60-fa99-88f7aafcce43"
      },
      "source": [
        "val_dataset = TweetsDataset(val_sentences, word2id, DEVICE)\n",
        "val_sampler = SequentialSampler(val_dataset)\n",
        "val_iterator = DataLoader(val_dataset, collate_fn = val_dataset.collate_fn, sampler=val_sampler, batch_size=1024)\n",
        "test_batch = next(iter(val_iterator))"
      ],
      "execution_count": null,
      "outputs": [
        {
          "output_type": "execute_result",
          "data": {
            "text/plain": [
              "torch.Size([1024, 25])"
            ]
          },
          "metadata": {},
          "execution_count": 61
        }
      ]
    },
    {
      "cell_type": "code",
      "metadata": {
        "id": "W94eLOnSXrqb"
      },
      "source": [
        "batch, y = next(iter(val_iterator))"
      ],
      "execution_count": null,
      "outputs": []
    },
    {
      "cell_type": "code",
      "metadata": {
        "id": "gvHngFf6a9cR"
      },
      "source": [
        "class CNN(nn.Module):\n",
        "    \n",
        "    def __init__(self, vocab_size, embedding_dim):\n",
        "        super().__init__()\n",
        "        self.embedding = nn.Embedding(vocab_size, embedding_dim)\n",
        "        self.bigrams = nn.Conv1d(in_channels=embedding_dim, out_channels=60, kernel_size=2, padding='same')\n",
        "        self.trigrams = nn.Conv1d(in_channels=embedding_dim, out_channels=100, kernel_size=3, padding='same')\n",
        "        self.sec_conv = nn.Conv1d(in_channels=160, out_channels=40, kernel_size=3, padding='same')\n",
        "\n",
        "        self.pooling = nn.MaxPool1d(kernel_size=2, stride=1)\n",
        "        self.relu = nn.ReLU()\n",
        "        self.hidden = nn.Linear(in_features=40, out_features=1)\n",
        "        self.dropout = nn.Dropout(p=0.5)\n",
        "        self.out = nn.Sigmoid()\n",
        "\n",
        "    def forward(self, word):\n",
        "        #batch_size x seq_len\n",
        "        embedded = self.embedding(word)\n",
        "        #batch_size x seq_len x embedding_dim\n",
        "        embedded = embedded.transpose(1,2)\n",
        "        #batch_size x embedding_dim x seq_len\n",
        "        feature_map_bigrams = self.dropout(self.relu(self.bigrams(embedded)))\n",
        "        feature_map_trigrams = self.dropout(self.relu(self.trigrams(embedded)))\n",
        "        #print(feature_map_bigrams.shape)\n",
        "        #print(feature_map_trigrams.shape)\n",
        "        \n",
        "        concat = torch.cat((feature_map_bigrams, feature_map_trigrams), 1)\n",
        "        third_conv = self.dropout(self.pooling(self.relu(self.sec_conv(concat))))\n",
        "        pooling1 = third_conv.max(2)[0]\n",
        "\n",
        "        logits = self.hidden(pooling1) \n",
        "        logits = self.out(self.dropout(logits))      \n",
        "        return logits"
      ],
      "execution_count": null,
      "outputs": []
    },
    {
      "cell_type": "code",
      "metadata": {
        "id": "c7PlxyULbPOV"
      },
      "source": [
        "model = CNN(len(id2word), 8)\n",
        "output = model(batch)\n",
        "#print(output)"
      ],
      "execution_count": null,
      "outputs": []
    },
    {
      "cell_type": "code",
      "metadata": {
        "colab": {
          "base_uri": "https://localhost:8080/"
        },
        "id": "yH-p8bVEcLHb",
        "outputId": "2dcd0dda-fcf3-483f-8535-506918b4e397"
      },
      "source": [
        "loss = nn.BCELoss()\n",
        "loss(output, y)"
      ],
      "execution_count": null,
      "outputs": [
        {
          "output_type": "execute_result",
          "data": {
            "text/plain": [
              "tensor(0.7097, grad_fn=<BinaryCrossEntropyBackward0>)"
            ]
          },
          "metadata": {},
          "execution_count": 70
        }
      ]
    },
    {
      "cell_type": "code",
      "metadata": {
        "id": "BcYHBpBQb4NY"
      },
      "source": [
        "def train(model, iterator, optimizer, criterion):\n",
        "    epoch_loss = 0 # для подсчета среднего лосса на всех батчах\n",
        "\n",
        "    model.train()  # ставим модель в обучение, явно указываем, что сейчас надо будет хранить градиенты у всех весов\n",
        "\n",
        "    for i, (texts, ys) in enumerate(iterator): #итерируемся по батчам\n",
        "        optimizer.zero_grad()  #обнуляем градиенты\n",
        "        preds = model(texts)  #прогоняем данные через модель\n",
        "        loss = criterion(preds, ys) #считаем значение функции потерь  \n",
        "        loss.backward() #считаем градиенты  \n",
        "        optimizer.step() #обновляем веса \n",
        "        epoch_loss += loss.item() #сохраняем значение функции потерь\n",
        "        if not (i + 1) % int(len(iterator)/5):\n",
        "            print(f'Train loss: {epoch_loss/i}')      \n",
        "    return  epoch_loss / len(iterator) # возвращаем среднее значение лосса по всей выборке"
      ],
      "execution_count": null,
      "outputs": []
    },
    {
      "cell_type": "code",
      "metadata": {
        "id": "2B9bZBrKb5tA"
      },
      "source": [
        "def evaluate(model, iterator, criterion):\n",
        "    epoch_loss = 0\n",
        "    epoch_metric = 0\n",
        "    model.eval() \n",
        "    with torch.no_grad():\n",
        "        for i, (texts, ys) in enumerate(iterator):   \n",
        "            preds = model(texts)  # делаем предсказания на тесте\n",
        "            loss = criterion(preds, ys)   # считаем значения функции ошибки для статистики  \n",
        "            epoch_loss += loss.item()\n",
        "            batch_metric = f1(preds.round().long(), ys.long(), ignore_index=0)\n",
        "            epoch_metric += batch_metric\n",
        "\n",
        "            if not (i + 1) % int(len(iterator)/5):\n",
        "              print(f'Val loss: {epoch_loss/i}, Val f1: {epoch_metric/i}')\n",
        "        \n",
        "    return epoch_metric / len(iterator), epoch_loss / len(iterator) "
      ],
      "execution_count": null,
      "outputs": []
    },
    {
      "cell_type": "code",
      "metadata": {
        "id": "SDngES1Nb88z"
      },
      "source": [
        "def learning(n_epochs, model, optimizer, criterion):\n",
        "    for i in range(n_epochs):\n",
        "        print(f'\\nstarting Epoch {i}')\n",
        "        print('Training...')\n",
        "        epoch_loss = train(model, train_iterator, optimizer, criterion)\n",
        "        losses.append(epoch_loss)\n",
        "        print('\\nEvaluating on train...')\n",
        "        f1_on_train,_ = evaluate(model, train_iterator, criterion)\n",
        "        f1s.append(f1_on_train.cpu())\n",
        "        print('\\nEvaluating on test...')\n",
        "        f1_on_test, epoch_loss_on_test = evaluate(model, val_iterator, criterion)\n",
        "        losses_eval.append(epoch_loss_on_test)\n",
        "        f1s_eval.append(f1_on_test.cpu())"
      ],
      "execution_count": null,
      "outputs": []
    },
    {
      "cell_type": "code",
      "metadata": {
        "id": "9kvdrPzUcOOD"
      },
      "source": [
        "model = CNN(len(word2id), 8)\n",
        "optimizer = optim.Adam(model.parameters(), lr=0.0001)\n",
        "criterion = nn.BCELoss()  \n",
        "model = model.to(DEVICE)\n",
        "criterion = criterion.to(DEVICE)\n",
        "\n",
        "losses = []\n",
        "losses_eval = []\n",
        "f1s = []\n",
        "f1s_eval = []\n",
        "\n",
        "for i in range(50):\n",
        "    print(f'\\nstarting Epoch {i}')\n",
        "    print('Training...')\n",
        "    epoch_loss = train(model, train_iterator, optimizer, criterion)\n",
        "    losses.append(epoch_loss)\n",
        "    print('\\nEvaluating on train...')\n",
        "    f1_on_train,_ = evaluate(model, train_iterator, criterion)\n",
        "    f1s.append(f1_on_train)\n",
        "    print('\\nEvaluating on test...')\n",
        "    f1_on_test, epoch_loss_on_test = evaluate(model, val_iterator, criterion)\n",
        "    losses_eval.append(epoch_loss_on_test)\n",
        "    f1s_eval.append(f1_on_test)"
      ],
      "execution_count": null,
      "outputs": []
    },
    {
      "cell_type": "code",
      "metadata": {
        "id": "ZgANL6PackbG"
      },
      "source": [
        "from tqdm import tqdm\n",
        "\n",
        "\n",
        "def predict(model, iterator):\n",
        "    model.eval()\n",
        "    fp = []\n",
        "    fn = []\n",
        "    tp = [] \n",
        "    tn = []\n",
        "    with torch.no_grad():\n",
        "        for i, (texts, ys) in tqdm(enumerate(iterator)):\n",
        "            preds = model(texts)  # делаем предсказания на тесте\n",
        "            for pred, gold, text in zip(preds, ys, texts):\n",
        "                text = ' '.join([id2word[int(word)] for word in text if word !=0])\n",
        "                if round(pred.item()) > gold:\n",
        "                    fp.append(text)\n",
        "                elif round(pred.item()) < gold:\n",
        "                    fn.append(text)\n",
        "                elif round(pred.item()) == gold == 1:\n",
        "                    tp.append(text)\n",
        "                elif round(pred.item()) == gold == 0:\n",
        "                    tn.append(text)\n",
        "    return fp, fn, tp, tn"
      ],
      "execution_count": null,
      "outputs": []
    },
    {
      "cell_type": "code",
      "metadata": {
        "colab": {
          "base_uri": "https://localhost:8080/"
        },
        "id": "_1xnQBTUkpce",
        "outputId": "868e65ed-3a2e-401f-867a-f15c4b3eada0"
      },
      "source": [
        "fp, fn, tp, tn = predict(model, val_iterator)\n",
        "recall = len(tp)/(len(tp)+len(fn))\n",
        "precision = len(tp)/(len(tp)+len(fp))\n",
        "accuracy = (len(tp)+len(tn))/(len(fp) + len(fn) + len(tp) + len(tn))\n",
        "f_score = 2 * precision * recall / (precision + recall)"
      ],
      "execution_count": null,
      "outputs": [
        {
          "output_type": "stream",
          "name": "stderr",
          "text": [
            "20it [00:05,  3.85it/s]\n"
          ]
        }
      ]
    },
    {
      "cell_type": "code",
      "metadata": {
        "colab": {
          "base_uri": "https://localhost:8080/"
        },
        "id": "I-YN7Arrnrd2",
        "outputId": "54d5d6a6-bb32-483b-8997-436f0073ff96"
      },
      "source": [
        "print(recall,precision,accuracy, f_score)"
      ],
      "execution_count": null,
      "outputs": [
        {
          "output_type": "stream",
          "name": "stdout",
          "text": [
            "0.693026028213789 0.6868846002363135 0.6882 0.6899416477104144\n"
          ]
        }
      ]
    },
    {
      "cell_type": "code",
      "metadata": {
        "colab": {
          "base_uri": "https://localhost:8080/"
        },
        "id": "TRKd9lldAsyE",
        "outputId": "7f981d8d-665b-4b42-d1eb-37a47b325e60"
      },
      "source": [
        "print('FN:', fn[:10])\n",
        "print('FP:', fp[:10])"
      ],
      "execution_count": null,
      "outputs": [
        {
          "output_type": "stream",
          "name": "stdout",
          "text": [
            "FN: ['идти нет на лекцию вроде староста не что делать буду думать до тех пор пока пара не начнется', 'новый год хочу думаю моментов будет много', 'два человека жд т или человек в лице джона и в мо м лице', 'ах как же хочется бокал вина и', 'через неделю в москве а через девять дней на быстрей бы', 'видно его мечта закончится только на подготовке ну а если серьезно то не верится но хотелось бы с', 'я тожи так думал а оказывается нит', 'спокойной ночи и не забывайте что на ночь нельзя смотреть бу', 'глупая маленькая девочка вот убивают такие люди вот что ты этим пытаешься сделать', 'когда у нас такой будет обед или ужин']\n",
            "FP: ['всем доброе утро это разве зима дождь т как из', 'самые живут так далеко', 'андрей покидает пост программы орел и решка ну все', 'привет о хотя тебе насрать', 'са со самолет л к к ба деп', 'мои волнения на моих очеень', 'когда выходили из школы я просто мега упал порвал на ребята ржали надо мной всю дорогу х', 'суббота просто ужас', 'сегодня весь день буду смотреть фильмы завтра надо за уроки сесть', 'с чего начинается утро перед новым годом с конечно']\n"
          ]
        }
      ]
    },
    {
      "cell_type": "code",
      "metadata": {
        "colab": {
          "base_uri": "https://localhost:8080/",
          "height": 295
        },
        "id": "3bUBCwegpCsG",
        "outputId": "857be4ca-c7e8-427e-d766-e0afa5058776"
      },
      "source": [
        "plt.plot(losses)\n",
        "plt.plot(losses_eval)\n",
        "plt.title('BCE loss value')\n",
        "plt.ylabel('BCE loss')\n",
        "plt.xlabel('epoch')\n",
        "plt.legend(['train', 'val'], loc='upper right')\n",
        "plt.show()"
      ],
      "execution_count": null,
      "outputs": [
        {
          "output_type": "display_data",
          "data": {
            "image/png": "[encoded data removed]",
            "text/plain": [
              "<Figure size 432x288 with 1 Axes>"
            ]
          },
          "metadata": {
            "needs_background": "light"
          }
        }
      ]
    },
    {
      "cell_type": "code",
      "metadata": {
        "colab": {
          "base_uri": "https://localhost:8080/",
          "height": 295
        },
        "id": "nO2KQJvxoUH8",
        "outputId": "078a59ba-dd2a-4fc6-a3d3-3398a5b70105"
      },
      "source": [
        "plt.plot(f1s)\n",
        "plt.plot(f1s_eval)\n",
        "plt.title('f1 value')\n",
        "plt.ylabel('f1 value')\n",
        "plt.xlabel('epoch')\n",
        "plt.legend(['train', 'val'], loc='upper right')\n",
        "plt.show()"
      ],
      "execution_count": null,
      "outputs": [
        {
          "output_type": "display_data",
          "data": {
            "image/png": "[encoded data removed]",
            "text/plain": [
              "<Figure size 432x288 with 1 Axes>"
            ]
          },
          "metadata": {
            "needs_background": "light"
          }
        }
      ]
    },
    {
      "cell_type": "markdown",
      "metadata": {
        "id": "ZGJqa2_rsvSZ"
      },
      "source": [
        "2 часть"
      ]
    },
    {
      "cell_type": "code",
      "metadata": {
        "colab": {
          "base_uri": "https://localhost:8080/"
        },
        "id": "-26xQbEKs1zz",
        "outputId": "e6588722-d80e-4f12-9551-abed20004beb"
      },
      "source": [
        "vocab_sym = Counter()\n",
        "for symbol in all_tweets_data['cleaned']:\n",
        "    vocab_sym.update(list(symbol))\n",
        "print('всего уникальных символов:', len(vocab_sym))\n",
        "\n",
        "filtered_vocab_sym = set()\n",
        "\n",
        "for symb in vocab_sym:\n",
        "    if vocab_sym[symb] > 5:\n",
        "        filtered_vocab_sym.add(symb)\n",
        "print('уникальных токенов, втретившихся больше 5 раз:', len(filtered_vocab_sym))\n",
        "\n",
        "symb2id = {'PAD':0}\n",
        "\n",
        "for symb in filtered_vocab_sym:\n",
        "    symb2id[symb] = len(symb2id)\n",
        "    \n",
        "id2symbol = {i:symb for symb, i in symb2id.items()}"
      ],
      "execution_count": null,
      "outputs": [
        {
          "output_type": "stream",
          "name": "stdout",
          "text": [
            "всего уникальных символов: 34\n",
            "уникальных токенов, втретившихся больше 5 раз: 34\n"
          ]
        }
      ]
    },
    {
      "cell_type": "code",
      "metadata": {
        "id": "ZQEB_azrtOFH"
      },
      "source": [
        "class Sent_Word_TweetsDataset(Dataset):\n",
        "\n",
        "    def __init__(self, dataset, word2id, symb2id, DEVICE):\n",
        "        self.dataset = dataset['cleaned'].values\n",
        "        self.word2id = word2id\n",
        "        self.symb2id = symb2id\n",
        "        self.length = dataset.shape[0]\n",
        "        self.target = torch.Tensor(dataset['tone'].values)\n",
        "        self.device = DEVICE\n",
        "\n",
        "    def __len__(self):\n",
        "        return self.length\n",
        "\n",
        "    def __getitem__(self, index):\n",
        "        # пробелы тоже учитываются\n",
        "        symbols = list(self.dataset[index])\n",
        "        symbols_ids = torch.LongTensor([self.symb2id[symb] for symb in symbols if symb in self.symb2id])\n",
        "        \n",
        "        tokens = self.dataset[index].split()\n",
        "        words_ids = torch.LongTensor([self.word2id[token] for token in tokens if token in self.word2id])\n",
        "        y = [self.target[index]]\n",
        "        \n",
        "        return words_ids, symbols_ids, y\n",
        "\n",
        "    def collate_fn(self, batch):\n",
        "        words_ids, symbols_ids, y = list(zip(*batch))\n",
        "        padded_sym_ids = pad_sequence(symbols_ids, batch_first=True).to(self.device)\n",
        "        padded_words_ids = pad_sequence(words_ids, batch_first=True).to(self.device)\n",
        "        y = torch.Tensor(y).to(self.device)\n",
        "        return padded_words_ids, padded_sym_ids, y"
      ],
      "execution_count": null,
      "outputs": []
    },
    {
      "cell_type": "code",
      "metadata": {
        "id": "TTTPBVI1tO22"
      },
      "source": [
        "train_dataset = Sent_Word_TweetsDataset(train_sentences, word2id, symb2id, DEVICE)\n",
        "train_sampler = RandomSampler(train_dataset)\n",
        "train_iterator = DataLoader(train_dataset, collate_fn = train_dataset.collate_fn, sampler=train_sampler, batch_size=1024)\n",
        "val_dataset = Sent_Word_TweetsDataset(val_sentences, word2id, symb2id, DEVICE)\n",
        "val_sampler = SequentialSampler(val_dataset)\n",
        "val_iterator = DataLoader(val_dataset, collate_fn = val_dataset.collate_fn, sampler=val_sampler, batch_size=1024)"
      ],
      "execution_count": null,
      "outputs": []
    },
    {
      "cell_type": "code",
      "metadata": {
        "id": "r8Myz3KstSJW"
      },
      "source": [
        "class Sent_Word_CNN(nn.Module):\n",
        "    \n",
        "    def __init__(self, words_vocab_size, symbols_vocab_size, symbols_embedding_dim):\n",
        "        super().__init__()\n",
        "        self.words_embedding = nn.Embedding(words_vocab_size, 5)\n",
        "        self.words_embedding.from_pretrained(torch.tensor(weights), freeze=True)\n",
        "        self.words_hidden = nn.Linear(in_features=5, out_features=100)\n",
        "\n",
        "        self.sym_embedding = nn.Embedding(symbols_vocab_size, symbols_embedding_dim)        \n",
        "        self.sym_bigrams = nn.Conv1d(in_channels=symbols_embedding_dim, out_channels=60, kernel_size=2, padding='same')\n",
        "        self.sym_trigrams = nn.Conv1d(in_channels=symbols_embedding_dim, out_channels=100, kernel_size=3, padding='same')        \n",
        "        self.symbols_hidden = nn.Linear(in_features=160, out_features=100)\n",
        "        self.pooling = nn.MaxPool1d(kernel_size=2, stride=1)\n",
        "        \n",
        "        self.relu = nn.ReLU()\n",
        "        self.hidden = nn.Linear(200, 1)\n",
        "        self.dropout = nn.Dropout(p=0.5)\n",
        "        self.out = nn.Sigmoid()\n",
        "\n",
        "    def forward(self, words_seq, symb_seq):\n",
        "        embedded_symb = self.sym_embedding(symb_seq)\n",
        "        embedded_symb = embedded_symb.transpose(1,2)\n",
        "        feature_map_bigrams = self.dropout(self.pooling(self.relu(self.sym_bigrams(embedded_symb))))\n",
        "        feature_map_trigrams = self.dropout(self.pooling(self.relu(self.sym_trigrams(embedded_symb))))\n",
        "        pooling1 = feature_map_bigrams.max(2)[0] \n",
        "        pooling2 = feature_map_trigrams.max(2)[0]\n",
        "        symbols_concat = torch.cat((pooling1, pooling2), 1)\n",
        "        symb_vec = self.symbols_hidden(symbols_concat)\n",
        "        \n",
        "        embedded_words = self.words_embedding(words_seq) \n",
        "        m_embedded_words = torch.mean(embedded_words, dim=1)\n",
        "        sent_vec = self.relu(self.dropout(self.words_hidden(m_embedded_words)))\n",
        "        concat = torch.cat((symb_vec, sent_vec), 1)\n",
        "\n",
        "        \n",
        "        logits = self.hidden(concat) \n",
        "        logits = self.out(logits)      \n",
        "        return logits"
      ],
      "execution_count": null,
      "outputs": []
    },
    {
      "cell_type": "code",
      "metadata": {
        "id": "-XATVY0bW7a8"
      },
      "source": [
        "def train(model, iterator, optimizer, criterion):\n",
        "    epoch_loss = 0 # для подсчета среднего лосса на всех батчах\n",
        "\n",
        "    model.train()  # ставим модель в обучение, явно указываем, что сейчас надо будет хранить градиенты у всех весов\n",
        "\n",
        "    for i, (words_seq, symbols_seq, ys) in enumerate(iterator): #итерируемся по батчам\n",
        "        optimizer.zero_grad()  #обнуляем градиенты\n",
        "        preds = model(words_seq, symbols_seq)  #прогоняем данные через модель\n",
        "        loss = criterion(preds, ys) #считаем значение функции потерь  \n",
        "        loss.backward() #считаем градиенты  \n",
        "        optimizer.step() #обновляем веса \n",
        "        epoch_loss += loss.item() #сохраняем значение функции потерь\n",
        "        if not (i + 1) % int(len(iterator)/5):\n",
        "            print(f'Train loss: {epoch_loss/i}')      \n",
        "    return  epoch_loss / len(iterator) # возвращаем среднее значение лосса по всей выборке\n",
        "def evaluate(model, iterator, criterion):\n",
        "    epoch_loss = 0\n",
        "    epoch_metric = 0\n",
        "    model.eval() \n",
        "    with torch.no_grad():\n",
        "        for i, (words_seq, symbols_seq, ys) in enumerate(iterator):   \n",
        "            preds = model(words_seq, symbols_seq)  # делаем предсказания на тесте\n",
        "            loss = criterion(preds, ys)   # считаем значения функции ошибки для статистики  \n",
        "            epoch_loss += loss.item()\n",
        "            batch_metric = f1(preds.round().long(), ys.long(), ignore_index=0)\n",
        "            epoch_metric += batch_metric\n",
        "\n",
        "            if not (i + 1) % int(len(iterator)/5):\n",
        "              print(f'Val loss: {epoch_loss/i}, Val f1: {epoch_metric/i}')\n",
        "        \n",
        "    return epoch_metric / len(iterator), epoch_loss / len(iterator) "
      ],
      "execution_count": null,
      "outputs": []
    },
    {
      "cell_type": "code",
      "metadata": {
        "colab": {
          "base_uri": "https://localhost:8080/"
        },
        "id": "cXhoD574n4Zo",
        "outputId": "23c9fb2f-6014-4359-d574-ee3e417a1aed"
      },
      "source": [
        "model = Sent_Word_CNN(len(word2id), len(symb2id), 8)\n",
        "optimizer = optim.Adam(model.parameters(), lr=0.001)\n",
        "criterion = nn.BCELoss() \n",
        "model = model.to(DEVICE)\n",
        "criterion = criterion.to(DEVICE)\n",
        "\n",
        "losses = []\n",
        "losses_eval = []\n",
        "f1s = []\n",
        "f1s_eval = []\n",
        "\n",
        "for i in range(20):\n",
        "    print(f'\\nstarting Epoch {i}')\n",
        "    print('Training...')\n",
        "    epoch_loss = train(model, train_iterator, optimizer, criterion)\n",
        "    losses.append(epoch_loss)\n",
        "    print('\\nEvaluating on train...')\n",
        "    f1_on_train,_ = evaluate(model, train_iterator, criterion)\n",
        "    f1s.append(f1_on_train)\n",
        "    print('\\nEvaluating on test...')\n",
        "    f1_on_test, epoch_loss_on_test = evaluate(model, val_iterator, criterion)\n",
        "    losses_eval.append(epoch_loss_on_test)\n",
        "    f1s_eval.append(f1_on_test)"
      ],
      "execution_count": null,
      "outputs": [
        {
          "output_type": "stream",
          "name": "stdout",
          "text": [
            "\n",
            "starting Epoch 0\n",
            "Training...\n",
            "Train loss: 0.775589359658105\n",
            "Train loss: 0.7349624366595827\n",
            "Train loss: 0.7193632044575431\n",
            "Train loss: 0.7110289527198016\n",
            "Train loss: 0.7055936471835987\n",
            "\n",
            "Evaluating on train...\n",
            "Val loss: 0.7339832825320107, Val f1: 0.38559651374816895\n",
            "Val loss: 0.7085159071560564, Val f1: 0.37673547863960266\n",
            "Val loss: 0.7007256096059625, Val f1: 0.3718792200088501\n",
            "Val loss: 0.696677957550954, Val f1: 0.371798038482666\n",
            "Val loss: 0.6943044888006674, Val f1: 0.36860522627830505\n",
            "\n",
            "Evaluating on test...\n",
            "Val loss: 0.9153825044631958, Val f1: 0.47238823771476746\n",
            "Val loss: 0.7838407414300101, Val f1: 0.39998164772987366\n",
            "Val loss: 0.7479343685236844, Val f1: 0.38861319422721863\n",
            "Val loss: 0.7315058628718059, Val f1: 0.3781321942806244\n",
            "Val loss: 0.7214286295991195, Val f1: 0.3754432797431946\n",
            "\n",
            "starting Epoch 1\n",
            "Training...\n",
            "Train loss: 0.7327269273144859\n",
            "Train loss: 0.7045007738573797\n",
            "Train loss: 0.6936111788858067\n",
            "Train loss: 0.6878229591806057\n",
            "Train loss: 0.6827360818514953\n",
            "\n",
            "Evaluating on train...\n",
            "Val loss: 0.721476571900504, Val f1: 0.4349140524864197\n",
            "Val loss: 0.6952959956793949, Val f1: 0.42398449778556824\n",
            "Val loss: 0.6875809715552763, Val f1: 0.41943609714508057\n",
            "Val loss: 0.6834236726922504, Val f1: 0.41632017493247986\n",
            "Val loss: 0.6810601442246824, Val f1: 0.41451597213745117\n",
            "\n",
            "Evaluating on test...\n",
            "Val loss: 0.9003795584042867, Val f1: 0.5239695310592651\n",
            "Val loss: 0.7702734981264386, Val f1: 0.44862791895866394\n",
            "Val loss: 0.734662960876118, Val f1: 0.43898680806159973\n",
            "Val loss: 0.7189729889233907, Val f1: 0.4272746443748474\n",
            "Val loss: 0.7086138599797299, Val f1: 0.42301487922668457\n",
            "\n",
            "starting Epoch 2\n",
            "Training...\n",
            "Train loss: 0.7096805913107735\n",
            "Train loss: 0.6808189297544545\n",
            "Train loss: 0.6699931824749167\n",
            "Train loss: 0.6634259537114935\n",
            "Train loss: 0.6588548518515922\n",
            "\n",
            "Evaluating on train...\n",
            "Val loss: 0.6931423374584743, Val f1: 0.6704419851303101\n",
            "Val loss: 0.6692656114183623, Val f1: 0.6447176337242126\n",
            "Val loss: 0.6611691604961049, Val f1: 0.6364756226539612\n",
            "Val loss: 0.6574591580083815, Val f1: 0.6342740654945374\n",
            "Val loss: 0.6552193793090614, Val f1: 0.6335529088973999\n",
            "\n",
            "Evaluating on test...\n",
            "Val loss: 0.8703769246737162, Val f1: 0.8078522682189941\n",
            "Val loss: 0.7429140295301165, Val f1: 0.6978932619094849\n",
            "Val loss: 0.7084971232847734, Val f1: 0.6693899631500244\n",
            "Val loss: 0.6938270092010498, Val f1: 0.656955361366272\n",
            "Val loss: 0.6835814965398688, Val f1: 0.6500380039215088\n",
            "\n",
            "starting Epoch 3\n",
            "Training...\n",
            "Train loss: 0.6845229140349797\n",
            "Train loss: 0.6569622159004211\n",
            "Train loss: 0.6480902541767467\n",
            "Train loss: 0.6436663057844517\n",
            "Train loss: 0.6412930045578931\n",
            "\n",
            "Evaluating on train...\n",
            "Val loss: 0.6808147217546191, Val f1: 0.6692954897880554\n",
            "Val loss: 0.6562244522160497, Val f1: 0.6555310487747192\n",
            "Val loss: 0.6497719247232784, Val f1: 0.6458899974822998\n",
            "Val loss: 0.6460890325449281, Val f1: 0.6416403651237488\n",
            "Val loss: 0.6436588530604904, Val f1: 0.638562023639679\n",
            "\n",
            "Evaluating on test...\n",
            "Val loss: 0.8544139464696249, Val f1: 0.8306877017021179\n",
            "Val loss: 0.7292763250214713, Val f1: 0.7158523201942444\n",
            "Val loss: 0.6954481168226763, Val f1: 0.6828545928001404\n",
            "Val loss: 0.6814952810605367, Val f1: 0.6682528853416443\n",
            "Val loss: 0.6714791059494019, Val f1: 0.6595209836959839\n",
            "\n",
            "starting Epoch 4\n",
            "Training...\n",
            "Train loss: 0.667926835162299\n",
            "Train loss: 0.6462323562852268\n",
            "Train loss: 0.6384266994216226\n",
            "Train loss: 0.63382747920893\n",
            "Train loss: 0.6316905319690704\n",
            "\n",
            "Evaluating on train...\n",
            "Val loss: 0.6679667447294507, Val f1: 0.7424100041389465\n",
            "Val loss: 0.6456046741584252, Val f1: 0.7120922803878784\n",
            "Val loss: 0.6377937102859671, Val f1: 0.7039865851402283\n",
            "Val loss: 0.6347606384148032, Val f1: 0.6988646984100342\n",
            "Val loss: 0.6323300253700566, Val f1: 0.6980871558189392\n",
            "\n",
            "Evaluating on test...\n",
            "Val loss: 0.8436452945073446, Val f1: 0.9008000493049622\n",
            "Val loss: 0.7180374009268624, Val f1: 0.7796013951301575\n",
            "Val loss: 0.6846885735338385, Val f1: 0.7465419769287109\n",
            "Val loss: 0.6711523095766704, Val f1: 0.7289711833000183\n",
            "Val loss: 0.661297785608392, Val f1: 0.7198691368103027\n",
            "\n",
            "starting Epoch 5\n",
            "Training...\n",
            "Train loss: 0.6655255343232837\n",
            "Train loss: 0.6395426351448585\n",
            "Train loss: 0.6316597800363194\n",
            "Train loss: 0.6273129572302608\n",
            "Train loss: 0.6255495105240796\n",
            "\n",
            "Evaluating on train...\n",
            "Val loss: 0.6632447157587323, Val f1: 0.7574999928474426\n",
            "Val loss: 0.6413922741495329, Val f1: 0.7324057817459106\n",
            "Val loss: 0.6343448649753224, Val f1: 0.7241155505180359\n",
            "Val loss: 0.6310420874821938, Val f1: 0.7189286351203918\n",
            "Val loss: 0.6283462466420354, Val f1: 0.717422366142273\n",
            "\n",
            "Evaluating on test...\n",
            "Val loss: 0.8417777220408121, Val f1: 0.9200983047485352\n",
            "Val loss: 0.715018595967974, Val f1: 0.797330915927887\n",
            "Val loss: 0.6817475178024985, Val f1: 0.7612978219985962\n",
            "Val loss: 0.6684026439984639, Val f1: 0.744389533996582\n",
            "Val loss: 0.6586399956753379, Val f1: 0.7364311218261719\n",
            "\n",
            "starting Epoch 6\n",
            "Training...\n",
            "Train loss: 0.6603599275861468\n",
            "Train loss: 0.6340544264892052\n",
            "Train loss: 0.6246109117161144\n",
            "Train loss: 0.6209397386696379\n",
            "Train loss: 0.6185992972270863\n",
            "\n",
            "Evaluating on train...\n",
            "Val loss: 0.6500203609466553, Val f1: 0.7422003149986267\n",
            "Val loss: 0.6292416083401647, Val f1: 0.7165105938911438\n",
            "Val loss: 0.6231721422889016, Val f1: 0.7045172452926636\n",
            "Val loss: 0.6200225403753378, Val f1: 0.7000938653945923\n",
            "Val loss: 0.6173632539607383, Val f1: 0.6981863379478455\n",
            "\n",
            "Evaluating on test...\n",
            "Val loss: 0.8266834219296774, Val f1: 0.8985392451286316\n",
            "Val loss: 0.7034127116203308, Val f1: 0.7788820266723633\n",
            "Val loss: 0.6705455509099093, Val f1: 0.7444473505020142\n",
            "Val loss: 0.6574303309122721, Val f1: 0.7279026508331299\n",
            "Val loss: 0.6477722431484022, Val f1: 0.7183781862258911\n",
            "\n",
            "starting Epoch 7\n",
            "Training...\n",
            "Train loss: 0.6439209921019418\n",
            "Train loss: 0.6225072947041742\n",
            "Train loss: 0.616131683642214\n",
            "Train loss: 0.6139625987764132\n",
            "Train loss: 0.6117117251898792\n",
            "\n",
            "Evaluating on train...\n",
            "Val loss: 0.6468308227402824, Val f1: 0.7477330565452576\n",
            "Val loss: 0.6249021045092878, Val f1: 0.7240163683891296\n",
            "Val loss: 0.6174253076314926, Val f1: 0.7162718772888184\n",
            "Val loss: 0.6136195710149862, Val f1: 0.7113916873931885\n",
            "Val loss: 0.6114277179176743, Val f1: 0.7099760174751282\n",
            "\n",
            "Evaluating on test...\n",
            "Val loss: 0.8203768730163574, Val f1: 0.9110146164894104\n",
            "Val loss: 0.6980005502700806, Val f1: 0.7871052622795105\n",
            "Val loss: 0.665306730703874, Val f1: 0.7534334659576416\n",
            "Val loss: 0.6524035771687825, Val f1: 0.736975908279419\n",
            "Val loss: 0.6428791535528082, Val f1: 0.7286224365234375\n",
            "\n",
            "starting Epoch 8\n",
            "Training...\n",
            "Train loss: 0.6430153889315469\n",
            "Train loss: 0.6175359199787008\n",
            "Train loss: 0.608652345158837\n",
            "Train loss: 0.6043212757272235\n",
            "Train loss: 0.6020561690266067\n",
            "\n",
            "Evaluating on train...\n",
            "Val loss: 0.6439931988716125, Val f1: 0.7715635299682617\n",
            "Val loss: 0.6206209865109674, Val f1: 0.7465301752090454\n",
            "Val loss: 0.6131332421844656, Val f1: 0.7398963570594788\n",
            "Val loss: 0.6096809950925536, Val f1: 0.7349197268486023\n",
            "Val loss: 0.6074160498541754, Val f1: 0.7330130338668823\n",
            "\n",
            "Evaluating on test...\n",
            "Val loss: 0.8211332758267721, Val f1: 0.9378939270973206\n",
            "Val loss: 0.6965954644339425, Val f1: 0.8124130964279175\n",
            "Val loss: 0.6637399846857245, Val f1: 0.7754166126251221\n",
            "Val loss: 0.651215136051178, Val f1: 0.7582586407661438\n",
            "Val loss: 0.6418729455847489, Val f1: 0.7493017315864563\n",
            "\n",
            "starting Epoch 9\n",
            "Training...\n",
            "Train loss: 0.6453521251678467\n",
            "Train loss: 0.6145596072591585\n",
            "Train loss: 0.6068415127017281\n",
            "Train loss: 0.6018016732345193\n",
            "Train loss: 0.5991138783661095\n",
            "\n",
            "Evaluating on train...\n",
            "Val loss: 0.6320162713527679, Val f1: 0.7733075022697449\n",
            "Val loss: 0.6116765943066828, Val f1: 0.7443691492080688\n",
            "Val loss: 0.6039396619254892, Val f1: 0.7363291382789612\n",
            "Val loss: 0.6004865674649255, Val f1: 0.7321785688400269\n",
            "Val loss: 0.5980667922947858, Val f1: 0.7305388450622559\n",
            "\n",
            "Evaluating on test...\n",
            "Val loss: 0.8089485764503479, Val f1: 0.9318637251853943\n",
            "Val loss: 0.6869071892329625, Val f1: 0.8072746992111206\n",
            "Val loss: 0.6543983546170321, Val f1: 0.7721313834190369\n",
            "Val loss: 0.6420298218727112, Val f1: 0.7550111413002014\n",
            "Val loss: 0.6328154614097193, Val f1: 0.7461569905281067\n",
            "\n",
            "starting Epoch 10\n",
            "Training...\n",
            "Train loss: 0.6287536450794765\n",
            "Train loss: 0.6030536663943323\n",
            "Train loss: 0.5955352756110105\n",
            "Train loss: 0.5920855322126615\n",
            "Train loss: 0.590455832513603\n",
            "\n",
            "Evaluating on train...\n",
            "Val loss: 0.6218009803976331, Val f1: 0.77728271484375\n",
            "Val loss: 0.6014783649609007, Val f1: 0.7467023730278015\n",
            "Val loss: 0.5950408266349272, Val f1: 0.7390636205673218\n",
            "Val loss: 0.591289259619632, Val f1: 0.7341400980949402\n",
            "Val loss: 0.5899592130570799, Val f1: 0.7299500703811646\n",
            "\n",
            "Evaluating on test...\n",
            "Val loss: 0.8006083369255066, Val f1: 0.9333347678184509\n",
            "Val loss: 0.6801695397921971, Val f1: 0.8053663969039917\n",
            "Val loss: 0.6476449153640054, Val f1: 0.7690995931625366\n",
            "Val loss: 0.6354124943415324, Val f1: 0.7521606087684631\n",
            "Val loss: 0.6264202061452364, Val f1: 0.741956889629364\n",
            "\n",
            "starting Epoch 11\n",
            "Training...\n",
            "Train loss: 0.6200777079377856\n",
            "Train loss: 0.5963565070053627\n",
            "Train loss: 0.5883084020831368\n",
            "Train loss: 0.5838499210648618\n",
            "Train loss: 0.5828177485917065\n",
            "\n",
            "Evaluating on train...\n",
            "Val loss: 0.6164401301315853, Val f1: 0.7607294321060181\n",
            "Val loss: 0.5945816183912342, Val f1: 0.7385436296463013\n",
            "Val loss: 0.5886896523562345, Val f1: 0.7269775867462158\n",
            "Val loss: 0.5839672553337226, Val f1: 0.7229142189025879\n",
            "Val loss: 0.582184943798426, Val f1: 0.7195987105369568\n",
            "\n",
            "Evaluating on test...\n",
            "Val loss: 0.7911455035209656, Val f1: 0.9232051968574524\n",
            "Val loss: 0.6733112164906093, Val f1: 0.7954421043395996\n",
            "Val loss: 0.6409615603360262, Val f1: 0.7606373429298401\n",
            "Val loss: 0.6287860910097758, Val f1: 0.7441392540931702\n",
            "Val loss: 0.6199369336429396, Val f1: 0.7337312698364258\n",
            "\n",
            "starting Epoch 12\n",
            "Training...\n",
            "Train loss: 0.6111473441123962\n",
            "Train loss: 0.5887401782233139\n",
            "Train loss: 0.5846988667141307\n",
            "Train loss: 0.5809336254152201\n",
            "Train loss: 0.5777710805068145\n",
            "\n",
            "Evaluating on train...\n",
            "Val loss: 0.6124918929168156, Val f1: 0.76297527551651\n",
            "Val loss: 0.5905469655990601, Val f1: 0.736891508102417\n",
            "Val loss: 0.5831793519583616, Val f1: 0.7311702966690063\n",
            "Val loss: 0.5795987541392699, Val f1: 0.7279733419418335\n",
            "Val loss: 0.576183067785727, Val f1: 0.7265964150428772\n",
            "\n",
            "Evaluating on test...\n",
            "Val loss: 0.7862681746482849, Val f1: 0.9276074767112732\n",
            "Val loss: 0.6691852467400687, Val f1: 0.8011689782142639\n",
            "Val loss: 0.6368363120339133, Val f1: 0.7651490569114685\n",
            "Val loss: 0.6247855226198832, Val f1: 0.7481597661972046\n",
            "Val loss: 0.6161724015286094, Val f1: 0.7374802231788635\n",
            "\n",
            "starting Epoch 13\n",
            "Training...\n",
            "Train loss: 0.6109706333705357\n",
            "Train loss: 0.5856691927745424\n",
            "Train loss: 0.5789681510491804\n",
            "Train loss: 0.5753123588481192\n",
            "Train loss: 0.5737886034153603\n",
            "\n",
            "Evaluating on train...\n",
            "Val loss: 0.6132118829659053, Val f1: 0.7344015836715698\n",
            "Val loss: 0.589010633271316, Val f1: 0.7098785638809204\n",
            "Val loss: 0.581645209680904, Val f1: 0.7009069919586182\n",
            "Val loss: 0.5780423940238306, Val f1: 0.6971229314804077\n",
            "Val loss: 0.5773591278372584, Val f1: 0.6947240829467773\n",
            "\n",
            "Evaluating on test...\n",
            "Val loss: 0.7875913381576538, Val f1: 0.8845877647399902\n",
            "Val loss: 0.6720598936080933, Val f1: 0.7576308846473694\n",
            "Val loss: 0.6395180767232721, Val f1: 0.7252657413482666\n",
            "Val loss: 0.6270883878072103, Val f1: 0.7097346782684326\n",
            "Val loss: 0.6185843850436964, Val f1: 0.7000451683998108\n",
            "\n",
            "starting Epoch 14\n",
            "Training...\n",
            "Train loss: 0.6139809531824929\n",
            "Train loss: 0.5901697278022766\n",
            "Train loss: 0.5805980508977716\n",
            "Train loss: 0.5753549862716157\n",
            "Train loss: 0.5712220475480363\n",
            "\n",
            "Evaluating on train...\n",
            "Val loss: 0.5933119484356472, Val f1: 0.7737212777137756\n",
            "Val loss: 0.5751716350686962, Val f1: 0.7466710209846497\n",
            "Val loss: 0.5688053843649951, Val f1: 0.7379636764526367\n",
            "Val loss: 0.565251956551762, Val f1: 0.7326866388320923\n",
            "Val loss: 0.5641473878074337, Val f1: 0.7291256785392761\n",
            "\n",
            "Evaluating on test...\n",
            "Val loss: 0.7770460247993469, Val f1: 0.9267982840538025\n",
            "Val loss: 0.6613186342375619, Val f1: 0.7959975004196167\n",
            "Val loss: 0.6287351900880987, Val f1: 0.7620214819908142\n",
            "Val loss: 0.6169125636418661, Val f1: 0.7451460361480713\n",
            "Val loss: 0.6086104135764273, Val f1: 0.7345007061958313\n",
            "\n",
            "starting Epoch 15\n",
            "Training...\n",
            "Train loss: 0.5930359619004386\n",
            "Train loss: 0.5718318593913111\n",
            "Train loss: 0.5650423426519741\n",
            "Train loss: 0.5630146103390192\n",
            "Train loss: 0.561745509908006\n",
            "\n",
            "Evaluating on train...\n",
            "Val loss: 0.589364115680967, Val f1: 0.7884036302566528\n",
            "Val loss: 0.5699139134637241, Val f1: 0.7608245611190796\n",
            "Val loss: 0.5632854280146685, Val f1: 0.7512170672416687\n",
            "Val loss: 0.5603754035497116, Val f1: 0.7470752000808716\n",
            "Val loss: 0.5589234683964703, Val f1: 0.7443405389785767\n",
            "\n",
            "Evaluating on test...\n",
            "Val loss: 0.7749800880750021, Val f1: 0.9453368186950684\n",
            "Val loss: 0.658325229372297, Val f1: 0.8147078156471252\n",
            "Val loss: 0.625452540137551, Val f1: 0.7784091830253601\n",
            "Val loss: 0.6138956109682719, Val f1: 0.7612100839614868\n",
            "Val loss: 0.6058543920516968, Val f1: 0.7502896785736084\n",
            "\n",
            "starting Epoch 16\n",
            "Training...\n",
            "Train loss: 0.5830422767571041\n",
            "Train loss: 0.5630386780048239\n",
            "Train loss: 0.5597722611644051\n",
            "Train loss: 0.5570799425496893\n",
            "Train loss: 0.5553268145870518\n",
            "\n",
            "Evaluating on train...\n",
            "Val loss: 0.5838620918137687, Val f1: 0.7920612096786499\n",
            "Val loss: 0.5633513516393202, Val f1: 0.7672754526138306\n",
            "Val loss: 0.556464134292169, Val f1: 0.7571448683738708\n",
            "Val loss: 0.5545305912777528, Val f1: 0.7515755295753479\n",
            "Val loss: 0.5540449603183849, Val f1: 0.7472729682922363\n",
            "\n",
            "Evaluating on test...\n",
            "Val loss: 0.7715059717496237, Val f1: 0.9457599520683289\n",
            "Val loss: 0.6551919409206935, Val f1: 0.8155769109725952\n",
            "Val loss: 0.6223518252372742, Val f1: 0.7789550423622131\n",
            "Val loss: 0.6109097719192504, Val f1: 0.7621325254440308\n",
            "Val loss: 0.60291504232507, Val f1: 0.7521384358406067\n",
            "\n",
            "starting Epoch 17\n",
            "Training...\n",
            "Train loss: 0.5776007516043526\n",
            "Train loss: 0.5632731071833906\n",
            "Train loss: 0.5591671588745984\n",
            "Train loss: 0.5565423147153046\n",
            "Train loss: 0.5531535438589148\n",
            "\n",
            "Evaluating on train...\n",
            "Val loss: 0.576211656842913, Val f1: 0.7874619364738464\n",
            "Val loss: 0.5584357339760353, Val f1: 0.761009693145752\n",
            "Val loss: 0.5527394820343364, Val f1: 0.7519637942314148\n",
            "Val loss: 0.5492830256284293, Val f1: 0.7486388683319092\n",
            "Val loss: 0.5486636806178737, Val f1: 0.7451899647712708\n",
            "\n",
            "Evaluating on test...\n",
            "Val loss: 0.7665196458498637, Val f1: 0.9450343251228333\n",
            "Val loss: 0.6513100096157619, Val f1: 0.8108609914779663\n",
            "Val loss: 0.6185966621745717, Val f1: 0.7739854454994202\n",
            "Val loss: 0.6070882876714071, Val f1: 0.7568283081054688\n",
            "Val loss: 0.5992031191524706, Val f1: 0.7463656663894653\n",
            "\n",
            "starting Epoch 18\n",
            "Training...\n",
            "Train loss: 0.5828992085797446\n",
            "Train loss: 0.5630632947231161\n",
            "Train loss: 0.5539648261937228\n",
            "Train loss: 0.5500825724359286\n",
            "Train loss: 0.548115774586394\n",
            "\n",
            "Evaluating on train...\n",
            "Val loss: 0.572635850736073, Val f1: 0.7946106791496277\n",
            "Val loss: 0.553663155128216, Val f1: 0.7658993005752563\n",
            "Val loss: 0.5483884946866469, Val f1: 0.7572540044784546\n",
            "Val loss: 0.5458386984922118, Val f1: 0.7527817487716675\n",
            "Val loss: 0.544720280009347, Val f1: 0.7498071193695068\n",
            "\n",
            "Evaluating on test...\n",
            "Val loss: 0.7652672727902731, Val f1: 0.9402615427970886\n",
            "Val loss: 0.6499340874808175, Val f1: 0.8088453412055969\n",
            "Val loss: 0.6169257705861871, Val f1: 0.7733705043792725\n",
            "Val loss: 0.6054921468098958, Val f1: 0.7574157118797302\n",
            "Val loss: 0.5977594162288465, Val f1: 0.7475702166557312\n",
            "\n",
            "starting Epoch 19\n",
            "Training...\n",
            "Train loss: 0.5681468588965279\n",
            "Train loss: 0.5550375498574356\n",
            "Train loss: 0.5508861880410801\n",
            "Train loss: 0.5465156486478903\n",
            "Train loss: 0.5437493823670052\n",
            "\n",
            "Evaluating on train...\n",
            "Val loss: 0.586517116853169, Val f1: 0.8026677966117859\n",
            "Val loss: 0.5635225156257893, Val f1: 0.7788664102554321\n",
            "Val loss: 0.5571324093775316, Val f1: 0.7718522548675537\n",
            "Val loss: 0.5544727474956189, Val f1: 0.7662404775619507\n",
            "Val loss: 0.5509446569391199, Val f1: 0.7646440267562866\n",
            "\n",
            "Evaluating on test...\n",
            "Val loss: 0.7824533184369405, Val f1: 0.965513288974762\n",
            "Val loss: 0.6612684726715088, Val f1: 0.832604706287384\n",
            "Val loss: 0.6272117441350763, Val f1: 0.7982041835784912\n",
            "Val loss: 0.6162594159444174, Val f1: 0.7804580330848694\n",
            "Val loss: 0.6084913360445123, Val f1: 0.7690204381942749\n"
          ]
        }
      ]
    },
    {
      "cell_type": "code",
      "metadata": {
        "colab": {
          "base_uri": "https://localhost:8080/",
          "height": 295
        },
        "id": "bp0eG-KGjeBb",
        "outputId": "3c0e7a3f-0598-4f8f-adb7-cfc2574191b6"
      },
      "source": [
        "import matplotlib.pyplot as plt\n",
        "plt.plot(losses)\n",
        "plt.plot(losses_eval)\n",
        "plt.title('BCE loss value')\n",
        "plt.ylabel('BCE loss')\n",
        "plt.xlabel('epoch')\n",
        "plt.legend(['train', 'val'], loc='upper right')\n",
        "plt.show()"
      ],
      "execution_count": null,
      "outputs": [
        {
          "output_type": "display_data",
          "data": {
            "image/png": "[encoded data removed]",
            "text/plain": [
              "<Figure size 432x288 with 1 Axes>"
            ]
          },
          "metadata": {
            "needs_background": "light"
          }
        }
      ]
    },
    {
      "cell_type": "markdown",
      "metadata": {
        "id": "MK_4ki4s20GQ"
      },
      "source": [
        "На 20 эпохах скачок (видимо, случилось переобучение), поставим поменьше"
      ]
    },
    {
      "cell_type": "code",
      "metadata": {
        "colab": {
          "base_uri": "https://localhost:8080/",
          "height": 295
        },
        "id": "oB69qG5YjgYV",
        "outputId": "2ccddf7b-5740-452f-dd55-7e507444577f"
      },
      "source": [
        "import matplotlib.pyplot as plt\n",
        "plt.plot(f1s)\n",
        "plt.plot(f1s_eval)\n",
        "plt.title('f1 value')\n",
        "plt.ylabel('f1 value')\n",
        "plt.xlabel('epoch')\n",
        "plt.legend(['train', 'val'], loc='upper right')\n",
        "plt.show()"
      ],
      "execution_count": null,
      "outputs": [
        {
          "output_type": "display_data",
          "data": {
            "image/png": "[encoded data removed]",
            "text/plain": [
              "<Figure size 432x288 with 1 Axes>"
            ]
          },
          "metadata": {
            "needs_background": "light"
          }
        }
      ]
    },
    {
      "cell_type": "code",
      "metadata": {
        "colab": {
          "base_uri": "https://localhost:8080/"
        },
        "id": "M2ftR4JX3SF8",
        "outputId": "4ec733c5-4d3c-4279-c7bf-dd1f0b68faa7"
      },
      "source": [
        "model = Sent_Word_CNN(len(word2id), len(symb2id), 8)\n",
        "optimizer = optim.Adam(model.parameters(), lr=0.001)\n",
        "criterion = nn.BCELoss() \n",
        "model = model.to(DEVICE)\n",
        "criterion = criterion.to(DEVICE)\n",
        "\n",
        "losses = []\n",
        "losses_eval = []\n",
        "f1s = []\n",
        "f1s_eval = []\n",
        "\n",
        "for i in range(17):\n",
        "    print(f'\\nstarting Epoch {i}')\n",
        "    print('Training...')\n",
        "    epoch_loss = train(model, train_iterator, optimizer, criterion)\n",
        "    losses.append(epoch_loss)\n",
        "    print('\\nEvaluating on train...')\n",
        "    f1_on_train,_ = evaluate(model, train_iterator, criterion)\n",
        "    f1s.append(f1_on_train)\n",
        "    print('\\nEvaluating on test...')\n",
        "    f1_on_test, epoch_loss_on_test = evaluate(model, val_iterator, criterion)\n",
        "    losses_eval.append(epoch_loss_on_test)\n",
        "    f1s_eval.append(f1_on_test)"
      ],
      "execution_count": null,
      "outputs": [
        {
          "output_type": "stream",
          "name": "stdout",
          "text": [
            "\n",
            "starting Epoch 0\n",
            "Training...\n",
            "Train loss: 0.7992709747382573\n",
            "Train loss: 0.7484172212666479\n",
            "Train loss: 0.7295017093420029\n",
            "Train loss: 0.7200578592591367\n",
            "Train loss: 0.713308227223319\n",
            "\n",
            "Evaluating on train...\n",
            "Val loss: 0.7364101665360587, Val f1: 0.6696382761001587\n",
            "Val loss: 0.7107178055006882, Val f1: 0.6533588767051697\n",
            "Val loss: 0.7025924677198584, Val f1: 0.6472249031066895\n",
            "Val loss: 0.6984969347210254, Val f1: 0.6453640460968018\n",
            "Val loss: 0.6960755079179197, Val f1: 0.6431303024291992\n",
            "\n",
            "Evaluating on test...\n",
            "Val loss: 0.9178418119748434, Val f1: 0.8310179710388184\n",
            "Val loss: 0.7854924116815839, Val f1: 0.7173877954483032\n",
            "Val loss: 0.7497152848677202, Val f1: 0.6818198561668396\n",
            "Val loss: 0.7330591003100078, Val f1: 0.6710833311080933\n",
            "Val loss: 0.7232071161270142, Val f1: 0.6636601686477661\n",
            "\n",
            "starting Epoch 1\n",
            "Training...\n",
            "Train loss: 0.7316398237432752\n",
            "Train loss: 0.7056166406335502\n",
            "Train loss: 0.6957895105535333\n",
            "Train loss: 0.6902341832548885\n",
            "Train loss: 0.685789784064164\n",
            "\n",
            "Evaluating on train...\n",
            "Val loss: 0.7194476170199258, Val f1: 0.6945826411247253\n",
            "Val loss: 0.6944276526056486, Val f1: 0.6701459288597107\n",
            "Val loss: 0.6866197098385204, Val f1: 0.6629078984260559\n",
            "Val loss: 0.6827647261700388, Val f1: 0.6593708395957947\n",
            "Val loss: 0.6800767151085106, Val f1: 0.6583580374717712\n",
            "\n",
            "Evaluating on test...\n",
            "Val loss: 0.9001518090566, Val f1: 0.8504450917243958\n",
            "Val loss: 0.7688158324786595, Val f1: 0.7326980233192444\n",
            "Val loss: 0.733755187554793, Val f1: 0.6992533802986145\n",
            "Val loss: 0.7177157282829285, Val f1: 0.6832383275032043\n",
            "Val loss: 0.7076896021240636, Val f1: 0.6746180057525635\n",
            "\n",
            "starting Epoch 2\n",
            "Training...\n",
            "Train loss: 0.7114079466887883\n",
            "Train loss: 0.6850183441721159\n",
            "Train loss: 0.6743802699175748\n",
            "Train loss: 0.667909104945296\n",
            "Train loss: 0.6637380541981878\n",
            "\n",
            "Evaluating on train...\n",
            "Val loss: 0.7025631368160248, Val f1: 0.6138492226600647\n",
            "Val loss: 0.6778192026861782, Val f1: 0.600558876991272\n",
            "Val loss: 0.6698513274843042, Val f1: 0.5945292711257935\n",
            "Val loss: 0.6662790108535249, Val f1: 0.5914708375930786\n",
            "Val loss: 0.6637593040595183, Val f1: 0.5913954377174377\n",
            "\n",
            "Evaluating on test...\n",
            "Val loss: 0.8788214127222697, Val f1: 0.7627739906311035\n",
            "Val loss: 0.7508211391312736, Val f1: 0.6573485136032104\n",
            "Val loss: 0.7165781530466947, Val f1: 0.6236608028411865\n",
            "Val loss: 0.7016558726628621, Val f1: 0.6104875802993774\n",
            "Val loss: 0.6915376092258253, Val f1: 0.6042800545692444\n",
            "\n",
            "starting Epoch 3\n",
            "Training...\n",
            "Train loss: 0.6957625108105796\n",
            "Train loss: 0.6697750317639318\n",
            "Train loss: 0.65970694612373\n",
            "Train loss: 0.6551636881747488\n",
            "Train loss: 0.650981105662681\n",
            "\n",
            "Evaluating on train...\n",
            "Val loss: 0.6925303893429893, Val f1: 0.6491207480430603\n",
            "Val loss: 0.6680535859075086, Val f1: 0.6266371011734009\n",
            "Val loss: 0.6596351536837491, Val f1: 0.6214002966880798\n",
            "Val loss: 0.6560949521549677, Val f1: 0.6167920231819153\n",
            "Val loss: 0.6533655741730252, Val f1: 0.6176037788391113\n",
            "\n",
            "Evaluating on test...\n",
            "Val loss: 0.866640031337738, Val f1: 0.7910175919532776\n",
            "Val loss: 0.7399873818670001, Val f1: 0.6841140389442444\n",
            "Val loss: 0.70592031695626, Val f1: 0.6522969603538513\n",
            "Val loss: 0.6916433731714885, Val f1: 0.6369465589523315\n",
            "Val loss: 0.6818408432759737, Val f1: 0.6295034289360046\n",
            "\n",
            "starting Epoch 4\n",
            "Training...\n",
            "Train loss: 0.6831008834498269\n",
            "Train loss: 0.6585487826117153\n",
            "Train loss: 0.6516813649372621\n",
            "Train loss: 0.6464819948552019\n",
            "Train loss: 0.643073450874638\n",
            "\n",
            "Evaluating on train...\n",
            "Val loss: 0.6817522985594613, Val f1: 0.6980195641517639\n",
            "Val loss: 0.658138828030948, Val f1: 0.6757354736328125\n",
            "Val loss: 0.6505129025741057, Val f1: 0.6699074506759644\n",
            "Val loss: 0.6465000176833848, Val f1: 0.6663718819618225\n",
            "Val loss: 0.6443494211983036, Val f1: 0.6630698442459106\n",
            "\n",
            "Evaluating on test...\n",
            "Val loss: 0.8573143084843954, Val f1: 0.8575193881988525\n",
            "Val loss: 0.7314999614443097, Val f1: 0.7383756637573242\n",
            "Val loss: 0.6974857341159474, Val f1: 0.7052505612373352\n",
            "Val loss: 0.6832941889762878, Val f1: 0.6872497797012329\n",
            "Val loss: 0.6738384742485849, Val f1: 0.6781381368637085\n",
            "\n",
            "starting Epoch 5\n",
            "Training...\n",
            "Train loss: 0.6681887464863914\n",
            "Train loss: 0.6456306473962192\n",
            "Train loss: 0.6378764767538417\n",
            "Train loss: 0.6339732469138453\n",
            "Train loss: 0.632196465859542\n",
            "\n",
            "Evaluating on train...\n",
            "Val loss: 0.6720918885299138, Val f1: 0.7291091084480286\n",
            "Val loss: 0.6504398707685799, Val f1: 0.702440619468689\n",
            "Val loss: 0.6427511870861053, Val f1: 0.697185754776001\n",
            "Val loss: 0.6388394903328459, Val f1: 0.693973958492279\n",
            "Val loss: 0.6360296002916388, Val f1: 0.693058431148529\n",
            "\n",
            "Evaluating on test...\n",
            "Val loss: 0.8502201239267985, Val f1: 0.8884571194648743\n",
            "Val loss: 0.7240798388208661, Val f1: 0.7688716053962708\n",
            "Val loss: 0.6898998130451549, Val f1: 0.7362081408500671\n",
            "Val loss: 0.6759915709495544, Val f1: 0.7179793119430542\n",
            "Val loss: 0.666788167075107, Val f1: 0.7094594836235046\n",
            "\n",
            "starting Epoch 6\n",
            "Training...\n",
            "Train loss: 0.6666459909507206\n",
            "Train loss: 0.6406063108608641\n",
            "Train loss: 0.6325930194421248\n",
            "Train loss: 0.6280863416396966\n",
            "Train loss: 0.6265075698092177\n",
            "\n",
            "Evaluating on train...\n",
            "Val loss: 0.66544508934021, Val f1: 0.7327693700790405\n",
            "Val loss: 0.6416728208804953, Val f1: 0.7046070098876953\n",
            "Val loss: 0.6346990628675981, Val f1: 0.6967294216156006\n",
            "Val loss: 0.631008024943077, Val f1: 0.693049430847168\n",
            "Val loss: 0.6291132102141509, Val f1: 0.6905316710472107\n",
            "\n",
            "Evaluating on test...\n",
            "Val loss: 0.8432781298955282, Val f1: 0.884564220905304\n",
            "Val loss: 0.7179916075297764, Val f1: 0.7662025690078735\n",
            "Val loss: 0.6835195476358588, Val f1: 0.7334951758384705\n",
            "Val loss: 0.6698006788889567, Val f1: 0.7159282565116882\n",
            "Val loss: 0.6606250907245436, Val f1: 0.7067614793777466\n",
            "\n",
            "starting Epoch 7\n",
            "Training...\n",
            "Train loss: 0.6576030126639775\n",
            "Train loss: 0.631355487067124\n",
            "Train loss: 0.6235341334884817\n",
            "Train loss: 0.6213444602691521\n",
            "Train loss: 0.618655339286134\n",
            "\n",
            "Evaluating on train...\n",
            "Val loss: 0.6588746692453112, Val f1: 0.6946198344230652\n",
            "Val loss: 0.6366838710061435, Val f1: 0.6747785806655884\n",
            "Val loss: 0.6299105435609818, Val f1: 0.6662886142730713\n",
            "Val loss: 0.6266386114944846, Val f1: 0.6643996834754944\n",
            "Val loss: 0.6244612126737028, Val f1: 0.6616764068603516\n",
            "\n",
            "Evaluating on test...\n",
            "Val loss: 0.8384789228439331, Val f1: 0.8363008499145508\n",
            "Val loss: 0.7142575979232788, Val f1: 0.7246012091636658\n",
            "Val loss: 0.6794971119273793, Val f1: 0.6943498849868774\n",
            "Val loss: 0.665853214263916, Val f1: 0.6800819635391235\n",
            "Val loss: 0.6565720062506827, Val f1: 0.6707362532615662\n",
            "\n",
            "starting Epoch 8\n",
            "Training...\n",
            "Train loss: 0.6531781298773629\n",
            "Train loss: 0.6280664575511011\n",
            "Train loss: 0.6197448603131555\n",
            "Train loss: 0.6173128495782109\n",
            "Train loss: 0.6135243201577986\n",
            "\n",
            "Evaluating on train...\n",
            "Val loss: 0.6533990842955453, Val f1: 0.75226891040802\n",
            "Val loss: 0.6297606476422014, Val f1: 0.7280831336975098\n",
            "Val loss: 0.6226259646090594, Val f1: 0.7191929817199707\n",
            "Val loss: 0.6194063000759836, Val f1: 0.7150464057922363\n",
            "Val loss: 0.6167628209333162, Val f1: 0.7133002281188965\n",
            "\n",
            "Evaluating on test...\n",
            "Val loss: 0.8349271416664124, Val f1: 0.9049942493438721\n",
            "Val loss: 0.7088897739137922, Val f1: 0.782924234867096\n",
            "Val loss: 0.6739390384067189, Val f1: 0.751377522945404\n",
            "Val loss: 0.6604812701543172, Val f1: 0.7340458035469055\n",
            "Val loss: 0.6514096354183397, Val f1: 0.7243790626525879\n",
            "\n",
            "starting Epoch 9\n",
            "Training...\n",
            "Train loss: 0.6467196430478778\n",
            "Train loss: 0.6214245907191572\n",
            "Train loss: 0.6165354536338286\n",
            "Train loss: 0.6128058372917822\n",
            "Train loss: 0.6111213991770873\n",
            "\n",
            "Evaluating on train...\n",
            "Val loss: 0.6439366127763476, Val f1: 0.7460306882858276\n",
            "Val loss: 0.6222099127440617, Val f1: 0.719850480556488\n",
            "Val loss: 0.6158558279275894, Val f1: 0.7096518874168396\n",
            "Val loss: 0.6131504319481931, Val f1: 0.704399585723877\n",
            "Val loss: 0.6116394320049802, Val f1: 0.7018508911132812\n",
            "\n",
            "Evaluating on test...\n",
            "Val loss: 0.8294360438982645, Val f1: 0.8856794238090515\n",
            "Val loss: 0.7044781616755894, Val f1: 0.767512857913971\n",
            "Val loss: 0.6693615913391113, Val f1: 0.7372900247573853\n",
            "Val loss: 0.6558965802192688, Val f1: 0.7200796604156494\n",
            "Val loss: 0.6467232390453941, Val f1: 0.7112784385681152\n",
            "\n",
            "starting Epoch 10\n",
            "Training...\n",
            "Train loss: 0.6371461025306157\n",
            "Train loss: 0.6142741092320146\n",
            "Train loss: 0.6083420636979017\n",
            "Train loss: 0.6056773308980263\n",
            "Train loss: 0.6021636676143955\n",
            "\n",
            "Evaluating on train...\n",
            "Val loss: 0.6374464801379612, Val f1: 0.7520251274108887\n",
            "Val loss: 0.615323138648066, Val f1: 0.7246382236480713\n",
            "Val loss: 0.6089169234037399, Val f1: 0.716289758682251\n",
            "Val loss: 0.6057312983577534, Val f1: 0.7114667296409607\n",
            "Val loss: 0.6034424425782384, Val f1: 0.7093455195426941\n",
            "\n",
            "Evaluating on test...\n",
            "Val loss: 0.8215750853220621, Val f1: 0.8965694904327393\n",
            "Val loss: 0.6974729129246303, Val f1: 0.7768349051475525\n",
            "Val loss: 0.6623157533732328, Val f1: 0.7431018352508545\n",
            "Val loss: 0.6490639011065166, Val f1: 0.7248333096504211\n",
            "Val loss: 0.6399825183968795, Val f1: 0.7150341868400574\n",
            "\n",
            "starting Epoch 11\n",
            "Training...\n",
            "Train loss: 0.6298965896878924\n",
            "Train loss: 0.6078083597380539\n",
            "Train loss: 0.5999228127978065\n",
            "Train loss: 0.5983237957550307\n",
            "Train loss: 0.5964006177476935\n",
            "\n",
            "Evaluating on train...\n",
            "Val loss: 0.633514370237078, Val f1: 0.7310903668403625\n",
            "Val loss: 0.6110217920665083, Val f1: 0.7052626609802246\n",
            "Val loss: 0.6043262644247576, Val f1: 0.6983998417854309\n",
            "Val loss: 0.6013532038462364, Val f1: 0.6942692399024963\n",
            "Val loss: 0.5995352783718625, Val f1: 0.6920206546783447\n",
            "\n",
            "Evaluating on test...\n",
            "Val loss: 0.8175298770268759, Val f1: 0.8675782084465027\n",
            "Val loss: 0.694766138281141, Val f1: 0.7510757446289062\n",
            "Val loss: 0.6596657091921027, Val f1: 0.7211741805076599\n",
            "Val loss: 0.6462519884109497, Val f1: 0.7072917222976685\n",
            "Val loss: 0.6370748187366285, Val f1: 0.698529064655304\n",
            "\n",
            "starting Epoch 12\n",
            "Training...\n",
            "Train loss: 0.6242327179227557\n",
            "Train loss: 0.6094741204689289\n",
            "Train loss: 0.5997135977853428\n",
            "Train loss: 0.5956675016273887\n",
            "Train loss: 0.5921965805259911\n",
            "\n",
            "Evaluating on train...\n",
            "Val loss: 0.6250869589192527, Val f1: 0.7430582046508789\n",
            "Val loss: 0.603560184610301, Val f1: 0.7137760519981384\n",
            "Val loss: 0.5972158800471913, Val f1: 0.7063971161842346\n",
            "Val loss: 0.5939432544223333, Val f1: 0.7012817859649658\n",
            "Val loss: 0.5927750943480311, Val f1: 0.6981355547904968\n",
            "\n",
            "Evaluating on test...\n",
            "Val loss: 0.812690536181132, Val f1: 0.8716214299201965\n",
            "Val loss: 0.6901275004659381, Val f1: 0.7540620565414429\n",
            "Val loss: 0.654922528700395, Val f1: 0.7242479920387268\n",
            "Val loss: 0.6416239817937215, Val f1: 0.7100164890289307\n",
            "Val loss: 0.6325337384876452, Val f1: 0.7009710669517517\n",
            "\n",
            "starting Epoch 13\n",
            "Training...\n",
            "Train loss: 0.6151948571205139\n",
            "Train loss: 0.5972616919155779\n",
            "Train loss: 0.5920495296066458\n",
            "Train loss: 0.5889803878331589\n",
            "Train loss: 0.5864715479515694\n",
            "\n",
            "Evaluating on train...\n",
            "Val loss: 0.6150612277644021, Val f1: 0.7689065933227539\n",
            "Val loss: 0.5958026606461098, Val f1: 0.7348660826683044\n",
            "Val loss: 0.5898868658325889, Val f1: 0.7267038822174072\n",
            "Val loss: 0.5867713730214006, Val f1: 0.723500669002533\n",
            "Val loss: 0.5847253952477429, Val f1: 0.7221333384513855\n",
            "\n",
            "Evaluating on test...\n",
            "Val loss: 0.8072972297668457, Val f1: 0.906801700592041\n",
            "Val loss: 0.6840536594390869, Val f1: 0.7842925786972046\n",
            "Val loss: 0.6489680788733743, Val f1: 0.7504238486289978\n",
            "Val loss: 0.6357439796129862, Val f1: 0.7338548302650452\n",
            "Val loss: 0.6267787218093872, Val f1: 0.7254226803779602\n",
            "\n",
            "starting Epoch 14\n",
            "Training...\n",
            "Train loss: 0.6142205425671169\n",
            "Train loss: 0.5922552059436667\n",
            "Train loss: 0.5875726775689558\n",
            "Train loss: 0.5842368582547721\n",
            "Train loss: 0.5808226530616348\n",
            "\n",
            "Evaluating on train...\n",
            "Val loss: 0.6182163655757904, Val f1: 0.7457295060157776\n",
            "Val loss: 0.5930746485447062, Val f1: 0.727720320224762\n",
            "Val loss: 0.5843923037702387, Val f1: 0.7231194376945496\n",
            "Val loss: 0.5811082084300154, Val f1: 0.7187904119491577\n",
            "Val loss: 0.5794527643435711, Val f1: 0.7156445980072021\n",
            "\n",
            "Evaluating on test...\n",
            "Val loss: 0.802944560845693, Val f1: 0.8949199318885803\n",
            "Val loss: 0.6806073188781738, Val f1: 0.7726225256919861\n",
            "Val loss: 0.6454644745046442, Val f1: 0.7410398721694946\n",
            "Val loss: 0.6321395993232727, Val f1: 0.7261688709259033\n",
            "Val loss: 0.6231402378333243, Val f1: 0.7169683575630188\n",
            "\n",
            "starting Epoch 15\n",
            "Training...\n",
            "Train loss: 0.6114628442696163\n",
            "Train loss: 0.5897601534580362\n",
            "Train loss: 0.5824273269284855\n",
            "Train loss: 0.577287495136261\n",
            "Train loss: 0.5742348351994077\n",
            "\n",
            "Evaluating on train...\n",
            "Val loss: 0.6059517647538867, Val f1: 0.7791948914527893\n",
            "Val loss: 0.5838296248995024, Val f1: 0.7504078149795532\n",
            "Val loss: 0.5774282000281594, Val f1: 0.7402839660644531\n",
            "Val loss: 0.5733344332646515, Val f1: 0.7369803190231323\n",
            "Val loss: 0.571613875595299, Val f1: 0.735224723815918\n",
            "\n",
            "Evaluating on test...\n",
            "Val loss: 0.7977281808853149, Val f1: 0.9258139729499817\n",
            "Val loss: 0.6749671442168099, Val f1: 0.797709584236145\n",
            "Val loss: 0.6399061679840088, Val f1: 0.7636843323707581\n",
            "Val loss: 0.6268403212229411, Val f1: 0.7469768524169922\n",
            "Val loss: 0.6179501728007668, Val f1: 0.7381269931793213\n",
            "\n",
            "starting Epoch 16\n",
            "Training...\n",
            "Train loss: 0.6095062877450671\n",
            "Train loss: 0.5844659969724458\n",
            "Train loss: 0.5771768878806721\n",
            "Train loss: 0.5721853456254733\n",
            "Train loss: 0.5681840680740975\n",
            "\n",
            "Evaluating on train...\n",
            "Val loss: 0.6009237553392138, Val f1: 0.7639951109886169\n",
            "Val loss: 0.5780350976976855, Val f1: 0.743174135684967\n",
            "Val loss: 0.571793722835454, Val f1: 0.7347443103790283\n",
            "Val loss: 0.5694329839641765, Val f1: 0.7296106219291687\n",
            "Val loss: 0.5674385919764235, Val f1: 0.727405309677124\n",
            "\n",
            "Evaluating on test...\n",
            "Val loss: 0.7945796251296997, Val f1: 0.9075973629951477\n",
            "Val loss: 0.6728329403059823, Val f1: 0.7826502919197083\n",
            "Val loss: 0.6376715735955671, Val f1: 0.7505876421928406\n",
            "Val loss: 0.6243794798851013, Val f1: 0.7354141473770142\n",
            "Val loss: 0.6155036844705281, Val f1: 0.7268277406692505\n"
          ]
        }
      ]
    },
    {
      "cell_type": "code",
      "metadata": {
        "colab": {
          "base_uri": "https://localhost:8080/",
          "height": 295
        },
        "id": "Vt7-GsZY9oMu",
        "outputId": "34a1d589-131f-4b9c-b131-1cab94b659aa"
      },
      "source": [
        "import matplotlib.pyplot as plt\n",
        "plt.plot(losses)\n",
        "plt.plot(losses_eval)\n",
        "plt.title('BCE loss value')\n",
        "plt.ylabel('BCE loss')\n",
        "plt.xlabel('epoch')\n",
        "plt.legend(['train', 'val'], loc='upper right')\n",
        "plt.show()"
      ],
      "execution_count": null,
      "outputs": [
        {
          "output_type": "display_data",
          "data": {
            "image/png": "[encoded data removed]",
            "text/plain": [
              "<Figure size 432x288 with 1 Axes>"
            ]
          },
          "metadata": {
            "needs_background": "light"
          }
        }
      ]
    },
    {
      "cell_type": "markdown",
      "metadata": {
        "id": "I_qOG_aPFSrt"
      },
      "source": [
        "Стало получше)"
      ]
    },
    {
      "cell_type": "code",
      "metadata": {
        "colab": {
          "base_uri": "https://localhost:8080/",
          "height": 295
        },
        "id": "u9SS0IxD9o6e",
        "outputId": "108c21d2-cc07-4a4e-b8a6-9764bf16b207"
      },
      "source": [
        "import matplotlib.pyplot as plt\n",
        "plt.plot(f1s)\n",
        "plt.plot(f1s_eval)\n",
        "plt.title('f1 value')\n",
        "plt.ylabel('f1 value')\n",
        "plt.xlabel('epoch')\n",
        "plt.legend(['train', 'val'], loc='upper right')\n",
        "plt.show()"
      ],
      "execution_count": null,
      "outputs": [
        {
          "output_type": "display_data",
          "data": {
            "image/png": "[encoded data removed]",
            "text/plain": [
              "<Figure size 432x288 with 1 Axes>"
            ]
          },
          "metadata": {
            "needs_background": "light"
          }
        }
      ]
    },
    {
      "cell_type": "code",
      "metadata": {
        "id": "Mt6rQi7eiRFf"
      },
      "source": [
        "def predict(model, iterator):\n",
        "    model.eval()\n",
        "    fp = []\n",
        "    fn = []\n",
        "    tp = [] \n",
        "    tn = []\n",
        "    with torch.no_grad():\n",
        "        for i, (texts, ys) in tqdm(enumerate(iterator)):\n",
        "            preds = model(texts)  \n",
        "            for pred, gold, text in zip(preds, ys, texts):\n",
        "                text = ' '.join([id2word[int(word)] for word in text if word !=0])\n",
        "                if round(pred.item()) > gold:\n",
        "                    fp.append(text)\n",
        "                elif round(pred.item()) < gold:\n",
        "                    fn.append(text)\n",
        "                elif round(pred.item()) == gold == 1:\n",
        "                    tp.append(text)\n",
        "                elif round(pred.item()) == gold == 0:\n",
        "                    tn.append(text)\n",
        "    return fp, fn, tp, tn"
      ],
      "execution_count": null,
      "outputs": []
    },
    {
      "cell_type": "code",
      "metadata": {
        "colab": {
          "base_uri": "https://localhost:8080/"
        },
        "id": "SQq4wyX4_8tV",
        "outputId": "2b8fd628-42f3-470c-c1e3-02da65c1c5f5"
      },
      "source": [
        "fp, fn, tp, tn = predict(model, val_iterator)\n",
        "recall = len(tp)/(len(tp) + len(fn))\n",
        "precision = len(tp)/(len(tp) + len(fp))\n",
        "accuracy = (len(tp)+len(tn))/(len(fp) + len(fn) + len(tp) + len(tn))\n",
        "f_score = 2 * precision * recall / (precision + recall)\n",
        "print(recall, precision, f_score,accuracy)\n",
        "print('FN:', fn[:10])\n",
        "print('FP:', fp[:10])\n"
      ],
      "execution_count": null,
      "outputs": [
        {
          "output_type": "stream",
          "name": "stderr",
          "text": [
            "20it [00:08,  2.42it/s]"
          ]
        },
        {
          "output_type": "stream",
          "name": "stdout",
          "text": [
            "0.693026028213789 0.6868846002363135 0.6899416477104144 0.6865\n",
            "FN: ['идти нет на лекцию вроде староста не что делать буду думать до тех пор пока пара не начнется', 'новый год хочу думаю моментов будет много', 'два человека жд т или человек в лице джона и в мо м лице', 'ах как же хочется бокал вина и', 'через неделю в москве а через девять дней на быстрей бы', 'видно его мечта закончится только на подготовке ну а если серьезно то не верится но хотелось бы с', 'я тожи так думал а оказывается нит', 'спокойной ночи и не забывайте что на ночь нельзя смотреть бу', 'глупая маленькая девочка вот убивают такие люди вот что ты этим пытаешься сделать', 'когда у нас такой будет обед или ужин']\n",
            "FP: ['всем доброе утро это разве зима дождь т как из', 'самые живут так далеко', 'андрей покидает пост программы орел и решка ну все', 'привет о хотя тебе насрать', 'са со самолет л к к ба деп', 'мои волнения на моих очеень', 'когда выходили из школы я просто мега упал порвал на ребята ржали надо мной всю дорогу х', 'суббота просто ужас', 'сегодня весь день буду смотреть фильмы завтра надо за уроки сесть', 'с чего начинается утро перед новым годом с конечно']\n"
          ]
        },
        {
          "output_type": "stream",
          "name": "stderr",
          "text": [
            "\n"
          ]
        }
      ]
    },
    {
      "cell_type": "markdown",
      "metadata": {
        "id": "u1ZctleRB4w9"
      },
      "source": [
        "В FN попало много действительно negative, а в FP действительно positive. Плюс есть нейтральные. Кажется, это проблема в исходных данных (по крайней мере частично) и в том, что есть нейтральные, которые попадают везде по-разному.\n",
        "\n",
        "> Блок с отступами\n",
        "\n"
      ]
    }
  ]
}